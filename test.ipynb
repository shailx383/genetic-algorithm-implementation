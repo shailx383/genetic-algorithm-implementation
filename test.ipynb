{
 "cells": [
  {
   "cell_type": "code",
   "execution_count": 1,
   "metadata": {},
   "outputs": [],
   "source": [
    "import torch.nn as nn\n",
    "import torch.nn.functional as F\n",
    "import torch.optim as optim\n",
    "from tqdm import tqdm\n",
    "import torch\n",
    "import random"
   ]
  },
  {
   "cell_type": "code",
   "execution_count": 2,
   "metadata": {},
   "outputs": [],
   "source": [
    "SEARCH_SPACE = {\n",
    "    'k_size_a': [1, 3, 5, 7],\n",
    "    'k_size_b': [1, 3, 5, 7],\n",
    "    'out_channels_a': [8, 16, 32, 64],\n",
    "    'out_channels_b': [8, 16, 32, 64],\n",
    "    'include_pool_a': [True, False],\n",
    "    'include_pool_b': [True, False],\n",
    "    'pool_type_a': ['max_pooling','avg_pooling'],\n",
    "    'pool_type_b': ['max_pooling','avg_pooling'],\n",
    "    'activation_type_a': ['relu', 'tanh', 'elu', 'selu'],\n",
    "    'activation_type_b': ['relu', 'tanh', 'elu', 'selu'], \n",
    "    'include_b': [True, False],\n",
    "    'include_BN_a': [True, False],\n",
    "    'include_BN_b': [True, False],\n",
    "    'skip_connection': [True, False],\n",
    "}"
   ]
  },
  {
   "cell_type": "code",
   "execution_count": 3,
   "metadata": {},
   "outputs": [],
   "source": [
    "class Chromosome:\n",
    "    def __init__(self,phase:int,prev_best,genes:dict):\n",
    "        self.phase = phase\n",
    "        self.prev_best = prev_best\n",
    "        self.device = 'cuda' if torch.cuda.is_available() else 'cpu'\n",
    "        self.genes = genes\n",
    "        self.out_dimensions = prev_best.out_dimensions if phase!=0 else 32\n",
    "        self.model:nn.Module = self.build_model()\n",
    "        # self.fitness = self.fitness_function()\n",
    "\n",
    "    def build_model(self)->nn.Module:\n",
    "        if(self.prev_best!=None):\n",
    "            prev_best_model:nn.Module = self.prev_best.model\n",
    "        new_model_modules = []\n",
    "        if(self.phase!=0):\n",
    "            layer_a = nn.Conv2d(self.prev_best.genes['out_channels_b'] if self.prev_best.genes['include_b'] else self.prev_best.genes['out_channels_a'],self.genes['out_channels_a'],self.genes['k_size_a'])\n",
    "        else:\n",
    "            layer_a = nn.Conv2d(3,self.genes['out_channels_a'],self.genes['k_size_a'])\n",
    "        self.out_dimensions = (self.out_dimensions-self.genes['k_size_a']+1)\n",
    "        new_model_modules.append(layer_a)\n",
    "        if(self.genes['activation_type_a']=='relu'):\n",
    "            new_model_modules.append(nn.ReLU())\n",
    "        else:\n",
    "            new_model_modules.append(nn.Tanh())\n",
    "        if(self.genes['include_pool_a']):\n",
    "            if(self.genes['pool_type_a']=='max_pooling'):\n",
    "                new_model_modules.append(nn.MaxPool2d(2,2))\n",
    "                self.out_dimensions = self.out_dimensions//2\n",
    "            elif(self.genes['pool_type_a']=='avg_pooling'):\n",
    "                new_model_modules.append(nn.AvgPool2d(2,2))\n",
    "                self.out_dimensions = self.out_dimensions//2\n",
    "            else:\n",
    "                raise Exception('Invalid pool type (a layer)')\n",
    "        \n",
    "        if(self.genes['include_BN_a']):\n",
    "            new_model_modules.append(nn.BatchNorm2d(self.genes['out_channels_a']))\n",
    "        \n",
    "        if(self.genes['include_b'] or self.phase==0):\n",
    "            layer_b = nn.Conv2d(self.genes['out_channels_a'],self.genes['out_channels_b'],self.genes['k_size_b'])\n",
    "            self.out_dimensions = (self.out_dimensions-self.genes['k_size_b']+1)\n",
    "            new_model_modules.append(layer_b)\n",
    "            if(self.genes['activation_type_b']=='relu'):\n",
    "                new_model_modules.append(nn.ReLU())\n",
    "            else:\n",
    "                new_model_modules.append(nn.Tanh())\n",
    "            \n",
    "            if(self.genes['include_pool_b']):\n",
    "                if(self.genes['pool_type_b']=='max_pooling'):\n",
    "                    new_model_modules.append(nn.MaxPool2d(2,2))\n",
    "                    self.out_dimensions = self.out_dimensions//2\n",
    "                elif(self.genes['pool_type_b']=='avg_pooling'):\n",
    "                    new_model_modules.append(nn.AvgPool2d(2,2))\n",
    "                    self.out_dimensions = self.out_dimensions//2\n",
    "                else:\n",
    "                    raise Exception('Invalid pool type (b layer)')\n",
    "                \n",
    "            if(self.genes['include_BN_b']):\n",
    "                new_model_modules.append(nn.BatchNorm2d(self.genes['out_channels_b']))\n",
    "        if(self.phase!=0):\n",
    "            new_model = nn.Sequential(prev_best_model,*new_model_modules)\n",
    "        else:\n",
    "            new_model = nn.Sequential(*new_model_modules)\n",
    "        return new_model            \n",
    "\n",
    "    def fitness_function(self,train_loader,test_loader)->float:\n",
    "        self.model = self.model.to(self.device)\n",
    "        num_epochs = 5\n",
    "        criterion = F.nll_loss\n",
    "        optimizer = optim.Adam(self.model.parameters(), lr=0.001)\n",
    "        for epoch in range(num_epochs):\n",
    "            pbar = tqdm(train_loader)      \n",
    "            self.model.train()\n",
    "            for batch_idx, (data, target) in enumerate(pbar):\n",
    "                data, target = data.to(self.device), target.to(self.device)\n",
    "                optimizer.zero_grad()\n",
    "                output = self.forward(data)\n",
    "                loss = criterion(output, target)\n",
    "                loss.backward()\n",
    "                optimizer.step()\n",
    "                pbar.set_description(desc= f'epoch: {epoch} loss={loss.item()} batch_id={batch_idx}')\n",
    "\n",
    "        \n",
    "\n",
    "        \n",
    "    def forward(self,x:torch.Tensor):\n",
    "        if(x.shape[0]==1):\n",
    "            return self._forward_one_example(x)\n",
    "        else:\n",
    "            outputs = torch.zeros(x.shape[0],10,device = self.device)\n",
    "            for i in range(x.shape[0]):\n",
    "                outputs[i] = self._forward_one_example(x[i].unsqueeze(0))\n",
    "            return outputs\n",
    "\n",
    "    def _forward_one_example(self,x:torch.Tensor):\n",
    "        x = self.model(x)\n",
    "        if(self.genes['skip_connection']):\n",
    "            if(self.phase==0):\n",
    "                y = nn.Conv2d(3,self.genes['out_channels_b'],1)(x)\n",
    "            else:\n",
    "                y = nn.Conv2d(self.prev_best.genes['out_channels_b'] if self.prev_best.genes['include_b'] else self.prev_best.genes['out_channels_a'],self.genes['out_channels_b'] if self.genes['include_b'] else self.genes['out_channels_a'],1)(x)\n",
    "            x = x+y\n",
    "        x = x.flatten()\n",
    "        x = nn.Linear(x.shape[0],10,device=self.device)(x)\n",
    "        return F.log_softmax(x,dim = 0)\n",
    "\n",
    "    def crossover(self, chromosome):\n",
    "        genes1 = self.genes\n",
    "        genes2 = chromosome.genes\n",
    "        keys = genes1.keys()\n",
    "        new_genes = {}\n",
    "        for key in keys:\n",
    "            new_genes[key] = random.choice([genes1[key], genes2[key]])\n",
    "        new_chromosome = Chromosome(self.phase, self.prev_best, new_genes)\n",
    "        return new_chromosome \n",
    "    \n",
    "    def mutation(self):\n",
    "        mutated_gene = random.choice(list(self.genes.keys()))\n",
    "        possible_values = [value for value in SEARCH_SPACE[mutated_gene]]\n",
    "        possible_values.remove(self.genes[mutated_gene])\n",
    "        new_gene_value = random.choice(possible_values)\n",
    "        self.genes[mutated_gene] = new_gene_value\n",
    "        \n",
    "\n",
    "        "
   ]
  },
  {
   "cell_type": "code",
   "execution_count": 4,
   "metadata": {},
   "outputs": [],
   "source": [
    "random_genes1 = {\n",
    "    'k_size_a': 3,\n",
    "    'k_size_b': 3,\n",
    "    'out_channels_a': 16,\n",
    "    'out_channels_b': 16,\n",
    "    'include_pool_a': True,\n",
    "    'include_pool_b': False,\n",
    "    'pool_type_a': 'max_pooling',\n",
    "    'pool_type_b': 'max_pooling',\n",
    "    'activation_type_a': 'relu',\n",
    "    'activation_type_b': 'relu',\n",
    "    'include_b': False,\n",
    "    'include_BN_a': True,\n",
    "    'include_BN_b': True,\n",
    "    'skip_connection': False,\n",
    "}\n",
    "random_genes2 = {\n",
    "    'k_size_a': 5,\n",
    "    'k_size_b': 3,\n",
    "    'out_channels_a': 32,\n",
    "    'out_channels_b': 64,\n",
    "    'include_pool_a': False,\n",
    "    'include_pool_b': True,\n",
    "    'pool_type_a': 'avg_pooling',\n",
    "    'pool_type_b': 'max_pooling',\n",
    "    'activation_type_a': 'elu',\n",
    "    'activation_type_b': 'tanh',\n",
    "    'include_b': True,\n",
    "    'include_BN_a': False,\n",
    "    'include_BN_b': True,\n",
    "    'skip_connection': True,\n",
    "}"
   ]
  },
  {
   "cell_type": "code",
   "execution_count": 5,
   "metadata": {},
   "outputs": [],
   "source": [
    "def crossover(genes1, genes2):\n",
    "    keys = genes1.keys()\n",
    "    new_genes = {}\n",
    "    for key in keys:\n",
    "        new_genes[key] = random.choice([genes1[key], genes2[key]])\n",
    "    return new_genes"
   ]
  },
  {
   "cell_type": "code",
   "execution_count": 6,
   "metadata": {},
   "outputs": [
    {
     "data": {
      "text/plain": [
       "{'k_size_a': 3,\n",
       " 'k_size_b': 3,\n",
       " 'out_channels_a': 32,\n",
       " 'out_channels_b': 16,\n",
       " 'include_pool_a': True,\n",
       " 'include_pool_b': True,\n",
       " 'pool_type_a': 'max_pooling',\n",
       " 'pool_type_b': 'max_pooling',\n",
       " 'activation_type_a': 'relu',\n",
       " 'activation_type_b': 'tanh',\n",
       " 'include_b': True,\n",
       " 'include_BN_a': True,\n",
       " 'include_BN_b': True,\n",
       " 'skip_connection': True}"
      ]
     },
     "execution_count": 6,
     "metadata": {},
     "output_type": "execute_result"
    }
   ],
   "source": [
    "crossover(random_genes1, random_genes2)"
   ]
  },
  {
   "cell_type": "code",
   "execution_count": 7,
   "metadata": {},
   "outputs": [],
   "source": [
    "def mutation(genes):\n",
    "    mutated_gene = random.choice(list(genes.keys()))\n",
    "    print(mutated_gene)\n",
    "    possible_values = [value for value in SEARCH_SPACE[mutated_gene]]\n",
    "    possible_values.remove(genes[mutated_gene])\n",
    "    new_gene_value = random.choice(possible_values)\n",
    "    genes[mutated_gene] = new_gene_value\n",
    "    print(genes)"
   ]
  },
  {
   "cell_type": "code",
   "execution_count": 8,
   "metadata": {},
   "outputs": [
    {
     "name": "stdout",
     "output_type": "stream",
     "text": [
      "k_size_b\n",
      "{'k_size_a': 5, 'k_size_b': 7, 'out_channels_a': 32, 'out_channels_b': 64, 'include_pool_a': False, 'include_pool_b': True, 'pool_type_a': 'avg_pooling', 'pool_type_b': 'max_pooling', 'activation_type_a': 'elu', 'activation_type_b': 'tanh', 'include_b': True, 'include_BN_a': False, 'include_BN_b': True, 'skip_connection': True}\n"
     ]
    }
   ],
   "source": [
    "mutation(random_genes2)"
   ]
  },
  {
   "cell_type": "code",
   "execution_count": 9,
   "metadata": {},
   "outputs": [
    {
     "data": {
      "text/plain": [
       "dict_keys(['a', 'b'])"
      ]
     },
     "execution_count": 9,
     "metadata": {},
     "output_type": "execute_result"
    }
   ],
   "source": [
    "d = {'a': 1, 'b': 3}\n",
    "d.keys()"
   ]
  },
  {
   "cell_type": "code",
   "execution_count": null,
   "metadata": {},
   "outputs": [],
   "source": []
  }
 ],
 "metadata": {
  "kernelspec": {
   "display_name": "dl-project",
   "language": "python",
   "name": "python3"
  },
  "language_info": {
   "codemirror_mode": {
    "name": "ipython",
    "version": 3
   },
   "file_extension": ".py",
   "mimetype": "text/x-python",
   "name": "python",
   "nbconvert_exporter": "python",
   "pygments_lexer": "ipython3",
   "version": "3.10.12"
  }
 },
 "nbformat": 4,
 "nbformat_minor": 2
}
