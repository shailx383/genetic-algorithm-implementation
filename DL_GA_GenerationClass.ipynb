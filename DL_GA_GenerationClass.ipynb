{
  "cells": [
    {
      "cell_type": "code",
      "execution_count": 2,
      "metadata": {
        "id": "N8A1cQwWfY-o"
      },
      "outputs": [],
      "source": [
        "import random"
      ]
    },
    {
      "cell_type": "code",
      "execution_count": 3,
      "metadata": {},
      "outputs": [],
      "source": [
        "SEARCH_SPACE = {\n",
        "    'k_size_a': [1, 3, 5, 7],\n",
        "    'k_size_b': [1, 3, 5, 7],\n",
        "    'out_channels_a': [8, 16, 32, 64],\n",
        "    'out_channels_b': [8, 16, 32, 64],\n",
        "    'include_pool_a': [True, False],\n",
        "    'include_pool_b': [True, False],\n",
        "    'pool_type_a': ['max_pooling','avg_pooling'],\n",
        "    'pool_type_b': ['max_pooling','avg_pooling'],\n",
        "    'activation_type_a': ['relu', 'tanh', 'elu', 'selu'],\n",
        "    'activation_type_b': ['relu', 'tanh', 'elu', 'selu'],\n",
        "    'include_b': [True, False],\n",
        "    'include_BN_a': [True, False],\n",
        "    'include_BN_b': [True, False],\n",
        "    'skip_connection': [True, False],\n",
        "}"
      ]
    },
    {
      "cell_type": "code",
      "execution_count": 4,
      "metadata": {
        "colab": {
          "base_uri": "https://localhost:8080/",
          "height": 145
        },
        "id": "DlGdbBnmffMW",
        "outputId": "a215131f-cf1e-4764-c924-5be1db7e508d"
      },
      "outputs": [
        {
          "ename": "NameError",
          "evalue": "name 'Chromosome' is not defined",
          "output_type": "error",
          "traceback": [
            "\u001b[0;31m---------------------------------------------------------------------------\u001b[0m",
            "\u001b[0;31mNameError\u001b[0m                                 Traceback (most recent call last)",
            "\u001b[1;32m/Users/ayushbhauwala/Documents/BITS/Year 3/Sem 1/CS F425 DL/project/genetic-algorithm-implementation/DL_GA_GenerationClass.ipynb Cell 3\u001b[0m line \u001b[0;36m1\n\u001b[0;32m----> <a href='vscode-notebook-cell:/Users/ayushbhauwala/Documents/BITS/Year%203/Sem%201/CS%20F425%20DL/project/genetic-algorithm-implementation/DL_GA_GenerationClass.ipynb#W1sZmlsZQ%3D%3D?line=0'>1</a>\u001b[0m \u001b[39mclass\u001b[39;00m \u001b[39mGeneration\u001b[39;00m():\n\u001b[1;32m      <a href='vscode-notebook-cell:/Users/ayushbhauwala/Documents/BITS/Year%203/Sem%201/CS%20F425%20DL/project/genetic-algorithm-implementation/DL_GA_GenerationClass.ipynb#W1sZmlsZQ%3D%3D?line=1'>2</a>\u001b[0m   \u001b[39mdef\u001b[39;00m \u001b[39m__init__\u001b[39m(\u001b[39mself\u001b[39m,\n\u001b[1;32m      <a href='vscode-notebook-cell:/Users/ayushbhauwala/Documents/BITS/Year%203/Sem%201/CS%20F425%20DL/project/genetic-algorithm-implementation/DL_GA_GenerationClass.ipynb#W1sZmlsZQ%3D%3D?line=2'>3</a>\u001b[0m                fit_survival_rate: \u001b[39mfloat\u001b[39m,\n\u001b[1;32m      <a href='vscode-notebook-cell:/Users/ayushbhauwala/Documents/BITS/Year%203/Sem%201/CS%20F425%20DL/project/genetic-algorithm-implementation/DL_GA_GenerationClass.ipynb#W1sZmlsZQ%3D%3D?line=3'>4</a>\u001b[0m                unfit_survival_rate: \u001b[39mfloat\u001b[39m,\n\u001b[0;32m   (...)\u001b[0m\n\u001b[1;32m      <a href='vscode-notebook-cell:/Users/ayushbhauwala/Documents/BITS/Year%203/Sem%201/CS%20F425%20DL/project/genetic-algorithm-implementation/DL_GA_GenerationClass.ipynb#W1sZmlsZQ%3D%3D?line=7'>8</a>\u001b[0m                search_space: \u001b[39mdict\u001b[39m,\n\u001b[1;32m      <a href='vscode-notebook-cell:/Users/ayushbhauwala/Documents/BITS/Year%203/Sem%201/CS%20F425%20DL/project/genetic-algorithm-implementation/DL_GA_GenerationClass.ipynb#W1sZmlsZQ%3D%3D?line=8'>9</a>\u001b[0m                prev_best: Chromosome):\n\u001b[1;32m     <a href='vscode-notebook-cell:/Users/ayushbhauwala/Documents/BITS/Year%203/Sem%201/CS%20F425%20DL/project/genetic-algorithm-implementation/DL_GA_GenerationClass.ipynb#W1sZmlsZQ%3D%3D?line=9'>10</a>\u001b[0m     \u001b[39mself\u001b[39m\u001b[39m.\u001b[39mfit_survival_rate \u001b[39m=\u001b[39m fit_survival_rate\n",
            "\u001b[1;32m/Users/ayushbhauwala/Documents/BITS/Year 3/Sem 1/CS F425 DL/project/genetic-algorithm-implementation/DL_GA_GenerationClass.ipynb Cell 3\u001b[0m line \u001b[0;36m9\n\u001b[1;32m      <a href='vscode-notebook-cell:/Users/ayushbhauwala/Documents/BITS/Year%203/Sem%201/CS%20F425%20DL/project/genetic-algorithm-implementation/DL_GA_GenerationClass.ipynb#W1sZmlsZQ%3D%3D?line=0'>1</a>\u001b[0m \u001b[39mclass\u001b[39;00m \u001b[39mGeneration\u001b[39;00m():\n\u001b[1;32m      <a href='vscode-notebook-cell:/Users/ayushbhauwala/Documents/BITS/Year%203/Sem%201/CS%20F425%20DL/project/genetic-algorithm-implementation/DL_GA_GenerationClass.ipynb#W1sZmlsZQ%3D%3D?line=1'>2</a>\u001b[0m   \u001b[39mdef\u001b[39;00m \u001b[39m__init__\u001b[39m(\u001b[39mself\u001b[39m,\n\u001b[1;32m      <a href='vscode-notebook-cell:/Users/ayushbhauwala/Documents/BITS/Year%203/Sem%201/CS%20F425%20DL/project/genetic-algorithm-implementation/DL_GA_GenerationClass.ipynb#W1sZmlsZQ%3D%3D?line=2'>3</a>\u001b[0m                fit_survival_rate: \u001b[39mfloat\u001b[39m,\n\u001b[1;32m      <a href='vscode-notebook-cell:/Users/ayushbhauwala/Documents/BITS/Year%203/Sem%201/CS%20F425%20DL/project/genetic-algorithm-implementation/DL_GA_GenerationClass.ipynb#W1sZmlsZQ%3D%3D?line=3'>4</a>\u001b[0m                unfit_survival_rate: \u001b[39mfloat\u001b[39m,\n\u001b[1;32m      <a href='vscode-notebook-cell:/Users/ayushbhauwala/Documents/BITS/Year%203/Sem%201/CS%20F425%20DL/project/genetic-algorithm-implementation/DL_GA_GenerationClass.ipynb#W1sZmlsZQ%3D%3D?line=4'>5</a>\u001b[0m                mutation_rate: \u001b[39mfloat\u001b[39m,\n\u001b[1;32m      <a href='vscode-notebook-cell:/Users/ayushbhauwala/Documents/BITS/Year%203/Sem%201/CS%20F425%20DL/project/genetic-algorithm-implementation/DL_GA_GenerationClass.ipynb#W1sZmlsZQ%3D%3D?line=5'>6</a>\u001b[0m                pop_size: \u001b[39mint\u001b[39m,\n\u001b[1;32m      <a href='vscode-notebook-cell:/Users/ayushbhauwala/Documents/BITS/Year%203/Sem%201/CS%20F425%20DL/project/genetic-algorithm-implementation/DL_GA_GenerationClass.ipynb#W1sZmlsZQ%3D%3D?line=6'>7</a>\u001b[0m                phase: \u001b[39mint\u001b[39m,\n\u001b[1;32m      <a href='vscode-notebook-cell:/Users/ayushbhauwala/Documents/BITS/Year%203/Sem%201/CS%20F425%20DL/project/genetic-algorithm-implementation/DL_GA_GenerationClass.ipynb#W1sZmlsZQ%3D%3D?line=7'>8</a>\u001b[0m                search_space: \u001b[39mdict\u001b[39m,\n\u001b[0;32m----> <a href='vscode-notebook-cell:/Users/ayushbhauwala/Documents/BITS/Year%203/Sem%201/CS%20F425%20DL/project/genetic-algorithm-implementation/DL_GA_GenerationClass.ipynb#W1sZmlsZQ%3D%3D?line=8'>9</a>\u001b[0m                prev_best: Chromosome):\n\u001b[1;32m     <a href='vscode-notebook-cell:/Users/ayushbhauwala/Documents/BITS/Year%203/Sem%201/CS%20F425%20DL/project/genetic-algorithm-implementation/DL_GA_GenerationClass.ipynb#W1sZmlsZQ%3D%3D?line=9'>10</a>\u001b[0m     \u001b[39mself\u001b[39m\u001b[39m.\u001b[39mfit_survival_rate \u001b[39m=\u001b[39m fit_survival_rate\n\u001b[1;32m     <a href='vscode-notebook-cell:/Users/ayushbhauwala/Documents/BITS/Year%203/Sem%201/CS%20F425%20DL/project/genetic-algorithm-implementation/DL_GA_GenerationClass.ipynb#W1sZmlsZQ%3D%3D?line=10'>11</a>\u001b[0m     \u001b[39mself\u001b[39m\u001b[39m.\u001b[39munfit_survival_rate \u001b[39m=\u001b[39m unfit_survival_rate\n",
            "\u001b[0;31mNameError\u001b[0m: name 'Chromosome' is not defined"
          ]
        }
      ],
      "source": [
        "class Generation():\n",
        "  def __init__(self,\n",
        "               fit_survival_rate: float,\n",
        "               unfit_survival_rate: float,\n",
        "               mutation_rate: float,\n",
        "               pop_size: int,\n",
        "               phase: int,\n",
        "               search_space: dict,\n",
        "               prev_best: Chromosome):\n",
        "    self.fit_survival_rate = fit_survival_rate\n",
        "    self.unfit_survival_rate = unfit_survival_rate\n",
        "    self.mutation_rate = mutation_rate\n",
        "    self.pop_size = pop_size\n",
        "    self.pop = []\n",
        "\n",
        "    for i in range(pop_size):\n",
        "      self.pop.append(Chromosome(phase = phase,\n",
        "                            prev_best = prev_best,\n",
        "                            genes = self.make_gene(search_space)))\n",
        "      \n",
        "  def make_gene(search_space: dict):\n",
        "    gene = {}\n",
        "    keys = search_space.keys()\n",
        "    for key in keys:\n",
        "      gene[key] = random.choice(search_space[key])\n",
        "\n",
        "    return gene\n",
        "\n",
        "  def sort_pop(self):\n",
        "    sorted_pop = sorted(self.pop,\n",
        "                        key = lambda x: x.fitness)\n",
        "    self.pop = sorted_pop\n",
        "\n",
        "  def generate(self):\n",
        "    num_fit_selected = int(self.fit_survival_rate * self.pop_size)\n",
        "    num_unfit_selected = int(self.unfit_survival_rate * self.pop_size)\n",
        "    num_mutate = int(self.mutation_rate * self.pop_size)\n",
        "\n",
        "    new_pop = []\n",
        "\n",
        "    for i in range(num_fit_selected):\n",
        "      new_pop.append(self.pop[i])\n",
        "\n",
        "    for i in range(num_unfit_selected):\n",
        "      new_pop.append(self.pop[self.pop_size - i - 1])\n",
        "\n",
        "    if(num_mutate > len(new_pop)):\n",
        "      indices_to_mutate = random.sample(range(0, len(new_pop)), num_mutate)\n",
        "    else:\n",
        "      indices_to_mutate = random.sample(range(0, len(new_pop)), len(new_pop))\n",
        "\n",
        "    for i in indices_to_mutate:\n",
        "      new_pop[i].mutate()\n",
        "\n",
        "    parents_list = []\n",
        "    for i in range(self.pop_size):\n",
        "      parents = random.sample(range(0, len(new_pop)), 2)\n",
        "      parents_list.append(tuple(parents))\n",
        "\n",
        "    for p1, p2 in parents_list:\n",
        "      new_pop.append(new_pop[p1].crossover(new_pop[p2]))\n",
        "    \n",
        "    self.pop = new_pop\n",
        "  \n",
        "  def find_fittest(self):\n",
        "    self.sort_pop()\n",
        "    return self.pop[0]\n"
      ]
    }
  ],
  "metadata": {
    "colab": {
      "provenance": []
    },
    "kernelspec": {
      "display_name": "Python 3",
      "name": "python3"
    },
    "language_info": {
      "codemirror_mode": {
        "name": "ipython",
        "version": 3
      },
      "file_extension": ".py",
      "mimetype": "text/x-python",
      "name": "python",
      "nbconvert_exporter": "python",
      "pygments_lexer": "ipython3",
      "version": "3.9.6"
    }
  },
  "nbformat": 4,
  "nbformat_minor": 0
}
