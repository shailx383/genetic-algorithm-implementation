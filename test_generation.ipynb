{
 "cells": [
  {
   "cell_type": "code",
   "execution_count": 2,
   "metadata": {},
   "outputs": [],
   "source": [
    "import torch.nn as nn\n",
    "import torch.nn.functional as F\n",
    "from torchvision import datasets, transforms\n",
    "import torch\n",
    "from chromosome import Chromosome, SEARCH_SPACE\n",
    "from generation import Generation"
   ]
  },
  {
   "cell_type": "code",
   "execution_count": 3,
   "metadata": {},
   "outputs": [
    {
     "name": "stdout",
     "output_type": "stream",
     "text": [
      "Files already downloaded and verified\n",
      "Files already downloaded and verified\n"
     ]
    }
   ],
   "source": [
    "#download dataset cifar10\n",
    "trainset = datasets.CIFAR10(root='./data', train=True, download=True, transform=transforms.ToTensor())\n",
    "kwargs = {'batch_size': 64, 'shuffle': True, 'num_workers': 2, 'pin_memory': True}\n",
    "train_loader = torch.utils.data.DataLoader(trainset, **kwargs)\n",
    "testset = datasets.CIFAR10(root='./data', train=False, download=True, transform=transforms.ToTensor())\n",
    "test_loader = torch.utils.data.DataLoader(testset, **kwargs)"
   ]
  },
  {
   "cell_type": "code",
   "execution_count": 4,
   "metadata": {},
   "outputs": [],
   "source": [
    "FIT_SURVIVAL_RATE = 0.5\n",
    "UNFIT_SURVIVAL_RATE = 0.2\n",
    "MUTATION_RATE = 0.1"
   ]
  },
  {
   "cell_type": "code",
   "execution_count": 5,
   "metadata": {},
   "outputs": [
    {
     "name": "stderr",
     "output_type": "stream",
     "text": [
      "epoch 0 loss=1.3742667436599731 batch_id=781: 100%|██████████| 782/782 [00:03<00:00, 220.22it/s]\n"
     ]
    },
    {
     "name": "stdout",
     "output_type": "stream",
     "text": [
      "Validation accuracy: 53.36\n"
     ]
    },
    {
     "name": "stderr",
     "output_type": "stream",
     "text": [
      "epoch 1 loss=1.1312869787216187 batch_id=781: 100%|██████████| 782/782 [00:03<00:00, 244.22it/s]\n"
     ]
    },
    {
     "name": "stdout",
     "output_type": "stream",
     "text": [
      "Validation accuracy: 59.04\n"
     ]
    },
    {
     "name": "stderr",
     "output_type": "stream",
     "text": [
      "epoch 2 loss=1.1840583086013794 batch_id=781: 100%|██████████| 782/782 [00:03<00:00, 244.35it/s]\n"
     ]
    },
    {
     "name": "stdout",
     "output_type": "stream",
     "text": [
      "Validation accuracy: 57.63\n"
     ]
    },
    {
     "name": "stderr",
     "output_type": "stream",
     "text": [
      "epoch 3 loss=1.0825437307357788 batch_id=781: 100%|██████████| 782/782 [00:03<00:00, 257.65it/s]\n"
     ]
    },
    {
     "name": "stdout",
     "output_type": "stream",
     "text": [
      "Validation accuracy: 59.77\n"
     ]
    },
    {
     "name": "stderr",
     "output_type": "stream",
     "text": [
      "epoch 4 loss=0.8649777173995972 batch_id=781: 100%|██████████| 782/782 [00:03<00:00, 254.95it/s]\n"
     ]
    },
    {
     "name": "stdout",
     "output_type": "stream",
     "text": [
      "Validation accuracy: 58.26\n",
      "Fitness calculated: 58.26\n"
     ]
    },
    {
     "name": "stderr",
     "output_type": "stream",
     "text": [
      "epoch 0 loss=1.2448323965072632 batch_id=781: 100%|██████████| 782/782 [00:02<00:00, 369.13it/s]\n"
     ]
    },
    {
     "name": "stdout",
     "output_type": "stream",
     "text": [
      "Validation accuracy: 52.52\n"
     ]
    },
    {
     "name": "stderr",
     "output_type": "stream",
     "text": [
      "epoch 1 loss=1.6104679107666016 batch_id=781: 100%|██████████| 782/782 [00:02<00:00, 374.41it/s]\n"
     ]
    },
    {
     "name": "stdout",
     "output_type": "stream",
     "text": [
      "Validation accuracy: 57.9\n"
     ]
    },
    {
     "name": "stderr",
     "output_type": "stream",
     "text": [
      "epoch 2 loss=1.1658490896224976 batch_id=781: 100%|██████████| 782/782 [00:02<00:00, 377.11it/s]\n"
     ]
    },
    {
     "name": "stdout",
     "output_type": "stream",
     "text": [
      "Validation accuracy: 58.54\n"
     ]
    },
    {
     "name": "stderr",
     "output_type": "stream",
     "text": [
      "epoch 3 loss=0.7361908555030823 batch_id=781: 100%|██████████| 782/782 [00:02<00:00, 382.32it/s]\n"
     ]
    },
    {
     "name": "stdout",
     "output_type": "stream",
     "text": [
      "Validation accuracy: 53.65\n"
     ]
    },
    {
     "name": "stderr",
     "output_type": "stream",
     "text": [
      "epoch 4 loss=1.1027323007583618 batch_id=781: 100%|██████████| 782/782 [00:02<00:00, 368.99it/s]\n"
     ]
    },
    {
     "name": "stdout",
     "output_type": "stream",
     "text": [
      "Validation accuracy: 57.11\n",
      "Fitness calculated: 57.11\n"
     ]
    },
    {
     "name": "stderr",
     "output_type": "stream",
     "text": [
      "epoch 0 loss=1.544906735420227 batch_id=781: 100%|██████████| 782/782 [00:03<00:00, 236.16it/s] \n"
     ]
    },
    {
     "name": "stdout",
     "output_type": "stream",
     "text": [
      "Validation accuracy: 41.75\n"
     ]
    },
    {
     "name": "stderr",
     "output_type": "stream",
     "text": [
      "epoch 1 loss=1.6552191972732544 batch_id=781: 100%|██████████| 782/782 [00:03<00:00, 234.88it/s]\n"
     ]
    },
    {
     "name": "stdout",
     "output_type": "stream",
     "text": [
      "Validation accuracy: 47.81\n"
     ]
    },
    {
     "name": "stderr",
     "output_type": "stream",
     "text": [
      "epoch 2 loss=1.5046172142028809 batch_id=781: 100%|██████████| 782/782 [00:03<00:00, 229.10it/s]\n"
     ]
    },
    {
     "name": "stdout",
     "output_type": "stream",
     "text": [
      "Validation accuracy: 48.62\n"
     ]
    },
    {
     "name": "stderr",
     "output_type": "stream",
     "text": [
      "epoch 3 loss=1.2992385625839233 batch_id=781: 100%|██████████| 782/782 [00:03<00:00, 211.35it/s]\n"
     ]
    },
    {
     "name": "stdout",
     "output_type": "stream",
     "text": [
      "Validation accuracy: 40.07\n"
     ]
    },
    {
     "name": "stderr",
     "output_type": "stream",
     "text": [
      "epoch 4 loss=1.3708831071853638 batch_id=781: 100%|██████████| 782/782 [00:03<00:00, 214.39it/s]\n"
     ]
    },
    {
     "name": "stdout",
     "output_type": "stream",
     "text": [
      "Validation accuracy: 52.17\n",
      "Fitness calculated: 52.17\n"
     ]
    },
    {
     "name": "stderr",
     "output_type": "stream",
     "text": [
      "epoch 0 loss=1.4914475679397583 batch_id=781: 100%|██████████| 782/782 [00:02<00:00, 309.41it/s]\n"
     ]
    },
    {
     "name": "stdout",
     "output_type": "stream",
     "text": [
      "Validation accuracy: 45.37\n"
     ]
    },
    {
     "name": "stderr",
     "output_type": "stream",
     "text": [
      "epoch 1 loss=1.434234380722046 batch_id=781: 100%|██████████| 782/782 [00:02<00:00, 267.01it/s] \n"
     ]
    },
    {
     "name": "stdout",
     "output_type": "stream",
     "text": [
      "Validation accuracy: 50.42\n"
     ]
    },
    {
     "name": "stderr",
     "output_type": "stream",
     "text": [
      "epoch 2 loss=0.9414346218109131 batch_id=781: 100%|██████████| 782/782 [00:03<00:00, 252.66it/s]\n"
     ]
    },
    {
     "name": "stdout",
     "output_type": "stream",
     "text": [
      "Validation accuracy: 51.01\n"
     ]
    },
    {
     "name": "stderr",
     "output_type": "stream",
     "text": [
      "epoch 3 loss=0.9107270240783691 batch_id=781: 100%|██████████| 782/782 [00:02<00:00, 290.92it/s]\n"
     ]
    },
    {
     "name": "stdout",
     "output_type": "stream",
     "text": [
      "Validation accuracy: 52.53\n"
     ]
    },
    {
     "name": "stderr",
     "output_type": "stream",
     "text": [
      "epoch 4 loss=0.8573064208030701 batch_id=781: 100%|██████████| 782/782 [00:02<00:00, 293.99it/s]\n"
     ]
    },
    {
     "name": "stdout",
     "output_type": "stream",
     "text": [
      "Validation accuracy: 51.8\n",
      "Fitness calculated: 51.8\n"
     ]
    },
    {
     "name": "stderr",
     "output_type": "stream",
     "text": [
      "epoch 0 loss=2.3699753284454346 batch_id=781: 100%|██████████| 782/782 [00:04<00:00, 160.72it/s]\n"
     ]
    },
    {
     "name": "stdout",
     "output_type": "stream",
     "text": [
      "Validation accuracy: 39.43\n"
     ]
    },
    {
     "name": "stderr",
     "output_type": "stream",
     "text": [
      "epoch 1 loss=1.6609268188476562 batch_id=781: 100%|██████████| 782/782 [00:04<00:00, 163.45it/s]\n"
     ]
    },
    {
     "name": "stdout",
     "output_type": "stream",
     "text": [
      "Validation accuracy: 39.07\n"
     ]
    },
    {
     "name": "stderr",
     "output_type": "stream",
     "text": [
      "epoch 2 loss=1.4815266132354736 batch_id=781: 100%|██████████| 782/782 [00:04<00:00, 169.60it/s]\n"
     ]
    },
    {
     "name": "stdout",
     "output_type": "stream",
     "text": [
      "Validation accuracy: 45.95\n"
     ]
    },
    {
     "name": "stderr",
     "output_type": "stream",
     "text": [
      "epoch 3 loss=1.3450419902801514 batch_id=781: 100%|██████████| 782/782 [00:04<00:00, 170.22it/s]\n"
     ]
    },
    {
     "name": "stdout",
     "output_type": "stream",
     "text": [
      "Validation accuracy: 45.89\n"
     ]
    },
    {
     "name": "stderr",
     "output_type": "stream",
     "text": [
      "epoch 4 loss=1.1022484302520752 batch_id=781: 100%|██████████| 782/782 [00:04<00:00, 160.34it/s]\n"
     ]
    },
    {
     "name": "stdout",
     "output_type": "stream",
     "text": [
      "Validation accuracy: 47.17\n",
      "Fitness calculated: 47.17\n"
     ]
    },
    {
     "name": "stderr",
     "output_type": "stream",
     "text": [
      "epoch 0 loss=1.3091319799423218 batch_id=781: 100%|██████████| 782/782 [00:03<00:00, 212.88it/s]\n"
     ]
    },
    {
     "name": "stdout",
     "output_type": "stream",
     "text": [
      "Validation accuracy: 46.23\n"
     ]
    },
    {
     "name": "stderr",
     "output_type": "stream",
     "text": [
      "epoch 1 loss=1.821473240852356 batch_id=781: 100%|██████████| 782/782 [00:03<00:00, 206.81it/s] \n"
     ]
    },
    {
     "name": "stdout",
     "output_type": "stream",
     "text": [
      "Validation accuracy: 54.11\n"
     ]
    },
    {
     "name": "stderr",
     "output_type": "stream",
     "text": [
      "epoch 2 loss=1.0740084648132324 batch_id=781: 100%|██████████| 782/782 [00:03<00:00, 221.37it/s]\n"
     ]
    },
    {
     "name": "stdout",
     "output_type": "stream",
     "text": [
      "Validation accuracy: 56.22\n"
     ]
    },
    {
     "name": "stderr",
     "output_type": "stream",
     "text": [
      "epoch 3 loss=0.8777109384536743 batch_id=781: 100%|██████████| 782/782 [00:03<00:00, 222.48it/s]\n"
     ]
    },
    {
     "name": "stdout",
     "output_type": "stream",
     "text": [
      "Validation accuracy: 57.75\n"
     ]
    },
    {
     "name": "stderr",
     "output_type": "stream",
     "text": [
      "epoch 4 loss=1.4102089405059814 batch_id=781: 100%|██████████| 782/782 [00:03<00:00, 222.34it/s]\n"
     ]
    },
    {
     "name": "stdout",
     "output_type": "stream",
     "text": [
      "Validation accuracy: 57.11\n",
      "Fitness calculated: 57.11\n"
     ]
    },
    {
     "name": "stderr",
     "output_type": "stream",
     "text": [
      "epoch 0 loss=0.8187016248703003 batch_id=781: 100%|██████████| 782/782 [00:02<00:00, 303.11it/s]\n"
     ]
    },
    {
     "name": "stdout",
     "output_type": "stream",
     "text": [
      "Validation accuracy: 50.16\n"
     ]
    },
    {
     "name": "stderr",
     "output_type": "stream",
     "text": [
      "epoch 1 loss=1.8219938278198242 batch_id=781: 100%|██████████| 782/782 [00:02<00:00, 299.48it/s]\n"
     ]
    },
    {
     "name": "stdout",
     "output_type": "stream",
     "text": [
      "Validation accuracy: 59.17\n"
     ]
    },
    {
     "name": "stderr",
     "output_type": "stream",
     "text": [
      "epoch 2 loss=0.6880283951759338 batch_id=781: 100%|██████████| 782/782 [00:02<00:00, 322.45it/s] \n"
     ]
    },
    {
     "name": "stdout",
     "output_type": "stream",
     "text": [
      "Validation accuracy: 60.33\n"
     ]
    },
    {
     "name": "stderr",
     "output_type": "stream",
     "text": [
      "epoch 3 loss=1.1187750101089478 batch_id=781: 100%|██████████| 782/782 [00:02<00:00, 302.60it/s] \n"
     ]
    },
    {
     "name": "stdout",
     "output_type": "stream",
     "text": [
      "Validation accuracy: 59.48\n"
     ]
    },
    {
     "name": "stderr",
     "output_type": "stream",
     "text": [
      "epoch 4 loss=1.1536386013031006 batch_id=781: 100%|██████████| 782/782 [00:02<00:00, 325.99it/s] \n"
     ]
    },
    {
     "name": "stdout",
     "output_type": "stream",
     "text": [
      "Validation accuracy: 59.29\n",
      "Fitness calculated: 59.29\n"
     ]
    },
    {
     "name": "stderr",
     "output_type": "stream",
     "text": [
      "epoch 0 loss=1.4423422813415527 batch_id=781: 100%|██████████| 782/782 [00:05<00:00, 146.52it/s]\n"
     ]
    },
    {
     "name": "stdout",
     "output_type": "stream",
     "text": [
      "Validation accuracy: 46.68\n"
     ]
    },
    {
     "name": "stderr",
     "output_type": "stream",
     "text": [
      "epoch 1 loss=1.3028801679611206 batch_id=781: 100%|██████████| 782/782 [00:05<00:00, 147.46it/s]\n"
     ]
    },
    {
     "name": "stdout",
     "output_type": "stream",
     "text": [
      "Validation accuracy: 48.94\n"
     ]
    },
    {
     "name": "stderr",
     "output_type": "stream",
     "text": [
      "epoch 2 loss=1.4982426166534424 batch_id=781: 100%|██████████| 782/782 [00:05<00:00, 144.02it/s]\n"
     ]
    },
    {
     "name": "stdout",
     "output_type": "stream",
     "text": [
      "Validation accuracy: 50.34\n"
     ]
    },
    {
     "name": "stderr",
     "output_type": "stream",
     "text": [
      "epoch 3 loss=1.0504662990570068 batch_id=781: 100%|██████████| 782/782 [00:05<00:00, 147.99it/s]\n"
     ]
    },
    {
     "name": "stdout",
     "output_type": "stream",
     "text": [
      "Validation accuracy: 52.43\n"
     ]
    },
    {
     "name": "stderr",
     "output_type": "stream",
     "text": [
      "epoch 4 loss=1.003633975982666 batch_id=781: 100%|██████████| 782/782 [00:05<00:00, 144.78it/s] \n"
     ]
    },
    {
     "name": "stdout",
     "output_type": "stream",
     "text": [
      "Validation accuracy: 52.06\n",
      "Fitness calculated: 52.06\n"
     ]
    },
    {
     "name": "stderr",
     "output_type": "stream",
     "text": [
      "epoch 0 loss=3.3304154872894287 batch_id=781: 100%|██████████| 782/782 [00:06<00:00, 120.44it/s]\n"
     ]
    },
    {
     "name": "stdout",
     "output_type": "stream",
     "text": [
      "Validation accuracy: 44.35\n"
     ]
    },
    {
     "name": "stderr",
     "output_type": "stream",
     "text": [
      "epoch 1 loss=1.592725157737732 batch_id=781: 100%|██████████| 782/782 [00:06<00:00, 121.47it/s] \n"
     ]
    },
    {
     "name": "stdout",
     "output_type": "stream",
     "text": [
      "Validation accuracy: 53.62\n"
     ]
    },
    {
     "name": "stderr",
     "output_type": "stream",
     "text": [
      "epoch 2 loss=1.0097655057907104 batch_id=781: 100%|██████████| 782/782 [00:06<00:00, 122.20it/s]\n"
     ]
    },
    {
     "name": "stdout",
     "output_type": "stream",
     "text": [
      "Validation accuracy: 60.3\n"
     ]
    },
    {
     "name": "stderr",
     "output_type": "stream",
     "text": [
      "epoch 3 loss=1.166412353515625 batch_id=781: 100%|██████████| 782/782 [00:06<00:00, 123.10it/s] \n"
     ]
    },
    {
     "name": "stdout",
     "output_type": "stream",
     "text": [
      "Validation accuracy: 62.07\n"
     ]
    },
    {
     "name": "stderr",
     "output_type": "stream",
     "text": [
      "epoch 4 loss=1.506697416305542 batch_id=781: 100%|██████████| 782/782 [00:06<00:00, 121.43it/s]  \n"
     ]
    },
    {
     "name": "stdout",
     "output_type": "stream",
     "text": [
      "Validation accuracy: 59.26\n",
      "Fitness calculated: 59.26\n"
     ]
    },
    {
     "name": "stderr",
     "output_type": "stream",
     "text": [
      "epoch 0 loss=0.8976477384567261 batch_id=781: 100%|██████████| 782/782 [00:02<00:00, 352.07it/s]\n"
     ]
    },
    {
     "name": "stdout",
     "output_type": "stream",
     "text": [
      "Validation accuracy: 53.46\n"
     ]
    },
    {
     "name": "stderr",
     "output_type": "stream",
     "text": [
      "epoch 1 loss=1.1112936735153198 batch_id=781: 100%|██████████| 782/782 [00:02<00:00, 361.17it/s]\n"
     ]
    },
    {
     "name": "stdout",
     "output_type": "stream",
     "text": [
      "Validation accuracy: 59.31\n"
     ]
    },
    {
     "name": "stderr",
     "output_type": "stream",
     "text": [
      "epoch 2 loss=1.2210040092468262 batch_id=781: 100%|██████████| 782/782 [00:02<00:00, 347.36it/s]\n"
     ]
    },
    {
     "name": "stdout",
     "output_type": "stream",
     "text": [
      "Validation accuracy: 53.53\n"
     ]
    },
    {
     "name": "stderr",
     "output_type": "stream",
     "text": [
      "epoch 3 loss=0.8293411135673523 batch_id=781: 100%|██████████| 782/782 [00:02<00:00, 355.59it/s]\n"
     ]
    },
    {
     "name": "stdout",
     "output_type": "stream",
     "text": [
      "Validation accuracy: 58.01\n"
     ]
    },
    {
     "name": "stderr",
     "output_type": "stream",
     "text": [
      "epoch 4 loss=0.9231877326965332 batch_id=781: 100%|██████████| 782/782 [00:02<00:00, 363.33it/s]\n"
     ]
    },
    {
     "name": "stdout",
     "output_type": "stream",
     "text": [
      "Validation accuracy: 53.77\n",
      "Fitness calculated: 53.77\n"
     ]
    },
    {
     "name": "stderr",
     "output_type": "stream",
     "text": [
      "epoch 0 loss=1.543188452720642 batch_id=781: 100%|██████████| 782/782 [00:02<00:00, 351.81it/s] \n"
     ]
    },
    {
     "name": "stdout",
     "output_type": "stream",
     "text": [
      "Validation accuracy: 53.19\n"
     ]
    },
    {
     "name": "stderr",
     "output_type": "stream",
     "text": [
      "epoch 1 loss=1.2885103225708008 batch_id=781: 100%|██████████| 782/782 [00:02<00:00, 365.90it/s]\n"
     ]
    },
    {
     "name": "stdout",
     "output_type": "stream",
     "text": [
      "Validation accuracy: 55.15\n"
     ]
    },
    {
     "name": "stderr",
     "output_type": "stream",
     "text": [
      "epoch 2 loss=1.3657395839691162 batch_id=781: 100%|██████████| 782/782 [00:02<00:00, 357.44it/s]\n"
     ]
    },
    {
     "name": "stdout",
     "output_type": "stream",
     "text": [
      "Validation accuracy: 57.32\n"
     ]
    },
    {
     "name": "stderr",
     "output_type": "stream",
     "text": [
      "epoch 3 loss=1.0604177713394165 batch_id=781: 100%|██████████| 782/782 [00:02<00:00, 353.10it/s]\n"
     ]
    },
    {
     "name": "stdout",
     "output_type": "stream",
     "text": [
      "Validation accuracy: 56.16\n"
     ]
    },
    {
     "name": "stderr",
     "output_type": "stream",
     "text": [
      "epoch 4 loss=0.9105242490768433 batch_id=781: 100%|██████████| 782/782 [00:02<00:00, 364.62it/s]\n"
     ]
    },
    {
     "name": "stdout",
     "output_type": "stream",
     "text": [
      "Validation accuracy: 58.28\n",
      "Fitness calculated: 58.28\n"
     ]
    },
    {
     "name": "stderr",
     "output_type": "stream",
     "text": [
      "epoch 0 loss=1.916162371635437 batch_id=781: 100%|██████████| 782/782 [00:05<00:00, 141.53it/s] \n"
     ]
    },
    {
     "name": "stdout",
     "output_type": "stream",
     "text": [
      "Validation accuracy: 42.32\n"
     ]
    },
    {
     "name": "stderr",
     "output_type": "stream",
     "text": [
      "epoch 1 loss=1.7313456535339355 batch_id=781: 100%|██████████| 782/782 [00:05<00:00, 142.91it/s]\n"
     ]
    },
    {
     "name": "stdout",
     "output_type": "stream",
     "text": [
      "Validation accuracy: 49.8\n"
     ]
    },
    {
     "name": "stderr",
     "output_type": "stream",
     "text": [
      "epoch 2 loss=1.5382142066955566 batch_id=781: 100%|██████████| 782/782 [00:05<00:00, 137.46it/s]\n"
     ]
    },
    {
     "name": "stdout",
     "output_type": "stream",
     "text": [
      "Validation accuracy: 51.78\n"
     ]
    },
    {
     "name": "stderr",
     "output_type": "stream",
     "text": [
      "epoch 3 loss=0.8158785700798035 batch_id=781: 100%|██████████| 782/782 [00:05<00:00, 136.53it/s]\n"
     ]
    },
    {
     "name": "stdout",
     "output_type": "stream",
     "text": [
      "Validation accuracy: 49.68\n"
     ]
    },
    {
     "name": "stderr",
     "output_type": "stream",
     "text": [
      "epoch 4 loss=1.2981653213500977 batch_id=781: 100%|██████████| 782/782 [00:05<00:00, 137.42it/s]\n"
     ]
    },
    {
     "name": "stdout",
     "output_type": "stream",
     "text": [
      "Validation accuracy: 49.29\n",
      "Fitness calculated: 49.29\n"
     ]
    },
    {
     "name": "stderr",
     "output_type": "stream",
     "text": [
      "epoch 0 loss=2.0914158821105957 batch_id=781: 100%|██████████| 782/782 [00:05<00:00, 142.55it/s]\n"
     ]
    },
    {
     "name": "stdout",
     "output_type": "stream",
     "text": [
      "Validation accuracy: 42.72\n"
     ]
    },
    {
     "name": "stderr",
     "output_type": "stream",
     "text": [
      "epoch 1 loss=1.9497613906860352 batch_id=781: 100%|██████████| 782/782 [00:05<00:00, 142.59it/s]\n"
     ]
    },
    {
     "name": "stdout",
     "output_type": "stream",
     "text": [
      "Validation accuracy: 43.6\n"
     ]
    },
    {
     "name": "stderr",
     "output_type": "stream",
     "text": [
      "epoch 2 loss=1.5383718013763428 batch_id=781: 100%|██████████| 782/782 [00:05<00:00, 142.84it/s]\n"
     ]
    },
    {
     "name": "stdout",
     "output_type": "stream",
     "text": [
      "Validation accuracy: 32.73\n"
     ]
    },
    {
     "name": "stderr",
     "output_type": "stream",
     "text": [
      "epoch 3 loss=1.3856117725372314 batch_id=781: 100%|██████████| 782/782 [00:05<00:00, 143.57it/s]\n"
     ]
    },
    {
     "name": "stdout",
     "output_type": "stream",
     "text": [
      "Validation accuracy: 45.29\n"
     ]
    },
    {
     "name": "stderr",
     "output_type": "stream",
     "text": [
      "epoch 4 loss=1.4406826496124268 batch_id=781: 100%|██████████| 782/782 [00:05<00:00, 142.36it/s]\n"
     ]
    },
    {
     "name": "stdout",
     "output_type": "stream",
     "text": [
      "Validation accuracy: 44.66\n",
      "Fitness calculated: 44.66\n"
     ]
    },
    {
     "name": "stderr",
     "output_type": "stream",
     "text": [
      "epoch 0 loss=1.9336367845535278 batch_id=781: 100%|██████████| 782/782 [00:04<00:00, 184.80it/s]\n"
     ]
    },
    {
     "name": "stdout",
     "output_type": "stream",
     "text": [
      "Validation accuracy: 52.76\n"
     ]
    },
    {
     "name": "stderr",
     "output_type": "stream",
     "text": [
      "epoch 1 loss=1.0632522106170654 batch_id=781: 100%|██████████| 782/782 [00:04<00:00, 187.89it/s]\n"
     ]
    },
    {
     "name": "stdout",
     "output_type": "stream",
     "text": [
      "Validation accuracy: 58.96\n"
     ]
    },
    {
     "name": "stderr",
     "output_type": "stream",
     "text": [
      "epoch 2 loss=1.3851876258850098 batch_id=781: 100%|██████████| 782/782 [00:04<00:00, 189.42it/s]\n"
     ]
    },
    {
     "name": "stdout",
     "output_type": "stream",
     "text": [
      "Validation accuracy: 55.67\n"
     ]
    },
    {
     "name": "stderr",
     "output_type": "stream",
     "text": [
      "epoch 3 loss=0.5199955105781555 batch_id=781: 100%|██████████| 782/782 [00:04<00:00, 189.19it/s]\n"
     ]
    },
    {
     "name": "stdout",
     "output_type": "stream",
     "text": [
      "Validation accuracy: 61.57\n"
     ]
    },
    {
     "name": "stderr",
     "output_type": "stream",
     "text": [
      "epoch 4 loss=0.9190645217895508 batch_id=781: 100%|██████████| 782/782 [00:04<00:00, 190.25it/s] \n"
     ]
    },
    {
     "name": "stdout",
     "output_type": "stream",
     "text": [
      "Validation accuracy: 57.25\n",
      "Fitness calculated: 57.25\n"
     ]
    },
    {
     "name": "stderr",
     "output_type": "stream",
     "text": [
      "epoch 0 loss=1.1342962980270386 batch_id=781: 100%|██████████| 782/782 [00:03<00:00, 221.28it/s]\n"
     ]
    },
    {
     "name": "stdout",
     "output_type": "stream",
     "text": [
      "Validation accuracy: 55.7\n"
     ]
    },
    {
     "name": "stderr",
     "output_type": "stream",
     "text": [
      "epoch 1 loss=1.648610234260559 batch_id=781: 100%|██████████| 782/782 [00:03<00:00, 217.98it/s] \n"
     ]
    },
    {
     "name": "stdout",
     "output_type": "stream",
     "text": [
      "Validation accuracy: 58.3\n"
     ]
    },
    {
     "name": "stderr",
     "output_type": "stream",
     "text": [
      "epoch 2 loss=0.6252883076667786 batch_id=781: 100%|██████████| 782/782 [00:03<00:00, 211.74it/s] \n"
     ]
    },
    {
     "name": "stdout",
     "output_type": "stream",
     "text": [
      "Validation accuracy: 49.94\n"
     ]
    },
    {
     "name": "stderr",
     "output_type": "stream",
     "text": [
      "epoch 3 loss=1.069847583770752 batch_id=781: 100%|██████████| 782/782 [00:03<00:00, 217.93it/s]  \n"
     ]
    },
    {
     "name": "stdout",
     "output_type": "stream",
     "text": [
      "Validation accuracy: 59.19\n"
     ]
    },
    {
     "name": "stderr",
     "output_type": "stream",
     "text": [
      "epoch 4 loss=0.5954149961471558 batch_id=781: 100%|██████████| 782/782 [00:03<00:00, 212.43it/s] \n"
     ]
    },
    {
     "name": "stdout",
     "output_type": "stream",
     "text": [
      "Validation accuracy: 61.08\n",
      "Fitness calculated: 61.08\n"
     ]
    }
   ],
   "source": [
    "generation = Generation(fit_survival_rate = FIT_SURVIVAL_RATE,\n",
    "                        unfit_survival_rate = UNFIT_SURVIVAL_RATE,\n",
    "                        mutation_rate = MUTATION_RATE,\n",
    "                        pop_size = 15,\n",
    "                        phase = 0,\n",
    "                        search_space = SEARCH_SPACE,\n",
    "                        prev_best = None,\n",
    "                        train_loader = train_loader,\n",
    "                        test_loader = test_loader)"
   ]
  },
  {
   "cell_type": "code",
   "execution_count": 6,
   "metadata": {},
   "outputs": [
    {
     "data": {
      "text/plain": [
       "[58.26,\n",
       " 57.11,\n",
       " 52.17,\n",
       " 51.8,\n",
       " 47.17,\n",
       " 57.11,\n",
       " 59.29,\n",
       " 52.06,\n",
       " 59.26,\n",
       " 53.77,\n",
       " 58.28,\n",
       " 49.29,\n",
       " 44.66,\n",
       " 57.25,\n",
       " 61.08]"
      ]
     },
     "execution_count": 6,
     "metadata": {},
     "output_type": "execute_result"
    }
   ],
   "source": [
    "[i.fitness for i in generation.pop]"
   ]
  },
  {
   "cell_type": "code",
   "execution_count": 7,
   "metadata": {},
   "outputs": [
    {
     "data": {
      "text/plain": [
       "15"
      ]
     },
     "execution_count": 7,
     "metadata": {},
     "output_type": "execute_result"
    }
   ],
   "source": [
    "generation.pop_size"
   ]
  },
  {
   "cell_type": "code",
   "execution_count": 8,
   "metadata": {},
   "outputs": [
    {
     "data": {
      "text/plain": [
       "61.08"
      ]
     },
     "execution_count": 8,
     "metadata": {},
     "output_type": "execute_result"
    }
   ],
   "source": [
    "generation.find_fittest().fitness"
   ]
  },
  {
   "cell_type": "code",
   "execution_count": 9,
   "metadata": {},
   "outputs": [
    {
     "data": {
      "text/plain": [
       "Sequential(\n",
       "  (0): Conv2d(3, 8, kernel_size=(5, 5), stride=(1, 1), padding=same)\n",
       "  (1): Tanh()\n",
       "  (2): BatchNorm2d(8, eps=1e-05, momentum=0.1, affine=True, track_running_stats=True)\n",
       "  (3): Conv2d(8, 32, kernel_size=(5, 5), stride=(1, 1), padding=same)\n",
       "  (4): ReLU()\n",
       "  (5): BatchNorm2d(32, eps=1e-05, momentum=0.1, affine=True, track_running_stats=True)\n",
       ")"
      ]
     },
     "execution_count": 9,
     "metadata": {},
     "output_type": "execute_result"
    }
   ],
   "source": [
    "generation.find_fittest().model"
   ]
  },
  {
   "cell_type": "code",
   "execution_count": 10,
   "metadata": {},
   "outputs": [
    {
     "name": "stderr",
     "output_type": "stream",
     "text": [
      "epoch 0 loss=1.7070881128311157 batch_id=781: 100%|██████████| 782/782 [00:04<00:00, 193.02it/s]\n"
     ]
    },
    {
     "name": "stdout",
     "output_type": "stream",
     "text": [
      "Validation accuracy: 49.98\n"
     ]
    },
    {
     "name": "stderr",
     "output_type": "stream",
     "text": [
      "epoch 1 loss=1.4261449575424194 batch_id=781: 100%|██████████| 782/782 [00:04<00:00, 187.33it/s]\n"
     ]
    },
    {
     "name": "stdout",
     "output_type": "stream",
     "text": [
      "Validation accuracy: 57.19\n"
     ]
    },
    {
     "name": "stderr",
     "output_type": "stream",
     "text": [
      "epoch 2 loss=1.2781033515930176 batch_id=781: 100%|██████████| 782/782 [00:04<00:00, 192.20it/s]\n"
     ]
    },
    {
     "name": "stdout",
     "output_type": "stream",
     "text": [
      "Validation accuracy: 60.3\n"
     ]
    },
    {
     "name": "stderr",
     "output_type": "stream",
     "text": [
      "epoch 3 loss=1.0871281623840332 batch_id=781: 100%|██████████| 782/782 [00:04<00:00, 191.08it/s] \n"
     ]
    },
    {
     "name": "stdout",
     "output_type": "stream",
     "text": [
      "Validation accuracy: 56.48\n"
     ]
    },
    {
     "name": "stderr",
     "output_type": "stream",
     "text": [
      "epoch 4 loss=1.056774377822876 batch_id=781: 100%|██████████| 782/782 [00:04<00:00, 190.03it/s]  \n"
     ]
    },
    {
     "name": "stdout",
     "output_type": "stream",
     "text": [
      "Validation accuracy: 64.24\n",
      "Fitness calculated: 64.24\n"
     ]
    },
    {
     "name": "stderr",
     "output_type": "stream",
     "text": [
      "epoch 0 loss=1.2330716848373413 batch_id=781: 100%|██████████| 782/782 [00:06<00:00, 115.44it/s]\n"
     ]
    },
    {
     "name": "stdout",
     "output_type": "stream",
     "text": [
      "Validation accuracy: 48.68\n"
     ]
    },
    {
     "name": "stderr",
     "output_type": "stream",
     "text": [
      "epoch 1 loss=0.6084234118461609 batch_id=781: 100%|██████████| 782/782 [00:06<00:00, 116.11it/s]\n"
     ]
    },
    {
     "name": "stdout",
     "output_type": "stream",
     "text": [
      "Validation accuracy: 59.97\n"
     ]
    },
    {
     "name": "stderr",
     "output_type": "stream",
     "text": [
      "epoch 2 loss=0.6970288157463074 batch_id=781: 100%|██████████| 782/782 [00:06<00:00, 118.04it/s]\n"
     ]
    },
    {
     "name": "stdout",
     "output_type": "stream",
     "text": [
      "Validation accuracy: 60.33\n"
     ]
    },
    {
     "name": "stderr",
     "output_type": "stream",
     "text": [
      "epoch 3 loss=1.16378653049469 batch_id=781: 100%|██████████| 782/782 [00:06<00:00, 116.38it/s]  \n"
     ]
    },
    {
     "name": "stdout",
     "output_type": "stream",
     "text": [
      "Validation accuracy: 57.01\n"
     ]
    },
    {
     "name": "stderr",
     "output_type": "stream",
     "text": [
      "epoch 4 loss=0.9765580296516418 batch_id=781: 100%|██████████| 782/782 [00:06<00:00, 117.84it/s]\n"
     ]
    },
    {
     "name": "stdout",
     "output_type": "stream",
     "text": [
      "Validation accuracy: 60.7\n",
      "Fitness calculated: 60.7\n"
     ]
    },
    {
     "name": "stderr",
     "output_type": "stream",
     "text": [
      "epoch 0 loss=2.7808375358581543 batch_id=781: 100%|██████████| 782/782 [00:06<00:00, 123.59it/s]\n"
     ]
    },
    {
     "name": "stdout",
     "output_type": "stream",
     "text": [
      "Validation accuracy: 51.94\n"
     ]
    },
    {
     "name": "stderr",
     "output_type": "stream",
     "text": [
      "epoch 1 loss=1.2597870826721191 batch_id=781: 100%|██████████| 782/782 [00:06<00:00, 123.18it/s]\n"
     ]
    },
    {
     "name": "stdout",
     "output_type": "stream",
     "text": [
      "Validation accuracy: 58.0\n"
     ]
    },
    {
     "name": "stderr",
     "output_type": "stream",
     "text": [
      "epoch 2 loss=1.6529566049575806 batch_id=781: 100%|██████████| 782/782 [00:06<00:00, 125.16it/s] \n"
     ]
    },
    {
     "name": "stdout",
     "output_type": "stream",
     "text": [
      "Validation accuracy: 59.07\n"
     ]
    },
    {
     "name": "stderr",
     "output_type": "stream",
     "text": [
      "epoch 3 loss=0.530235230922699 batch_id=781: 100%|██████████| 782/782 [00:06<00:00, 124.93it/s]  \n"
     ]
    },
    {
     "name": "stdout",
     "output_type": "stream",
     "text": [
      "Validation accuracy: 59.96\n"
     ]
    },
    {
     "name": "stderr",
     "output_type": "stream",
     "text": [
      "epoch 4 loss=1.1015652418136597 batch_id=781: 100%|██████████| 782/782 [00:06<00:00, 125.32it/s] \n"
     ]
    },
    {
     "name": "stdout",
     "output_type": "stream",
     "text": [
      "Validation accuracy: 55.05\n",
      "Fitness calculated: 55.05\n"
     ]
    },
    {
     "name": "stderr",
     "output_type": "stream",
     "text": [
      "epoch 0 loss=1.403917908668518 batch_id=781: 100%|██████████| 782/782 [00:01<00:00, 413.53it/s] \n"
     ]
    },
    {
     "name": "stdout",
     "output_type": "stream",
     "text": [
      "Validation accuracy: 48.3\n"
     ]
    },
    {
     "name": "stderr",
     "output_type": "stream",
     "text": [
      "epoch 1 loss=1.0448906421661377 batch_id=781: 100%|██████████| 782/782 [00:01<00:00, 409.08it/s]\n"
     ]
    },
    {
     "name": "stdout",
     "output_type": "stream",
     "text": [
      "Validation accuracy: 53.58\n"
     ]
    },
    {
     "name": "stderr",
     "output_type": "stream",
     "text": [
      "epoch 2 loss=1.075830101966858 batch_id=781: 100%|██████████| 782/782 [00:01<00:00, 411.60it/s] \n"
     ]
    },
    {
     "name": "stdout",
     "output_type": "stream",
     "text": [
      "Validation accuracy: 58.47\n"
     ]
    },
    {
     "name": "stderr",
     "output_type": "stream",
     "text": [
      "epoch 3 loss=1.2770143747329712 batch_id=781: 100%|██████████| 782/782 [00:01<00:00, 398.96it/s]\n"
     ]
    },
    {
     "name": "stdout",
     "output_type": "stream",
     "text": [
      "Validation accuracy: 60.06\n"
     ]
    },
    {
     "name": "stderr",
     "output_type": "stream",
     "text": [
      "epoch 4 loss=0.6909265518188477 batch_id=781: 100%|██████████| 782/782 [00:01<00:00, 402.00it/s]\n"
     ]
    },
    {
     "name": "stdout",
     "output_type": "stream",
     "text": [
      "Validation accuracy: 57.93\n",
      "Fitness calculated: 57.93\n"
     ]
    },
    {
     "name": "stderr",
     "output_type": "stream",
     "text": [
      "epoch 0 loss=1.8261725902557373 batch_id=781: 100%|██████████| 782/782 [00:03<00:00, 235.67it/s]\n"
     ]
    },
    {
     "name": "stdout",
     "output_type": "stream",
     "text": [
      "Validation accuracy: 48.24\n"
     ]
    },
    {
     "name": "stderr",
     "output_type": "stream",
     "text": [
      "epoch 1 loss=1.3358136415481567 batch_id=781: 100%|██████████| 782/782 [00:03<00:00, 234.37it/s]\n"
     ]
    },
    {
     "name": "stdout",
     "output_type": "stream",
     "text": [
      "Validation accuracy: 54.08\n"
     ]
    },
    {
     "name": "stderr",
     "output_type": "stream",
     "text": [
      "epoch 2 loss=0.6056034564971924 batch_id=781: 100%|██████████| 782/782 [00:03<00:00, 235.70it/s]\n"
     ]
    },
    {
     "name": "stdout",
     "output_type": "stream",
     "text": [
      "Validation accuracy: 58.67\n"
     ]
    },
    {
     "name": "stderr",
     "output_type": "stream",
     "text": [
      "epoch 3 loss=0.9958385825157166 batch_id=781: 100%|██████████| 782/782 [00:03<00:00, 236.56it/s] \n"
     ]
    },
    {
     "name": "stdout",
     "output_type": "stream",
     "text": [
      "Validation accuracy: 59.17\n"
     ]
    },
    {
     "name": "stderr",
     "output_type": "stream",
     "text": [
      "epoch 4 loss=0.562721312046051 batch_id=781: 100%|██████████| 782/782 [00:03<00:00, 236.22it/s] \n"
     ]
    },
    {
     "name": "stdout",
     "output_type": "stream",
     "text": [
      "Validation accuracy: 59.41\n",
      "Fitness calculated: 59.41\n"
     ]
    },
    {
     "name": "stderr",
     "output_type": "stream",
     "text": [
      "epoch 0 loss=2.452414035797119 batch_id=781: 100%|██████████| 782/782 [00:03<00:00, 218.73it/s] \n"
     ]
    },
    {
     "name": "stdout",
     "output_type": "stream",
     "text": [
      "Validation accuracy: 53.07\n"
     ]
    },
    {
     "name": "stderr",
     "output_type": "stream",
     "text": [
      "epoch 1 loss=1.5195235013961792 batch_id=781: 100%|██████████| 782/782 [00:03<00:00, 219.50it/s]\n"
     ]
    },
    {
     "name": "stdout",
     "output_type": "stream",
     "text": [
      "Validation accuracy: 58.68\n"
     ]
    },
    {
     "name": "stderr",
     "output_type": "stream",
     "text": [
      "epoch 2 loss=0.6192805767059326 batch_id=781: 100%|██████████| 782/782 [00:03<00:00, 205.67it/s]\n"
     ]
    },
    {
     "name": "stdout",
     "output_type": "stream",
     "text": [
      "Validation accuracy: 58.96\n"
     ]
    },
    {
     "name": "stderr",
     "output_type": "stream",
     "text": [
      "epoch 3 loss=0.9084315896034241 batch_id=781: 100%|██████████| 782/782 [00:03<00:00, 200.73it/s]\n"
     ]
    },
    {
     "name": "stdout",
     "output_type": "stream",
     "text": [
      "Validation accuracy: 59.4\n"
     ]
    },
    {
     "name": "stderr",
     "output_type": "stream",
     "text": [
      "epoch 4 loss=0.7081599235534668 batch_id=781: 100%|██████████| 782/782 [00:03<00:00, 200.27it/s] \n"
     ]
    },
    {
     "name": "stdout",
     "output_type": "stream",
     "text": [
      "Validation accuracy: 59.21\n",
      "Fitness calculated: 59.21\n",
      "\n",
      "\n",
      "\n",
      "Fittest in phase 0 and generation 0: 64.24\n",
      "\n",
      "\n"
     ]
    },
    {
     "name": "stderr",
     "output_type": "stream",
     "text": [
      "epoch 0 loss=1.141197681427002 batch_id=781: 100%|██████████| 782/782 [00:02<00:00, 304.17it/s] \n"
     ]
    },
    {
     "name": "stdout",
     "output_type": "stream",
     "text": [
      "Validation accuracy: 45.38\n"
     ]
    },
    {
     "name": "stderr",
     "output_type": "stream",
     "text": [
      "epoch 1 loss=1.1491857767105103 batch_id=781: 100%|██████████| 782/782 [00:02<00:00, 297.46it/s]\n"
     ]
    },
    {
     "name": "stdout",
     "output_type": "stream",
     "text": [
      "Validation accuracy: 59.04\n"
     ]
    },
    {
     "name": "stderr",
     "output_type": "stream",
     "text": [
      "epoch 2 loss=0.5200409293174744 batch_id=781: 100%|██████████| 782/782 [00:02<00:00, 304.34it/s]\n"
     ]
    },
    {
     "name": "stdout",
     "output_type": "stream",
     "text": [
      "Validation accuracy: 50.31\n"
     ]
    },
    {
     "name": "stderr",
     "output_type": "stream",
     "text": [
      "epoch 3 loss=1.196811318397522 batch_id=781: 100%|██████████| 782/782 [00:02<00:00, 303.00it/s] \n"
     ]
    },
    {
     "name": "stdout",
     "output_type": "stream",
     "text": [
      "Validation accuracy: 50.59\n"
     ]
    },
    {
     "name": "stderr",
     "output_type": "stream",
     "text": [
      "epoch 4 loss=0.6986056566238403 batch_id=781: 100%|██████████| 782/782 [00:02<00:00, 303.82it/s]\n"
     ]
    },
    {
     "name": "stdout",
     "output_type": "stream",
     "text": [
      "Validation accuracy: 58.24\n",
      "Fitness calculated: 58.24\n"
     ]
    },
    {
     "name": "stderr",
     "output_type": "stream",
     "text": [
      "epoch 0 loss=1.528282642364502 batch_id=781: 100%|██████████| 782/782 [00:05<00:00, 142.35it/s] \n"
     ]
    },
    {
     "name": "stdout",
     "output_type": "stream",
     "text": [
      "Validation accuracy: 43.15\n"
     ]
    },
    {
     "name": "stderr",
     "output_type": "stream",
     "text": [
      "epoch 1 loss=1.8066736459732056 batch_id=781: 100%|██████████| 782/782 [00:05<00:00, 141.57it/s]\n"
     ]
    },
    {
     "name": "stdout",
     "output_type": "stream",
     "text": [
      "Validation accuracy: 44.74\n"
     ]
    },
    {
     "name": "stderr",
     "output_type": "stream",
     "text": [
      "epoch 2 loss=0.9168396592140198 batch_id=781: 100%|██████████| 782/782 [00:05<00:00, 141.26it/s]\n"
     ]
    },
    {
     "name": "stdout",
     "output_type": "stream",
     "text": [
      "Validation accuracy: 47.57\n"
     ]
    },
    {
     "name": "stderr",
     "output_type": "stream",
     "text": [
      "epoch 3 loss=1.6806670427322388 batch_id=781: 100%|██████████| 782/782 [00:05<00:00, 142.49it/s]\n"
     ]
    },
    {
     "name": "stdout",
     "output_type": "stream",
     "text": [
      "Validation accuracy: 47.56\n"
     ]
    },
    {
     "name": "stderr",
     "output_type": "stream",
     "text": [
      "epoch 4 loss=1.6082457304000854 batch_id=781: 100%|██████████| 782/782 [00:05<00:00, 142.91it/s]\n"
     ]
    },
    {
     "name": "stdout",
     "output_type": "stream",
     "text": [
      "Validation accuracy: 44.3\n",
      "Fitness calculated: 44.3\n"
     ]
    },
    {
     "name": "stderr",
     "output_type": "stream",
     "text": [
      "epoch 0 loss=1.5395445823669434 batch_id=781: 100%|██████████| 782/782 [00:04<00:00, 188.38it/s]\n"
     ]
    },
    {
     "name": "stdout",
     "output_type": "stream",
     "text": [
      "Validation accuracy: 43.26\n"
     ]
    },
    {
     "name": "stderr",
     "output_type": "stream",
     "text": [
      "epoch 1 loss=0.9814856052398682 batch_id=781: 100%|██████████| 782/782 [00:04<00:00, 190.23it/s]\n"
     ]
    },
    {
     "name": "stdout",
     "output_type": "stream",
     "text": [
      "Validation accuracy: 55.07\n"
     ]
    },
    {
     "name": "stderr",
     "output_type": "stream",
     "text": [
      "epoch 2 loss=1.1237424612045288 batch_id=781: 100%|██████████| 782/782 [00:04<00:00, 194.03it/s]\n"
     ]
    },
    {
     "name": "stdout",
     "output_type": "stream",
     "text": [
      "Validation accuracy: 55.45\n"
     ]
    },
    {
     "name": "stderr",
     "output_type": "stream",
     "text": [
      "epoch 3 loss=0.5659259557723999 batch_id=781: 100%|██████████| 782/782 [00:04<00:00, 192.63it/s]\n"
     ]
    },
    {
     "name": "stdout",
     "output_type": "stream",
     "text": [
      "Validation accuracy: 61.82\n"
     ]
    },
    {
     "name": "stderr",
     "output_type": "stream",
     "text": [
      "epoch 4 loss=0.3742706775665283 batch_id=781: 100%|██████████| 782/782 [00:04<00:00, 192.91it/s]\n"
     ]
    },
    {
     "name": "stdout",
     "output_type": "stream",
     "text": [
      "Validation accuracy: 55.65\n",
      "Fitness calculated: 55.65\n"
     ]
    },
    {
     "name": "stderr",
     "output_type": "stream",
     "text": [
      "epoch 0 loss=1.0455033779144287 batch_id=781: 100%|██████████| 782/782 [00:06<00:00, 128.48it/s]\n"
     ]
    },
    {
     "name": "stdout",
     "output_type": "stream",
     "text": [
      "Validation accuracy: 49.34\n"
     ]
    },
    {
     "name": "stderr",
     "output_type": "stream",
     "text": [
      "epoch 1 loss=1.450764536857605 batch_id=781: 100%|██████████| 782/782 [00:06<00:00, 126.93it/s] \n"
     ]
    },
    {
     "name": "stdout",
     "output_type": "stream",
     "text": [
      "Validation accuracy: 50.39\n"
     ]
    },
    {
     "name": "stderr",
     "output_type": "stream",
     "text": [
      "epoch 2 loss=1.4348679780960083 batch_id=781: 100%|██████████| 782/782 [00:06<00:00, 127.80it/s]\n"
     ]
    },
    {
     "name": "stdout",
     "output_type": "stream",
     "text": [
      "Validation accuracy: 56.45\n"
     ]
    },
    {
     "name": "stderr",
     "output_type": "stream",
     "text": [
      "epoch 3 loss=0.7377517819404602 batch_id=781: 100%|██████████| 782/782 [00:06<00:00, 127.88it/s]\n"
     ]
    },
    {
     "name": "stdout",
     "output_type": "stream",
     "text": [
      "Validation accuracy: 60.44\n"
     ]
    },
    {
     "name": "stderr",
     "output_type": "stream",
     "text": [
      "epoch 4 loss=1.1211233139038086 batch_id=781: 100%|██████████| 782/782 [00:06<00:00, 128.07it/s] \n"
     ]
    },
    {
     "name": "stdout",
     "output_type": "stream",
     "text": [
      "Validation accuracy: 60.83\n",
      "Fitness calculated: 60.83\n"
     ]
    },
    {
     "name": "stderr",
     "output_type": "stream",
     "text": [
      "epoch 0 loss=1.354012131690979 batch_id=781: 100%|██████████| 782/782 [00:03<00:00, 201.23it/s] \n"
     ]
    },
    {
     "name": "stdout",
     "output_type": "stream",
     "text": [
      "Validation accuracy: 37.92\n"
     ]
    },
    {
     "name": "stderr",
     "output_type": "stream",
     "text": [
      "epoch 1 loss=1.1819113492965698 batch_id=781: 100%|██████████| 782/782 [00:03<00:00, 213.25it/s]\n"
     ]
    },
    {
     "name": "stdout",
     "output_type": "stream",
     "text": [
      "Validation accuracy: 46.7\n"
     ]
    },
    {
     "name": "stderr",
     "output_type": "stream",
     "text": [
      "epoch 2 loss=0.8257423639297485 batch_id=781: 100%|██████████| 782/782 [00:03<00:00, 210.84it/s]\n"
     ]
    },
    {
     "name": "stdout",
     "output_type": "stream",
     "text": [
      "Validation accuracy: 48.6\n"
     ]
    },
    {
     "name": "stderr",
     "output_type": "stream",
     "text": [
      "epoch 3 loss=1.4301512241363525 batch_id=781: 100%|██████████| 782/782 [00:03<00:00, 207.93it/s]\n"
     ]
    },
    {
     "name": "stdout",
     "output_type": "stream",
     "text": [
      "Validation accuracy: 52.17\n"
     ]
    },
    {
     "name": "stderr",
     "output_type": "stream",
     "text": [
      "epoch 4 loss=1.3402893543243408 batch_id=781: 100%|██████████| 782/782 [00:03<00:00, 203.40it/s]\n"
     ]
    },
    {
     "name": "stdout",
     "output_type": "stream",
     "text": [
      "Validation accuracy: 54.16\n",
      "Fitness calculated: 54.16\n"
     ]
    },
    {
     "name": "stderr",
     "output_type": "stream",
     "text": [
      "epoch 0 loss=0.839773952960968 batch_id=781: 100%|██████████| 782/782 [00:06<00:00, 130.26it/s] \n"
     ]
    },
    {
     "name": "stdout",
     "output_type": "stream",
     "text": [
      "Validation accuracy: 58.41\n"
     ]
    },
    {
     "name": "stderr",
     "output_type": "stream",
     "text": [
      "epoch 1 loss=0.7200077772140503 batch_id=781: 100%|██████████| 782/782 [00:05<00:00, 131.19it/s]\n"
     ]
    },
    {
     "name": "stdout",
     "output_type": "stream",
     "text": [
      "Validation accuracy: 62.19\n"
     ]
    },
    {
     "name": "stderr",
     "output_type": "stream",
     "text": [
      "epoch 2 loss=0.41922783851623535 batch_id=781: 100%|██████████| 782/782 [00:05<00:00, 131.57it/s]\n"
     ]
    },
    {
     "name": "stdout",
     "output_type": "stream",
     "text": [
      "Validation accuracy: 63.62\n"
     ]
    },
    {
     "name": "stderr",
     "output_type": "stream",
     "text": [
      "epoch 3 loss=1.172068476676941 batch_id=781: 100%|██████████| 782/782 [00:05<00:00, 131.95it/s] \n"
     ]
    },
    {
     "name": "stdout",
     "output_type": "stream",
     "text": [
      "Validation accuracy: 64.36\n"
     ]
    },
    {
     "name": "stderr",
     "output_type": "stream",
     "text": [
      "epoch 4 loss=0.4770101010799408 batch_id=781: 100%|██████████| 782/782 [00:05<00:00, 131.29it/s] \n"
     ]
    },
    {
     "name": "stdout",
     "output_type": "stream",
     "text": [
      "Validation accuracy: 63.87\n",
      "Fitness calculated: 63.87\n",
      "\n",
      "\n",
      "\n",
      "Fittest in phase 0 and generation 1: 64.24\n",
      "\n",
      "\n"
     ]
    },
    {
     "name": "stderr",
     "output_type": "stream",
     "text": [
      "epoch 0 loss=1.0805761814117432 batch_id=781: 100%|██████████| 782/782 [00:06<00:00, 128.02it/s]\n"
     ]
    },
    {
     "name": "stdout",
     "output_type": "stream",
     "text": [
      "Validation accuracy: 51.89\n"
     ]
    },
    {
     "name": "stderr",
     "output_type": "stream",
     "text": [
      "epoch 1 loss=1.9250595569610596 batch_id=781: 100%|██████████| 782/782 [00:06<00:00, 128.38it/s]\n"
     ]
    },
    {
     "name": "stdout",
     "output_type": "stream",
     "text": [
      "Validation accuracy: 56.92\n"
     ]
    },
    {
     "name": "stderr",
     "output_type": "stream",
     "text": [
      "epoch 2 loss=1.3095118999481201 batch_id=781: 100%|██████████| 782/782 [00:06<00:00, 127.12it/s]\n"
     ]
    },
    {
     "name": "stdout",
     "output_type": "stream",
     "text": [
      "Validation accuracy: 60.21\n"
     ]
    },
    {
     "name": "stderr",
     "output_type": "stream",
     "text": [
      "epoch 3 loss=0.7016661763191223 batch_id=781: 100%|██████████| 782/782 [00:06<00:00, 128.00it/s]\n"
     ]
    },
    {
     "name": "stdout",
     "output_type": "stream",
     "text": [
      "Validation accuracy: 58.54\n"
     ]
    },
    {
     "name": "stderr",
     "output_type": "stream",
     "text": [
      "epoch 4 loss=0.6677902340888977 batch_id=781: 100%|██████████| 782/782 [00:06<00:00, 127.79it/s]\n"
     ]
    },
    {
     "name": "stdout",
     "output_type": "stream",
     "text": [
      "Validation accuracy: 50.78\n",
      "Fitness calculated: 50.78\n"
     ]
    },
    {
     "name": "stderr",
     "output_type": "stream",
     "text": [
      "epoch 0 loss=1.4641003608703613 batch_id=781: 100%|██████████| 782/782 [00:05<00:00, 130.68it/s]\n"
     ]
    },
    {
     "name": "stdout",
     "output_type": "stream",
     "text": [
      "Validation accuracy: 47.35\n"
     ]
    },
    {
     "name": "stderr",
     "output_type": "stream",
     "text": [
      "epoch 1 loss=1.0727089643478394 batch_id=781: 100%|██████████| 782/782 [00:05<00:00, 132.33it/s]\n"
     ]
    },
    {
     "name": "stdout",
     "output_type": "stream",
     "text": [
      "Validation accuracy: 44.69\n"
     ]
    },
    {
     "name": "stderr",
     "output_type": "stream",
     "text": [
      "epoch 2 loss=1.2305039167404175 batch_id=781: 100%|██████████| 782/782 [00:05<00:00, 132.15it/s]\n"
     ]
    },
    {
     "name": "stdout",
     "output_type": "stream",
     "text": [
      "Validation accuracy: 47.64\n"
     ]
    },
    {
     "name": "stderr",
     "output_type": "stream",
     "text": [
      "epoch 3 loss=1.6477675437927246 batch_id=781: 100%|██████████| 782/782 [00:05<00:00, 133.21it/s]\n"
     ]
    },
    {
     "name": "stdout",
     "output_type": "stream",
     "text": [
      "Validation accuracy: 50.1\n"
     ]
    },
    {
     "name": "stderr",
     "output_type": "stream",
     "text": [
      "epoch 4 loss=1.1610960960388184 batch_id=781: 100%|██████████| 782/782 [00:05<00:00, 131.88it/s]\n"
     ]
    },
    {
     "name": "stdout",
     "output_type": "stream",
     "text": [
      "Validation accuracy: 58.38\n",
      "Fitness calculated: 58.38\n"
     ]
    },
    {
     "name": "stderr",
     "output_type": "stream",
     "text": [
      "epoch 0 loss=0.8365626931190491 batch_id=781: 100%|██████████| 782/782 [00:03<00:00, 201.08it/s]\n"
     ]
    },
    {
     "name": "stdout",
     "output_type": "stream",
     "text": [
      "Validation accuracy: 53.42\n"
     ]
    },
    {
     "name": "stderr",
     "output_type": "stream",
     "text": [
      "epoch 1 loss=1.2212553024291992 batch_id=781: 100%|██████████| 782/782 [00:03<00:00, 199.00it/s]\n"
     ]
    },
    {
     "name": "stdout",
     "output_type": "stream",
     "text": [
      "Validation accuracy: 59.12\n"
     ]
    },
    {
     "name": "stderr",
     "output_type": "stream",
     "text": [
      "epoch 2 loss=1.5134260654449463 batch_id=781: 100%|██████████| 782/782 [00:03<00:00, 205.83it/s]\n"
     ]
    },
    {
     "name": "stdout",
     "output_type": "stream",
     "text": [
      "Validation accuracy: 59.06\n"
     ]
    },
    {
     "name": "stderr",
     "output_type": "stream",
     "text": [
      "epoch 3 loss=0.7549651265144348 batch_id=781: 100%|██████████| 782/782 [00:03<00:00, 202.78it/s]\n"
     ]
    },
    {
     "name": "stdout",
     "output_type": "stream",
     "text": [
      "Validation accuracy: 59.29\n"
     ]
    },
    {
     "name": "stderr",
     "output_type": "stream",
     "text": [
      "epoch 4 loss=1.0665596723556519 batch_id=781: 100%|██████████| 782/782 [00:03<00:00, 204.72it/s]\n"
     ]
    },
    {
     "name": "stdout",
     "output_type": "stream",
     "text": [
      "Validation accuracy: 57.95\n",
      "Fitness calculated: 57.95\n"
     ]
    },
    {
     "name": "stderr",
     "output_type": "stream",
     "text": [
      "epoch 0 loss=2.6373751163482666 batch_id=781: 100%|██████████| 782/782 [00:06<00:00, 121.67it/s]\n"
     ]
    },
    {
     "name": "stdout",
     "output_type": "stream",
     "text": [
      "Validation accuracy: 42.64\n"
     ]
    },
    {
     "name": "stderr",
     "output_type": "stream",
     "text": [
      "epoch 1 loss=0.5986897945404053 batch_id=781: 100%|██████████| 782/782 [00:06<00:00, 120.90it/s]\n"
     ]
    },
    {
     "name": "stdout",
     "output_type": "stream",
     "text": [
      "Validation accuracy: 52.49\n"
     ]
    },
    {
     "name": "stderr",
     "output_type": "stream",
     "text": [
      "epoch 2 loss=0.797581672668457 batch_id=781: 100%|██████████| 782/782 [00:06<00:00, 121.04it/s] \n"
     ]
    },
    {
     "name": "stdout",
     "output_type": "stream",
     "text": [
      "Validation accuracy: 54.72\n"
     ]
    },
    {
     "name": "stderr",
     "output_type": "stream",
     "text": [
      "epoch 3 loss=1.1910486221313477 batch_id=781: 100%|██████████| 782/782 [00:06<00:00, 119.62it/s] \n"
     ]
    },
    {
     "name": "stdout",
     "output_type": "stream",
     "text": [
      "Validation accuracy: 55.44\n"
     ]
    },
    {
     "name": "stderr",
     "output_type": "stream",
     "text": [
      "epoch 4 loss=0.7998303174972534 batch_id=781: 100%|██████████| 782/782 [00:06<00:00, 120.62it/s] \n"
     ]
    },
    {
     "name": "stdout",
     "output_type": "stream",
     "text": [
      "Validation accuracy: 54.56\n",
      "Fitness calculated: 54.56\n"
     ]
    },
    {
     "name": "stderr",
     "output_type": "stream",
     "text": [
      "epoch 0 loss=0.7865240573883057 batch_id=781: 100%|██████████| 782/782 [00:03<00:00, 225.45it/s]\n"
     ]
    },
    {
     "name": "stdout",
     "output_type": "stream",
     "text": [
      "Validation accuracy: 53.73\n"
     ]
    },
    {
     "name": "stderr",
     "output_type": "stream",
     "text": [
      "epoch 1 loss=1.1012356281280518 batch_id=781: 100%|██████████| 782/782 [00:03<00:00, 212.71it/s]\n"
     ]
    },
    {
     "name": "stdout",
     "output_type": "stream",
     "text": [
      "Validation accuracy: 57.19\n"
     ]
    },
    {
     "name": "stderr",
     "output_type": "stream",
     "text": [
      "epoch 2 loss=0.8097355365753174 batch_id=781: 100%|██████████| 782/782 [00:03<00:00, 226.82it/s]\n"
     ]
    },
    {
     "name": "stdout",
     "output_type": "stream",
     "text": [
      "Validation accuracy: 56.11\n"
     ]
    },
    {
     "name": "stderr",
     "output_type": "stream",
     "text": [
      "epoch 3 loss=1.8512027263641357 batch_id=781: 100%|██████████| 782/782 [00:03<00:00, 219.32it/s]\n"
     ]
    },
    {
     "name": "stdout",
     "output_type": "stream",
     "text": [
      "Validation accuracy: 56.91\n"
     ]
    },
    {
     "name": "stderr",
     "output_type": "stream",
     "text": [
      "epoch 4 loss=1.1220393180847168 batch_id=781: 100%|██████████| 782/782 [00:03<00:00, 227.40it/s]\n"
     ]
    },
    {
     "name": "stdout",
     "output_type": "stream",
     "text": [
      "Validation accuracy: 55.91\n",
      "Fitness calculated: 55.91\n"
     ]
    },
    {
     "name": "stderr",
     "output_type": "stream",
     "text": [
      "epoch 0 loss=1.566068172454834 batch_id=781: 100%|██████████| 782/782 [00:03<00:00, 250.83it/s] \n"
     ]
    },
    {
     "name": "stdout",
     "output_type": "stream",
     "text": [
      "Validation accuracy: 34.51\n"
     ]
    },
    {
     "name": "stderr",
     "output_type": "stream",
     "text": [
      "epoch 1 loss=1.3159884214401245 batch_id=781: 100%|██████████| 782/782 [00:03<00:00, 248.25it/s]\n"
     ]
    },
    {
     "name": "stdout",
     "output_type": "stream",
     "text": [
      "Validation accuracy: 44.54\n"
     ]
    },
    {
     "name": "stderr",
     "output_type": "stream",
     "text": [
      "epoch 2 loss=1.125148892402649 batch_id=781: 100%|██████████| 782/782 [00:03<00:00, 243.08it/s] \n"
     ]
    },
    {
     "name": "stdout",
     "output_type": "stream",
     "text": [
      "Validation accuracy: 50.04\n"
     ]
    },
    {
     "name": "stderr",
     "output_type": "stream",
     "text": [
      "epoch 3 loss=1.2502846717834473 batch_id=781: 100%|██████████| 782/782 [00:03<00:00, 249.26it/s]\n"
     ]
    },
    {
     "name": "stdout",
     "output_type": "stream",
     "text": [
      "Validation accuracy: 51.84\n"
     ]
    },
    {
     "name": "stderr",
     "output_type": "stream",
     "text": [
      "epoch 4 loss=1.18470299243927 batch_id=781: 100%|██████████| 782/782 [00:03<00:00, 248.54it/s]  \n"
     ]
    },
    {
     "name": "stdout",
     "output_type": "stream",
     "text": [
      "Validation accuracy: 51.22\n",
      "Fitness calculated: 51.22\n",
      "\n",
      "\n",
      "\n",
      "Fittest in phase 0 and generation 2: 64.24\n",
      "\n",
      "\n",
      "Fittest in phase 0 = 64.24\n",
      "\n",
      "\n"
     ]
    },
    {
     "name": "stderr",
     "output_type": "stream",
     "text": [
      "epoch 0 loss=0.6140208840370178 batch_id=781: 100%|██████████| 782/782 [00:05<00:00, 152.27it/s]\n"
     ]
    },
    {
     "name": "stdout",
     "output_type": "stream",
     "text": [
      "Validation accuracy: 58.55\n"
     ]
    },
    {
     "name": "stderr",
     "output_type": "stream",
     "text": [
      "epoch 1 loss=0.5077799558639526 batch_id=781: 100%|██████████| 782/782 [00:05<00:00, 155.17it/s]\n"
     ]
    },
    {
     "name": "stdout",
     "output_type": "stream",
     "text": [
      "Validation accuracy: 62.7\n"
     ]
    },
    {
     "name": "stderr",
     "output_type": "stream",
     "text": [
      "epoch 2 loss=1.2040112018585205 batch_id=781: 100%|██████████| 782/782 [00:05<00:00, 154.65it/s]\n"
     ]
    },
    {
     "name": "stdout",
     "output_type": "stream",
     "text": [
      "Validation accuracy: 66.21\n"
     ]
    },
    {
     "name": "stderr",
     "output_type": "stream",
     "text": [
      "epoch 3 loss=1.1497491598129272 batch_id=781: 100%|██████████| 782/782 [00:05<00:00, 151.14it/s]\n"
     ]
    },
    {
     "name": "stdout",
     "output_type": "stream",
     "text": [
      "Validation accuracy: 63.08\n"
     ]
    },
    {
     "name": "stderr",
     "output_type": "stream",
     "text": [
      "epoch 4 loss=0.9776017665863037 batch_id=781: 100%|██████████| 782/782 [00:05<00:00, 154.97it/s] \n"
     ]
    },
    {
     "name": "stdout",
     "output_type": "stream",
     "text": [
      "Validation accuracy: 68.32\n",
      "Fitness calculated: 68.32\n"
     ]
    },
    {
     "name": "stderr",
     "output_type": "stream",
     "text": [
      "epoch 0 loss=1.4452553987503052 batch_id=781: 100%|██████████| 782/782 [00:06<00:00, 118.36it/s]\n"
     ]
    },
    {
     "name": "stdout",
     "output_type": "stream",
     "text": [
      "Validation accuracy: 59.59\n"
     ]
    },
    {
     "name": "stderr",
     "output_type": "stream",
     "text": [
      "epoch 1 loss=0.6294766664505005 batch_id=781: 100%|██████████| 782/782 [00:06<00:00, 119.13it/s] \n"
     ]
    },
    {
     "name": "stdout",
     "output_type": "stream",
     "text": [
      "Validation accuracy: 64.52\n"
     ]
    },
    {
     "name": "stderr",
     "output_type": "stream",
     "text": [
      "epoch 2 loss=0.5614491701126099 batch_id=781: 100%|██████████| 782/782 [00:06<00:00, 118.54it/s] \n"
     ]
    },
    {
     "name": "stdout",
     "output_type": "stream",
     "text": [
      "Validation accuracy: 62.93\n"
     ]
    },
    {
     "name": "stderr",
     "output_type": "stream",
     "text": [
      "epoch 3 loss=0.8089081645011902 batch_id=781: 100%|██████████| 782/782 [00:06<00:00, 119.07it/s] \n"
     ]
    },
    {
     "name": "stdout",
     "output_type": "stream",
     "text": [
      "Validation accuracy: 65.05\n"
     ]
    },
    {
     "name": "stderr",
     "output_type": "stream",
     "text": [
      "epoch 4 loss=0.7523466348648071 batch_id=781: 100%|██████████| 782/782 [00:06<00:00, 118.50it/s] \n"
     ]
    },
    {
     "name": "stdout",
     "output_type": "stream",
     "text": [
      "Validation accuracy: 64.84\n",
      "Fitness calculated: 64.84\n"
     ]
    },
    {
     "name": "stderr",
     "output_type": "stream",
     "text": [
      "epoch 0 loss=0.7196126580238342 batch_id=781: 100%|██████████| 782/782 [00:05<00:00, 150.08it/s]\n"
     ]
    },
    {
     "name": "stdout",
     "output_type": "stream",
     "text": [
      "Validation accuracy: 63.65\n"
     ]
    },
    {
     "name": "stderr",
     "output_type": "stream",
     "text": [
      "epoch 1 loss=1.3035669326782227 batch_id=781: 100%|██████████| 782/782 [00:04<00:00, 156.71it/s] \n"
     ]
    },
    {
     "name": "stdout",
     "output_type": "stream",
     "text": [
      "Validation accuracy: 65.23\n"
     ]
    },
    {
     "name": "stderr",
     "output_type": "stream",
     "text": [
      "epoch 2 loss=0.6075996160507202 batch_id=781: 100%|██████████| 782/782 [00:05<00:00, 152.59it/s] \n"
     ]
    },
    {
     "name": "stdout",
     "output_type": "stream",
     "text": [
      "Validation accuracy: 61.91\n"
     ]
    },
    {
     "name": "stderr",
     "output_type": "stream",
     "text": [
      "epoch 3 loss=0.9055269360542297 batch_id=781: 100%|██████████| 782/782 [00:05<00:00, 154.63it/s] \n"
     ]
    },
    {
     "name": "stdout",
     "output_type": "stream",
     "text": [
      "Validation accuracy: 63.61\n"
     ]
    },
    {
     "name": "stderr",
     "output_type": "stream",
     "text": [
      "epoch 4 loss=0.7065397500991821 batch_id=781: 100%|██████████| 782/782 [00:05<00:00, 156.38it/s] \n"
     ]
    },
    {
     "name": "stdout",
     "output_type": "stream",
     "text": [
      "Validation accuracy: 69.53\n",
      "Fitness calculated: 69.53\n"
     ]
    },
    {
     "name": "stderr",
     "output_type": "stream",
     "text": [
      "epoch 0 loss=0.9698030352592468 batch_id=781: 100%|██████████| 782/782 [00:04<00:00, 191.00it/s]\n"
     ]
    },
    {
     "name": "stdout",
     "output_type": "stream",
     "text": [
      "Validation accuracy: 63.84\n"
     ]
    },
    {
     "name": "stderr",
     "output_type": "stream",
     "text": [
      "epoch 1 loss=0.7499682903289795 batch_id=781: 100%|██████████| 782/782 [00:04<00:00, 188.50it/s] \n"
     ]
    },
    {
     "name": "stdout",
     "output_type": "stream",
     "text": [
      "Validation accuracy: 62.67\n"
     ]
    },
    {
     "name": "stderr",
     "output_type": "stream",
     "text": [
      "epoch 2 loss=0.6539686322212219 batch_id=781: 100%|██████████| 782/782 [00:04<00:00, 192.78it/s] \n"
     ]
    },
    {
     "name": "stdout",
     "output_type": "stream",
     "text": [
      "Validation accuracy: 65.39\n"
     ]
    },
    {
     "name": "stderr",
     "output_type": "stream",
     "text": [
      "epoch 3 loss=0.5877009630203247 batch_id=781: 100%|██████████| 782/782 [00:04<00:00, 188.31it/s] \n"
     ]
    },
    {
     "name": "stdout",
     "output_type": "stream",
     "text": [
      "Validation accuracy: 65.91\n"
     ]
    },
    {
     "name": "stderr",
     "output_type": "stream",
     "text": [
      "epoch 4 loss=1.0690873861312866 batch_id=781: 100%|██████████| 782/782 [00:04<00:00, 190.21it/s] \n"
     ]
    },
    {
     "name": "stdout",
     "output_type": "stream",
     "text": [
      "Validation accuracy: 61.36\n",
      "Fitness calculated: 61.36\n"
     ]
    },
    {
     "name": "stderr",
     "output_type": "stream",
     "text": [
      "epoch 0 loss=0.9847704172134399 batch_id=781: 100%|██████████| 782/782 [00:06<00:00, 120.14it/s]\n"
     ]
    },
    {
     "name": "stdout",
     "output_type": "stream",
     "text": [
      "Validation accuracy: 56.31\n"
     ]
    },
    {
     "name": "stderr",
     "output_type": "stream",
     "text": [
      "epoch 1 loss=0.8861616849899292 batch_id=781: 100%|██████████| 782/782 [00:06<00:00, 113.37it/s]\n"
     ]
    },
    {
     "name": "stdout",
     "output_type": "stream",
     "text": [
      "Validation accuracy: 58.36\n"
     ]
    },
    {
     "name": "stderr",
     "output_type": "stream",
     "text": [
      "epoch 2 loss=0.4607551395893097 batch_id=781: 100%|██████████| 782/782 [00:06<00:00, 114.85it/s] \n"
     ]
    },
    {
     "name": "stdout",
     "output_type": "stream",
     "text": [
      "Validation accuracy: 64.84\n"
     ]
    },
    {
     "name": "stderr",
     "output_type": "stream",
     "text": [
      "epoch 3 loss=0.6756776571273804 batch_id=781: 100%|██████████| 782/782 [00:06<00:00, 112.36it/s] \n"
     ]
    },
    {
     "name": "stdout",
     "output_type": "stream",
     "text": [
      "Validation accuracy: 64.46\n"
     ]
    },
    {
     "name": "stderr",
     "output_type": "stream",
     "text": [
      "epoch 4 loss=0.4801632761955261 batch_id=781: 100%|██████████| 782/782 [00:07<00:00, 109.91it/s] \n"
     ]
    },
    {
     "name": "stdout",
     "output_type": "stream",
     "text": [
      "Validation accuracy: 60.72\n",
      "Fitness calculated: 60.72\n"
     ]
    },
    {
     "name": "stderr",
     "output_type": "stream",
     "text": [
      "epoch 0 loss=1.2027682065963745 batch_id=781: 100%|██████████| 782/782 [00:11<00:00, 69.09it/s]\n"
     ]
    },
    {
     "name": "stdout",
     "output_type": "stream",
     "text": [
      "Validation accuracy: 67.54\n"
     ]
    },
    {
     "name": "stderr",
     "output_type": "stream",
     "text": [
      "epoch 1 loss=1.0058250427246094 batch_id=781: 100%|██████████| 782/782 [00:11<00:00, 69.10it/s] \n"
     ]
    },
    {
     "name": "stdout",
     "output_type": "stream",
     "text": [
      "Validation accuracy: 66.76\n"
     ]
    },
    {
     "name": "stderr",
     "output_type": "stream",
     "text": [
      "epoch 2 loss=0.82220858335495 batch_id=781: 100%|██████████| 782/782 [00:11<00:00, 68.96it/s]   \n"
     ]
    },
    {
     "name": "stdout",
     "output_type": "stream",
     "text": [
      "Validation accuracy: 66.84\n"
     ]
    },
    {
     "name": "stderr",
     "output_type": "stream",
     "text": [
      "epoch 3 loss=0.5441180467605591 batch_id=781: 100%|██████████| 782/782 [00:11<00:00, 69.22it/s] \n"
     ]
    },
    {
     "name": "stdout",
     "output_type": "stream",
     "text": [
      "Validation accuracy: 65.64\n"
     ]
    },
    {
     "name": "stderr",
     "output_type": "stream",
     "text": [
      "epoch 4 loss=0.6892114877700806 batch_id=781: 100%|██████████| 782/782 [00:11<00:00, 69.98it/s] \n"
     ]
    },
    {
     "name": "stdout",
     "output_type": "stream",
     "text": [
      "Validation accuracy: 66.05\n",
      "Fitness calculated: 66.05\n"
     ]
    },
    {
     "name": "stderr",
     "output_type": "stream",
     "text": [
      "epoch 0 loss=1.1894017457962036 batch_id=781: 100%|██████████| 782/782 [00:08<00:00, 89.88it/s]\n"
     ]
    },
    {
     "name": "stdout",
     "output_type": "stream",
     "text": [
      "Validation accuracy: 65.69\n"
     ]
    },
    {
     "name": "stderr",
     "output_type": "stream",
     "text": [
      "epoch 1 loss=0.4955485463142395 batch_id=781: 100%|██████████| 782/782 [00:08<00:00, 90.03it/s] \n"
     ]
    },
    {
     "name": "stdout",
     "output_type": "stream",
     "text": [
      "Validation accuracy: 67.43\n"
     ]
    },
    {
     "name": "stderr",
     "output_type": "stream",
     "text": [
      "epoch 2 loss=0.8667758107185364 batch_id=781: 100%|██████████| 782/782 [00:08<00:00, 90.34it/s] \n"
     ]
    },
    {
     "name": "stdout",
     "output_type": "stream",
     "text": [
      "Validation accuracy: 60.05\n"
     ]
    },
    {
     "name": "stderr",
     "output_type": "stream",
     "text": [
      "epoch 3 loss=1.1043614149093628 batch_id=781: 100%|██████████| 782/782 [00:08<00:00, 89.64it/s] \n"
     ]
    },
    {
     "name": "stdout",
     "output_type": "stream",
     "text": [
      "Validation accuracy: 63.94\n"
     ]
    },
    {
     "name": "stderr",
     "output_type": "stream",
     "text": [
      "epoch 4 loss=1.0848695039749146 batch_id=781: 100%|██████████| 782/782 [00:08<00:00, 90.13it/s] \n"
     ]
    },
    {
     "name": "stdout",
     "output_type": "stream",
     "text": [
      "Validation accuracy: 64.73\n",
      "Fitness calculated: 64.73\n"
     ]
    },
    {
     "name": "stderr",
     "output_type": "stream",
     "text": [
      "epoch 0 loss=0.5429338216781616 batch_id=781: 100%|██████████| 782/782 [00:09<00:00, 81.74it/s]\n"
     ]
    },
    {
     "name": "stdout",
     "output_type": "stream",
     "text": [
      "Validation accuracy: 66.82\n"
     ]
    },
    {
     "name": "stderr",
     "output_type": "stream",
     "text": [
      "epoch 1 loss=0.710317075252533 batch_id=781: 100%|██████████| 782/782 [00:09<00:00, 81.94it/s]  \n"
     ]
    },
    {
     "name": "stdout",
     "output_type": "stream",
     "text": [
      "Validation accuracy: 64.26\n"
     ]
    },
    {
     "name": "stderr",
     "output_type": "stream",
     "text": [
      "epoch 2 loss=0.8554932475090027 batch_id=781: 100%|██████████| 782/782 [00:09<00:00, 81.70it/s] \n"
     ]
    },
    {
     "name": "stdout",
     "output_type": "stream",
     "text": [
      "Validation accuracy: 64.59\n"
     ]
    },
    {
     "name": "stderr",
     "output_type": "stream",
     "text": [
      "epoch 3 loss=0.24916034936904907 batch_id=781: 100%|██████████| 782/782 [00:09<00:00, 81.79it/s]\n"
     ]
    },
    {
     "name": "stdout",
     "output_type": "stream",
     "text": [
      "Validation accuracy: 65.54\n"
     ]
    },
    {
     "name": "stderr",
     "output_type": "stream",
     "text": [
      "epoch 4 loss=0.6588743329048157 batch_id=781: 100%|██████████| 782/782 [00:09<00:00, 81.93it/s] \n"
     ]
    },
    {
     "name": "stdout",
     "output_type": "stream",
     "text": [
      "Validation accuracy: 65.37\n",
      "Fitness calculated: 65.37\n"
     ]
    },
    {
     "name": "stderr",
     "output_type": "stream",
     "text": [
      "epoch 0 loss=0.8661853075027466 batch_id=781: 100%|██████████| 782/782 [00:04<00:00, 172.88it/s]\n"
     ]
    },
    {
     "name": "stdout",
     "output_type": "stream",
     "text": [
      "Validation accuracy: 62.96\n"
     ]
    },
    {
     "name": "stderr",
     "output_type": "stream",
     "text": [
      "epoch 1 loss=1.04115891456604 batch_id=781: 100%|██████████| 782/782 [00:04<00:00, 181.71it/s]  \n"
     ]
    },
    {
     "name": "stdout",
     "output_type": "stream",
     "text": [
      "Validation accuracy: 66.92\n"
     ]
    },
    {
     "name": "stderr",
     "output_type": "stream",
     "text": [
      "epoch 2 loss=0.8001399040222168 batch_id=781: 100%|██████████| 782/782 [00:04<00:00, 176.92it/s]\n"
     ]
    },
    {
     "name": "stdout",
     "output_type": "stream",
     "text": [
      "Validation accuracy: 68.1\n"
     ]
    },
    {
     "name": "stderr",
     "output_type": "stream",
     "text": [
      "epoch 3 loss=1.379150152206421 batch_id=781: 100%|██████████| 782/782 [00:04<00:00, 172.46it/s] \n"
     ]
    },
    {
     "name": "stdout",
     "output_type": "stream",
     "text": [
      "Validation accuracy: 66.33\n"
     ]
    },
    {
     "name": "stderr",
     "output_type": "stream",
     "text": [
      "epoch 4 loss=1.134294033050537 batch_id=781: 100%|██████████| 782/782 [00:04<00:00, 176.51it/s]  \n"
     ]
    },
    {
     "name": "stdout",
     "output_type": "stream",
     "text": [
      "Validation accuracy: 68.57\n",
      "Fitness calculated: 68.57\n"
     ]
    },
    {
     "name": "stderr",
     "output_type": "stream",
     "text": [
      "epoch 0 loss=1.0331312417984009 batch_id=781: 100%|██████████| 782/782 [00:05<00:00, 132.79it/s]\n"
     ]
    },
    {
     "name": "stdout",
     "output_type": "stream",
     "text": [
      "Validation accuracy: 66.06\n"
     ]
    },
    {
     "name": "stderr",
     "output_type": "stream",
     "text": [
      "epoch 1 loss=1.0952352285385132 batch_id=781: 100%|██████████| 782/782 [00:05<00:00, 132.41it/s] \n"
     ]
    },
    {
     "name": "stdout",
     "output_type": "stream",
     "text": [
      "Validation accuracy: 68.16\n"
     ]
    },
    {
     "name": "stderr",
     "output_type": "stream",
     "text": [
      "epoch 2 loss=0.39060184359550476 batch_id=781: 100%|██████████| 782/782 [00:05<00:00, 133.14it/s]\n"
     ]
    },
    {
     "name": "stdout",
     "output_type": "stream",
     "text": [
      "Validation accuracy: 63.68\n"
     ]
    },
    {
     "name": "stderr",
     "output_type": "stream",
     "text": [
      "epoch 3 loss=0.521995484828949 batch_id=781: 100%|██████████| 782/782 [00:05<00:00, 132.91it/s]  \n"
     ]
    },
    {
     "name": "stdout",
     "output_type": "stream",
     "text": [
      "Validation accuracy: 66.99\n"
     ]
    },
    {
     "name": "stderr",
     "output_type": "stream",
     "text": [
      "epoch 4 loss=0.9232981204986572 batch_id=781: 100%|██████████| 782/782 [00:05<00:00, 133.89it/s] \n"
     ]
    },
    {
     "name": "stdout",
     "output_type": "stream",
     "text": [
      "Validation accuracy: 65.94\n",
      "Fitness calculated: 65.94\n"
     ]
    },
    {
     "name": "stderr",
     "output_type": "stream",
     "text": [
      "epoch 0 loss=1.6416914463043213 batch_id=781: 100%|██████████| 782/782 [00:10<00:00, 75.03it/s] \n"
     ]
    },
    {
     "name": "stdout",
     "output_type": "stream",
     "text": [
      "Validation accuracy: 63.06\n"
     ]
    },
    {
     "name": "stderr",
     "output_type": "stream",
     "text": [
      "epoch 1 loss=0.34495148062705994 batch_id=781: 100%|██████████| 782/782 [00:10<00:00, 74.95it/s]\n"
     ]
    },
    {
     "name": "stdout",
     "output_type": "stream",
     "text": [
      "Validation accuracy: 64.47\n"
     ]
    },
    {
     "name": "stderr",
     "output_type": "stream",
     "text": [
      "epoch 2 loss=0.357528954744339 batch_id=781: 100%|██████████| 782/782 [00:10<00:00, 74.99it/s]  \n"
     ]
    },
    {
     "name": "stdout",
     "output_type": "stream",
     "text": [
      "Validation accuracy: 63.43\n"
     ]
    },
    {
     "name": "stderr",
     "output_type": "stream",
     "text": [
      "epoch 3 loss=0.4475017488002777 batch_id=781: 100%|██████████| 782/782 [00:10<00:00, 75.32it/s] \n"
     ]
    },
    {
     "name": "stdout",
     "output_type": "stream",
     "text": [
      "Validation accuracy: 64.68\n"
     ]
    },
    {
     "name": "stderr",
     "output_type": "stream",
     "text": [
      "epoch 4 loss=0.7123779654502869 batch_id=781: 100%|██████████| 782/782 [00:10<00:00, 75.13it/s] \n"
     ]
    },
    {
     "name": "stdout",
     "output_type": "stream",
     "text": [
      "Validation accuracy: 65.08\n",
      "Fitness calculated: 65.08\n"
     ]
    },
    {
     "name": "stderr",
     "output_type": "stream",
     "text": [
      "epoch 0 loss=0.9054906964302063 batch_id=781: 100%|██████████| 782/782 [00:04<00:00, 162.21it/s]\n"
     ]
    },
    {
     "name": "stdout",
     "output_type": "stream",
     "text": [
      "Validation accuracy: 68.29\n"
     ]
    },
    {
     "name": "stderr",
     "output_type": "stream",
     "text": [
      "epoch 1 loss=1.3959804773330688 batch_id=781: 100%|██████████| 782/782 [00:04<00:00, 162.55it/s] \n"
     ]
    },
    {
     "name": "stdout",
     "output_type": "stream",
     "text": [
      "Validation accuracy: 69.81\n"
     ]
    },
    {
     "name": "stderr",
     "output_type": "stream",
     "text": [
      "epoch 2 loss=0.8115015029907227 batch_id=781: 100%|██████████| 782/782 [00:04<00:00, 163.89it/s] \n"
     ]
    },
    {
     "name": "stdout",
     "output_type": "stream",
     "text": [
      "Validation accuracy: 67.64\n"
     ]
    },
    {
     "name": "stderr",
     "output_type": "stream",
     "text": [
      "epoch 3 loss=0.7342596054077148 batch_id=781: 100%|██████████| 782/782 [00:04<00:00, 161.94it/s] \n"
     ]
    },
    {
     "name": "stdout",
     "output_type": "stream",
     "text": [
      "Validation accuracy: 66.93\n"
     ]
    },
    {
     "name": "stderr",
     "output_type": "stream",
     "text": [
      "epoch 4 loss=0.4700683653354645 batch_id=781: 100%|██████████| 782/782 [00:04<00:00, 160.93it/s] \n"
     ]
    },
    {
     "name": "stdout",
     "output_type": "stream",
     "text": [
      "Validation accuracy: 65.09\n",
      "Fitness calculated: 65.09\n"
     ]
    },
    {
     "name": "stderr",
     "output_type": "stream",
     "text": [
      "epoch 0 loss=0.8120432496070862 batch_id=781: 100%|██████████| 782/782 [00:07<00:00, 107.17it/s]\n"
     ]
    },
    {
     "name": "stdout",
     "output_type": "stream",
     "text": [
      "Validation accuracy: 65.71\n"
     ]
    },
    {
     "name": "stderr",
     "output_type": "stream",
     "text": [
      "epoch 1 loss=1.0461198091506958 batch_id=781: 100%|██████████| 782/782 [00:07<00:00, 107.33it/s] \n"
     ]
    },
    {
     "name": "stdout",
     "output_type": "stream",
     "text": [
      "Validation accuracy: 66.67\n"
     ]
    },
    {
     "name": "stderr",
     "output_type": "stream",
     "text": [
      "epoch 2 loss=0.539156436920166 batch_id=781: 100%|██████████| 782/782 [00:07<00:00, 107.37it/s]  \n"
     ]
    },
    {
     "name": "stdout",
     "output_type": "stream",
     "text": [
      "Validation accuracy: 66.56\n"
     ]
    },
    {
     "name": "stderr",
     "output_type": "stream",
     "text": [
      "epoch 3 loss=0.4222467839717865 batch_id=781: 100%|██████████| 782/782 [00:07<00:00, 105.64it/s] \n"
     ]
    },
    {
     "name": "stdout",
     "output_type": "stream",
     "text": [
      "Validation accuracy: 63.21\n"
     ]
    },
    {
     "name": "stderr",
     "output_type": "stream",
     "text": [
      "epoch 4 loss=0.5239904522895813 batch_id=781: 100%|██████████| 782/782 [00:07<00:00, 106.80it/s] \n"
     ]
    },
    {
     "name": "stdout",
     "output_type": "stream",
     "text": [
      "Validation accuracy: 63.61\n",
      "Fitness calculated: 63.61\n"
     ]
    },
    {
     "name": "stderr",
     "output_type": "stream",
     "text": [
      "epoch 0 loss=0.9978132843971252 batch_id=781: 100%|██████████| 782/782 [00:07<00:00, 103.36it/s]\n"
     ]
    },
    {
     "name": "stdout",
     "output_type": "stream",
     "text": [
      "Validation accuracy: 66.95\n"
     ]
    },
    {
     "name": "stderr",
     "output_type": "stream",
     "text": [
      "epoch 1 loss=0.8902547359466553 batch_id=781: 100%|██████████| 782/782 [00:07<00:00, 105.08it/s] \n"
     ]
    },
    {
     "name": "stdout",
     "output_type": "stream",
     "text": [
      "Validation accuracy: 69.1\n"
     ]
    },
    {
     "name": "stderr",
     "output_type": "stream",
     "text": [
      "epoch 2 loss=0.8237501382827759 batch_id=781: 100%|██████████| 782/782 [00:07<00:00, 104.49it/s] \n"
     ]
    },
    {
     "name": "stdout",
     "output_type": "stream",
     "text": [
      "Validation accuracy: 64.27\n"
     ]
    },
    {
     "name": "stderr",
     "output_type": "stream",
     "text": [
      "epoch 3 loss=0.45985883474349976 batch_id=781: 100%|██████████| 782/782 [00:06<00:00, 113.05it/s]\n"
     ]
    },
    {
     "name": "stdout",
     "output_type": "stream",
     "text": [
      "Validation accuracy: 64.3\n"
     ]
    },
    {
     "name": "stderr",
     "output_type": "stream",
     "text": [
      "epoch 4 loss=0.7482801079750061 batch_id=781: 100%|██████████| 782/782 [00:06<00:00, 114.13it/s] \n"
     ]
    },
    {
     "name": "stdout",
     "output_type": "stream",
     "text": [
      "Validation accuracy: 65.97\n",
      "Fitness calculated: 65.97\n"
     ]
    },
    {
     "name": "stderr",
     "output_type": "stream",
     "text": [
      "epoch 0 loss=0.7906475067138672 batch_id=781: 100%|██████████| 782/782 [00:04<00:00, 183.07it/s] \n"
     ]
    },
    {
     "name": "stdout",
     "output_type": "stream",
     "text": [
      "Validation accuracy: 67.6\n"
     ]
    },
    {
     "name": "stderr",
     "output_type": "stream",
     "text": [
      "epoch 1 loss=1.3411153554916382 batch_id=781: 100%|██████████| 782/782 [00:04<00:00, 186.42it/s] \n"
     ]
    },
    {
     "name": "stdout",
     "output_type": "stream",
     "text": [
      "Validation accuracy: 69.34\n"
     ]
    },
    {
     "name": "stderr",
     "output_type": "stream",
     "text": [
      "epoch 2 loss=0.7657858729362488 batch_id=781: 100%|██████████| 782/782 [00:04<00:00, 185.92it/s] \n"
     ]
    },
    {
     "name": "stdout",
     "output_type": "stream",
     "text": [
      "Validation accuracy: 68.92\n"
     ]
    },
    {
     "name": "stderr",
     "output_type": "stream",
     "text": [
      "epoch 3 loss=0.21593375504016876 batch_id=781: 100%|██████████| 782/782 [00:04<00:00, 180.56it/s]\n"
     ]
    },
    {
     "name": "stdout",
     "output_type": "stream",
     "text": [
      "Validation accuracy: 66.18\n"
     ]
    },
    {
     "name": "stderr",
     "output_type": "stream",
     "text": [
      "epoch 4 loss=0.7592873573303223 batch_id=781: 100%|██████████| 782/782 [00:04<00:00, 188.48it/s] \n"
     ]
    },
    {
     "name": "stdout",
     "output_type": "stream",
     "text": [
      "Validation accuracy: 67.56\n",
      "Fitness calculated: 67.56\n"
     ]
    },
    {
     "name": "stderr",
     "output_type": "stream",
     "text": [
      "epoch 0 loss=0.6840526461601257 batch_id=781: 100%|██████████| 782/782 [00:03<00:00, 201.04it/s]\n"
     ]
    },
    {
     "name": "stdout",
     "output_type": "stream",
     "text": [
      "Validation accuracy: 66.52\n"
     ]
    },
    {
     "name": "stderr",
     "output_type": "stream",
     "text": [
      "epoch 1 loss=0.607376754283905 batch_id=781: 100%|██████████| 782/782 [00:03<00:00, 195.86it/s]  \n"
     ]
    },
    {
     "name": "stdout",
     "output_type": "stream",
     "text": [
      "Validation accuracy: 67.89\n"
     ]
    },
    {
     "name": "stderr",
     "output_type": "stream",
     "text": [
      "epoch 2 loss=0.5736726522445679 batch_id=781: 100%|██████████| 782/782 [00:03<00:00, 200.00it/s] \n"
     ]
    },
    {
     "name": "stdout",
     "output_type": "stream",
     "text": [
      "Validation accuracy: 67.95\n"
     ]
    },
    {
     "name": "stderr",
     "output_type": "stream",
     "text": [
      "epoch 3 loss=0.21114616096019745 batch_id=781: 100%|██████████| 782/782 [00:04<00:00, 193.65it/s]\n"
     ]
    },
    {
     "name": "stdout",
     "output_type": "stream",
     "text": [
      "Validation accuracy: 63.23\n"
     ]
    },
    {
     "name": "stderr",
     "output_type": "stream",
     "text": [
      "epoch 4 loss=0.3619566261768341 batch_id=781: 100%|██████████| 782/782 [00:03<00:00, 198.28it/s] \n"
     ]
    },
    {
     "name": "stdout",
     "output_type": "stream",
     "text": [
      "Validation accuracy: 66.87\n",
      "Fitness calculated: 66.87\n"
     ]
    },
    {
     "name": "stderr",
     "output_type": "stream",
     "text": [
      "epoch 0 loss=1.0738189220428467 batch_id=781: 100%|██████████| 782/782 [00:06<00:00, 113.19it/s]\n"
     ]
    },
    {
     "name": "stdout",
     "output_type": "stream",
     "text": [
      "Validation accuracy: 66.12\n"
     ]
    },
    {
     "name": "stderr",
     "output_type": "stream",
     "text": [
      "epoch 1 loss=0.9162663221359253 batch_id=781: 100%|██████████| 782/782 [00:06<00:00, 113.63it/s] \n"
     ]
    },
    {
     "name": "stdout",
     "output_type": "stream",
     "text": [
      "Validation accuracy: 66.72\n"
     ]
    },
    {
     "name": "stderr",
     "output_type": "stream",
     "text": [
      "epoch 2 loss=0.6522167921066284 batch_id=781: 100%|██████████| 782/782 [00:06<00:00, 113.70it/s] \n"
     ]
    },
    {
     "name": "stdout",
     "output_type": "stream",
     "text": [
      "Validation accuracy: 65.07\n"
     ]
    },
    {
     "name": "stderr",
     "output_type": "stream",
     "text": [
      "epoch 3 loss=0.7623426914215088 batch_id=781: 100%|██████████| 782/782 [00:06<00:00, 113.62it/s] \n"
     ]
    },
    {
     "name": "stdout",
     "output_type": "stream",
     "text": [
      "Validation accuracy: 66.85\n"
     ]
    },
    {
     "name": "stderr",
     "output_type": "stream",
     "text": [
      "epoch 4 loss=0.35607293248176575 batch_id=781: 100%|██████████| 782/782 [00:06<00:00, 114.21it/s]\n"
     ]
    },
    {
     "name": "stdout",
     "output_type": "stream",
     "text": [
      "Validation accuracy: 66.05\n",
      "Fitness calculated: 66.05\n"
     ]
    },
    {
     "name": "stderr",
     "output_type": "stream",
     "text": [
      "epoch 0 loss=0.8942610025405884 batch_id=781: 100%|██████████| 782/782 [00:08<00:00, 94.04it/s]\n"
     ]
    },
    {
     "name": "stdout",
     "output_type": "stream",
     "text": [
      "Validation accuracy: 69.02\n"
     ]
    },
    {
     "name": "stderr",
     "output_type": "stream",
     "text": [
      "epoch 1 loss=0.784843385219574 batch_id=781: 100%|██████████| 782/782 [00:08<00:00, 95.07it/s]  \n"
     ]
    },
    {
     "name": "stdout",
     "output_type": "stream",
     "text": [
      "Validation accuracy: 67.34\n"
     ]
    },
    {
     "name": "stderr",
     "output_type": "stream",
     "text": [
      "epoch 2 loss=1.466723084449768 batch_id=781: 100%|██████████| 782/782 [00:08<00:00, 94.12it/s]  \n"
     ]
    },
    {
     "name": "stdout",
     "output_type": "stream",
     "text": [
      "Validation accuracy: 67.75\n"
     ]
    },
    {
     "name": "stderr",
     "output_type": "stream",
     "text": [
      "epoch 3 loss=0.829801619052887 batch_id=781: 100%|██████████| 782/782 [00:08<00:00, 94.48it/s]  \n"
     ]
    },
    {
     "name": "stdout",
     "output_type": "stream",
     "text": [
      "Validation accuracy: 71.12\n"
     ]
    },
    {
     "name": "stderr",
     "output_type": "stream",
     "text": [
      "epoch 4 loss=0.8641229867935181 batch_id=781: 100%|██████████| 782/782 [00:08<00:00, 94.90it/s] \n"
     ]
    },
    {
     "name": "stdout",
     "output_type": "stream",
     "text": [
      "Validation accuracy: 68.02\n",
      "Fitness calculated: 68.02\n"
     ]
    },
    {
     "name": "stderr",
     "output_type": "stream",
     "text": [
      "epoch 0 loss=1.467063069343567 batch_id=781: 100%|██████████| 782/782 [00:09<00:00, 78.87it/s] \n"
     ]
    },
    {
     "name": "stdout",
     "output_type": "stream",
     "text": [
      "Validation accuracy: 66.04\n"
     ]
    },
    {
     "name": "stderr",
     "output_type": "stream",
     "text": [
      "epoch 1 loss=1.3627030849456787 batch_id=781: 100%|██████████| 782/782 [00:09<00:00, 78.91it/s] \n"
     ]
    },
    {
     "name": "stdout",
     "output_type": "stream",
     "text": [
      "Validation accuracy: 67.76\n"
     ]
    },
    {
     "name": "stderr",
     "output_type": "stream",
     "text": [
      "epoch 2 loss=0.22473827004432678 batch_id=781: 100%|██████████| 782/782 [00:09<00:00, 79.05it/s]\n"
     ]
    },
    {
     "name": "stdout",
     "output_type": "stream",
     "text": [
      "Validation accuracy: 66.84\n"
     ]
    },
    {
     "name": "stderr",
     "output_type": "stream",
     "text": [
      "epoch 3 loss=0.18327546119689941 batch_id=781: 100%|██████████| 782/782 [00:09<00:00, 78.97it/s] \n"
     ]
    },
    {
     "name": "stdout",
     "output_type": "stream",
     "text": [
      "Validation accuracy: 66.32\n"
     ]
    },
    {
     "name": "stderr",
     "output_type": "stream",
     "text": [
      "epoch 4 loss=0.23383373022079468 batch_id=781: 100%|██████████| 782/782 [00:09<00:00, 79.27it/s] \n"
     ]
    },
    {
     "name": "stdout",
     "output_type": "stream",
     "text": [
      "Validation accuracy: 65.9\n",
      "Fitness calculated: 65.9\n"
     ]
    },
    {
     "name": "stderr",
     "output_type": "stream",
     "text": [
      "epoch 0 loss=0.6837342977523804 batch_id=781: 100%|██████████| 782/782 [00:04<00:00, 156.97it/s] \n"
     ]
    },
    {
     "name": "stdout",
     "output_type": "stream",
     "text": [
      "Validation accuracy: 70.85\n"
     ]
    },
    {
     "name": "stderr",
     "output_type": "stream",
     "text": [
      "epoch 1 loss=0.8419858813285828 batch_id=781: 100%|██████████| 782/782 [00:05<00:00, 156.09it/s] \n"
     ]
    },
    {
     "name": "stdout",
     "output_type": "stream",
     "text": [
      "Validation accuracy: 71.57\n"
     ]
    },
    {
     "name": "stderr",
     "output_type": "stream",
     "text": [
      "epoch 2 loss=0.6745217442512512 batch_id=781: 100%|██████████| 782/782 [00:04<00:00, 158.25it/s] \n"
     ]
    },
    {
     "name": "stdout",
     "output_type": "stream",
     "text": [
      "Validation accuracy: 70.5\n"
     ]
    },
    {
     "name": "stderr",
     "output_type": "stream",
     "text": [
      "epoch 3 loss=0.5308188796043396 batch_id=781: 100%|██████████| 782/782 [00:04<00:00, 160.72it/s] \n"
     ]
    },
    {
     "name": "stdout",
     "output_type": "stream",
     "text": [
      "Validation accuracy: 70.26\n"
     ]
    },
    {
     "name": "stderr",
     "output_type": "stream",
     "text": [
      "epoch 4 loss=0.350703626871109 batch_id=781: 100%|██████████| 782/782 [00:04<00:00, 156.88it/s]  \n"
     ]
    },
    {
     "name": "stdout",
     "output_type": "stream",
     "text": [
      "Validation accuracy: 69.58\n",
      "Fitness calculated: 69.58\n"
     ]
    },
    {
     "name": "stderr",
     "output_type": "stream",
     "text": [
      "epoch 0 loss=0.5466454029083252 batch_id=781: 100%|██████████| 782/782 [00:08<00:00, 90.04it/s]\n"
     ]
    },
    {
     "name": "stdout",
     "output_type": "stream",
     "text": [
      "Validation accuracy: 62.37\n"
     ]
    },
    {
     "name": "stderr",
     "output_type": "stream",
     "text": [
      "epoch 1 loss=0.5847357511520386 batch_id=781: 100%|██████████| 782/782 [00:08<00:00, 88.70it/s] \n"
     ]
    },
    {
     "name": "stdout",
     "output_type": "stream",
     "text": [
      "Validation accuracy: 64.88\n"
     ]
    },
    {
     "name": "stderr",
     "output_type": "stream",
     "text": [
      "epoch 2 loss=1.2588486671447754 batch_id=781: 100%|██████████| 782/782 [00:09<00:00, 86.01it/s] \n"
     ]
    },
    {
     "name": "stdout",
     "output_type": "stream",
     "text": [
      "Validation accuracy: 67.01\n"
     ]
    },
    {
     "name": "stderr",
     "output_type": "stream",
     "text": [
      "epoch 3 loss=1.297436237335205 batch_id=781: 100%|██████████| 782/782 [00:09<00:00, 86.40it/s]  \n"
     ]
    },
    {
     "name": "stdout",
     "output_type": "stream",
     "text": [
      "Validation accuracy: 67.71\n"
     ]
    },
    {
     "name": "stderr",
     "output_type": "stream",
     "text": [
      "epoch 4 loss=0.700301468372345 batch_id=781: 100%|██████████| 782/782 [00:09<00:00, 84.18it/s]  \n"
     ]
    },
    {
     "name": "stdout",
     "output_type": "stream",
     "text": [
      "Validation accuracy: 66.82\n",
      "Fitness calculated: 66.82\n",
      "\n",
      "\n",
      "\n",
      "Fittest in phase 1 and generation 0: 69.58\n",
      "\n",
      "\n"
     ]
    },
    {
     "name": "stderr",
     "output_type": "stream",
     "text": [
      "epoch 0 loss=0.6217993497848511 batch_id=781: 100%|██████████| 782/782 [00:05<00:00, 152.95it/s] \n"
     ]
    },
    {
     "name": "stdout",
     "output_type": "stream",
     "text": [
      "Validation accuracy: 68.45\n"
     ]
    },
    {
     "name": "stderr",
     "output_type": "stream",
     "text": [
      "epoch 1 loss=0.655155599117279 batch_id=781: 100%|██████████| 782/782 [00:05<00:00, 152.30it/s]  \n"
     ]
    },
    {
     "name": "stdout",
     "output_type": "stream",
     "text": [
      "Validation accuracy: 70.69\n"
     ]
    },
    {
     "name": "stderr",
     "output_type": "stream",
     "text": [
      "epoch 2 loss=1.1169785261154175 batch_id=781: 100%|██████████| 782/782 [00:04<00:00, 159.01it/s] \n"
     ]
    },
    {
     "name": "stdout",
     "output_type": "stream",
     "text": [
      "Validation accuracy: 68.1\n"
     ]
    },
    {
     "name": "stderr",
     "output_type": "stream",
     "text": [
      "epoch 3 loss=0.7444201707839966 batch_id=781: 100%|██████████| 782/782 [00:05<00:00, 153.75it/s] \n"
     ]
    },
    {
     "name": "stdout",
     "output_type": "stream",
     "text": [
      "Validation accuracy: 68.41\n"
     ]
    },
    {
     "name": "stderr",
     "output_type": "stream",
     "text": [
      "epoch 4 loss=0.6061937808990479 batch_id=781: 100%|██████████| 782/782 [00:05<00:00, 155.34it/s] \n"
     ]
    },
    {
     "name": "stdout",
     "output_type": "stream",
     "text": [
      "Validation accuracy: 68.54\n",
      "Fitness calculated: 68.54\n"
     ]
    },
    {
     "name": "stderr",
     "output_type": "stream",
     "text": [
      "epoch 0 loss=1.1406787633895874 batch_id=781: 100%|██████████| 782/782 [00:09<00:00, 84.22it/s] \n"
     ]
    },
    {
     "name": "stdout",
     "output_type": "stream",
     "text": [
      "Validation accuracy: 69.92\n"
     ]
    },
    {
     "name": "stderr",
     "output_type": "stream",
     "text": [
      "epoch 1 loss=0.2558351755142212 batch_id=781: 100%|██████████| 782/782 [00:09<00:00, 84.13it/s] \n"
     ]
    },
    {
     "name": "stdout",
     "output_type": "stream",
     "text": [
      "Validation accuracy: 66.46\n"
     ]
    },
    {
     "name": "stderr",
     "output_type": "stream",
     "text": [
      "epoch 2 loss=0.6188092231750488 batch_id=781: 100%|██████████| 782/782 [00:09<00:00, 84.24it/s] \n"
     ]
    },
    {
     "name": "stdout",
     "output_type": "stream",
     "text": [
      "Validation accuracy: 64.69\n"
     ]
    },
    {
     "name": "stderr",
     "output_type": "stream",
     "text": [
      "epoch 3 loss=0.46588248014450073 batch_id=781: 100%|██████████| 782/782 [00:09<00:00, 84.17it/s]\n"
     ]
    },
    {
     "name": "stdout",
     "output_type": "stream",
     "text": [
      "Validation accuracy: 65.69\n"
     ]
    },
    {
     "name": "stderr",
     "output_type": "stream",
     "text": [
      "epoch 4 loss=0.08392580598592758 batch_id=781: 100%|██████████| 782/782 [00:09<00:00, 84.69it/s] \n"
     ]
    },
    {
     "name": "stdout",
     "output_type": "stream",
     "text": [
      "Validation accuracy: 66.39\n",
      "Fitness calculated: 66.39\n"
     ]
    },
    {
     "name": "stderr",
     "output_type": "stream",
     "text": [
      "epoch 0 loss=0.18570424616336823 batch_id=781: 100%|██████████| 782/782 [00:09<00:00, 84.02it/s]\n"
     ]
    },
    {
     "name": "stdout",
     "output_type": "stream",
     "text": [
      "Validation accuracy: 70.79\n"
     ]
    },
    {
     "name": "stderr",
     "output_type": "stream",
     "text": [
      "epoch 1 loss=0.41533732414245605 batch_id=781: 100%|██████████| 782/782 [00:09<00:00, 83.70it/s]\n"
     ]
    },
    {
     "name": "stdout",
     "output_type": "stream",
     "text": [
      "Validation accuracy: 68.26\n"
     ]
    },
    {
     "name": "stderr",
     "output_type": "stream",
     "text": [
      "epoch 2 loss=0.13763700425624847 batch_id=781: 100%|██████████| 782/782 [00:09<00:00, 83.77it/s]\n"
     ]
    },
    {
     "name": "stdout",
     "output_type": "stream",
     "text": [
      "Validation accuracy: 67.45\n"
     ]
    },
    {
     "name": "stderr",
     "output_type": "stream",
     "text": [
      "epoch 3 loss=0.19698813557624817 batch_id=781: 100%|██████████| 782/782 [00:09<00:00, 83.89it/s]\n"
     ]
    },
    {
     "name": "stdout",
     "output_type": "stream",
     "text": [
      "Validation accuracy: 66.46\n"
     ]
    },
    {
     "name": "stderr",
     "output_type": "stream",
     "text": [
      "epoch 4 loss=0.6641206741333008 batch_id=781: 100%|██████████| 782/782 [00:09<00:00, 83.57it/s]  \n"
     ]
    },
    {
     "name": "stdout",
     "output_type": "stream",
     "text": [
      "Validation accuracy: 67.08\n",
      "Fitness calculated: 67.08\n"
     ]
    },
    {
     "name": "stderr",
     "output_type": "stream",
     "text": [
      "epoch 0 loss=1.3630918264389038 batch_id=781: 100%|██████████| 782/782 [00:06<00:00, 119.95it/s] \n"
     ]
    },
    {
     "name": "stdout",
     "output_type": "stream",
     "text": [
      "Validation accuracy: 65.52\n"
     ]
    },
    {
     "name": "stderr",
     "output_type": "stream",
     "text": [
      "epoch 1 loss=0.7875908017158508 batch_id=781: 100%|██████████| 782/782 [00:06<00:00, 120.23it/s] \n"
     ]
    },
    {
     "name": "stdout",
     "output_type": "stream",
     "text": [
      "Validation accuracy: 63.61\n"
     ]
    },
    {
     "name": "stderr",
     "output_type": "stream",
     "text": [
      "epoch 2 loss=0.15221524238586426 batch_id=781: 100%|██████████| 782/782 [00:06<00:00, 118.60it/s]\n"
     ]
    },
    {
     "name": "stdout",
     "output_type": "stream",
     "text": [
      "Validation accuracy: 65.74\n"
     ]
    },
    {
     "name": "stderr",
     "output_type": "stream",
     "text": [
      "epoch 3 loss=1.2801271677017212 batch_id=781: 100%|██████████| 782/782 [00:06<00:00, 119.35it/s] \n"
     ]
    },
    {
     "name": "stdout",
     "output_type": "stream",
     "text": [
      "Validation accuracy: 65.88\n"
     ]
    },
    {
     "name": "stderr",
     "output_type": "stream",
     "text": [
      "epoch 4 loss=0.7984698414802551 batch_id=781: 100%|██████████| 782/782 [00:06<00:00, 119.64it/s] \n"
     ]
    },
    {
     "name": "stdout",
     "output_type": "stream",
     "text": [
      "Validation accuracy: 63.47\n",
      "Fitness calculated: 63.47\n"
     ]
    },
    {
     "name": "stderr",
     "output_type": "stream",
     "text": [
      "epoch 0 loss=0.6983360648155212 batch_id=781: 100%|██████████| 782/782 [00:11<00:00, 70.14it/s]\n"
     ]
    },
    {
     "name": "stdout",
     "output_type": "stream",
     "text": [
      "Validation accuracy: 68.76\n"
     ]
    },
    {
     "name": "stderr",
     "output_type": "stream",
     "text": [
      "epoch 1 loss=1.1779606342315674 batch_id=781: 100%|██████████| 782/782 [00:11<00:00, 70.66it/s] \n"
     ]
    },
    {
     "name": "stdout",
     "output_type": "stream",
     "text": [
      "Validation accuracy: 67.08\n"
     ]
    },
    {
     "name": "stderr",
     "output_type": "stream",
     "text": [
      "epoch 2 loss=0.9579265713691711 batch_id=781: 100%|██████████| 782/782 [00:11<00:00, 70.48it/s] \n"
     ]
    },
    {
     "name": "stdout",
     "output_type": "stream",
     "text": [
      "Validation accuracy: 67.7\n"
     ]
    },
    {
     "name": "stderr",
     "output_type": "stream",
     "text": [
      "epoch 3 loss=0.79170823097229 batch_id=781: 100%|██████████| 782/782 [00:11<00:00, 70.76it/s]   \n"
     ]
    },
    {
     "name": "stdout",
     "output_type": "stream",
     "text": [
      "Validation accuracy: 68.62\n"
     ]
    },
    {
     "name": "stderr",
     "output_type": "stream",
     "text": [
      "epoch 4 loss=0.8818938732147217 batch_id=781: 100%|██████████| 782/782 [00:11<00:00, 70.52it/s] \n"
     ]
    },
    {
     "name": "stdout",
     "output_type": "stream",
     "text": [
      "Validation accuracy: 63.77\n",
      "Fitness calculated: 63.77\n"
     ]
    },
    {
     "name": "stderr",
     "output_type": "stream",
     "text": [
      "epoch 0 loss=0.6829891800880432 batch_id=781: 100%|██████████| 782/782 [00:04<00:00, 174.03it/s] \n"
     ]
    },
    {
     "name": "stdout",
     "output_type": "stream",
     "text": [
      "Validation accuracy: 69.96\n"
     ]
    },
    {
     "name": "stderr",
     "output_type": "stream",
     "text": [
      "epoch 1 loss=1.2764174938201904 batch_id=781: 100%|██████████| 782/782 [00:04<00:00, 172.44it/s] \n"
     ]
    },
    {
     "name": "stdout",
     "output_type": "stream",
     "text": [
      "Validation accuracy: 68.75\n"
     ]
    },
    {
     "name": "stderr",
     "output_type": "stream",
     "text": [
      "epoch 2 loss=0.7601679563522339 batch_id=781: 100%|██████████| 782/782 [00:04<00:00, 176.98it/s] \n"
     ]
    },
    {
     "name": "stdout",
     "output_type": "stream",
     "text": [
      "Validation accuracy: 69.96\n"
     ]
    },
    {
     "name": "stderr",
     "output_type": "stream",
     "text": [
      "epoch 3 loss=1.041811227798462 batch_id=781: 100%|██████████| 782/782 [00:04<00:00, 174.48it/s]  \n"
     ]
    },
    {
     "name": "stdout",
     "output_type": "stream",
     "text": [
      "Validation accuracy: 70.99\n"
     ]
    },
    {
     "name": "stderr",
     "output_type": "stream",
     "text": [
      "epoch 4 loss=0.49111610651016235 batch_id=781: 100%|██████████| 782/782 [00:04<00:00, 172.62it/s]\n"
     ]
    },
    {
     "name": "stdout",
     "output_type": "stream",
     "text": [
      "Validation accuracy: 70.57\n",
      "Fitness calculated: 70.57\n",
      "\n",
      "\n",
      "\n",
      "Fittest in phase 1 and generation 1: 70.57\n",
      "\n",
      "\n"
     ]
    },
    {
     "name": "stderr",
     "output_type": "stream",
     "text": [
      "epoch 0 loss=0.9861202836036682 batch_id=781: 100%|██████████| 782/782 [00:04<00:00, 173.44it/s] \n"
     ]
    },
    {
     "name": "stdout",
     "output_type": "stream",
     "text": [
      "Validation accuracy: 69.64\n"
     ]
    },
    {
     "name": "stderr",
     "output_type": "stream",
     "text": [
      "epoch 1 loss=0.7866686582565308 batch_id=781: 100%|██████████| 782/782 [00:04<00:00, 173.74it/s] \n"
     ]
    },
    {
     "name": "stdout",
     "output_type": "stream",
     "text": [
      "Validation accuracy: 62.64\n"
     ]
    },
    {
     "name": "stderr",
     "output_type": "stream",
     "text": [
      "epoch 2 loss=1.0033682584762573 batch_id=781: 100%|██████████| 782/782 [00:04<00:00, 173.18it/s] \n"
     ]
    },
    {
     "name": "stdout",
     "output_type": "stream",
     "text": [
      "Validation accuracy: 69.4\n"
     ]
    },
    {
     "name": "stderr",
     "output_type": "stream",
     "text": [
      "epoch 3 loss=0.9319892525672913 batch_id=781: 100%|██████████| 782/782 [00:04<00:00, 174.33it/s] \n"
     ]
    },
    {
     "name": "stdout",
     "output_type": "stream",
     "text": [
      "Validation accuracy: 69.89\n"
     ]
    },
    {
     "name": "stderr",
     "output_type": "stream",
     "text": [
      "epoch 4 loss=0.6379307508468628 batch_id=781: 100%|██████████| 782/782 [00:04<00:00, 173.79it/s] \n"
     ]
    },
    {
     "name": "stdout",
     "output_type": "stream",
     "text": [
      "Validation accuracy: 68.93\n",
      "Fitness calculated: 68.93\n"
     ]
    },
    {
     "name": "stderr",
     "output_type": "stream",
     "text": [
      "epoch 0 loss=0.6157541871070862 batch_id=781: 100%|██████████| 782/782 [00:04<00:00, 175.14it/s] \n"
     ]
    },
    {
     "name": "stdout",
     "output_type": "stream",
     "text": [
      "Validation accuracy: 69.69\n"
     ]
    },
    {
     "name": "stderr",
     "output_type": "stream",
     "text": [
      "epoch 1 loss=0.8911274671554565 batch_id=781: 100%|██████████| 782/782 [00:04<00:00, 178.63it/s] \n"
     ]
    },
    {
     "name": "stdout",
     "output_type": "stream",
     "text": [
      "Validation accuracy: 69.22\n"
     ]
    },
    {
     "name": "stderr",
     "output_type": "stream",
     "text": [
      "epoch 2 loss=0.2931981086730957 batch_id=781: 100%|██████████| 782/782 [00:04<00:00, 174.59it/s] \n"
     ]
    },
    {
     "name": "stdout",
     "output_type": "stream",
     "text": [
      "Validation accuracy: 68.3\n"
     ]
    },
    {
     "name": "stderr",
     "output_type": "stream",
     "text": [
      "epoch 3 loss=1.1897722482681274 batch_id=781: 100%|██████████| 782/782 [00:04<00:00, 174.02it/s] \n"
     ]
    },
    {
     "name": "stdout",
     "output_type": "stream",
     "text": [
      "Validation accuracy: 69.9\n"
     ]
    },
    {
     "name": "stderr",
     "output_type": "stream",
     "text": [
      "epoch 4 loss=0.4109251797199249 batch_id=781: 100%|██████████| 782/782 [00:04<00:00, 172.87it/s] \n"
     ]
    },
    {
     "name": "stdout",
     "output_type": "stream",
     "text": [
      "Validation accuracy: 70.71\n",
      "Fitness calculated: 70.71\n"
     ]
    },
    {
     "name": "stderr",
     "output_type": "stream",
     "text": [
      "epoch 0 loss=1.327733039855957 batch_id=781: 100%|██████████| 782/782 [00:06<00:00, 119.00it/s]  \n"
     ]
    },
    {
     "name": "stdout",
     "output_type": "stream",
     "text": [
      "Validation accuracy: 64.54\n"
     ]
    },
    {
     "name": "stderr",
     "output_type": "stream",
     "text": [
      "epoch 1 loss=1.155838966369629 batch_id=781: 100%|██████████| 782/782 [00:06<00:00, 118.31it/s]  \n"
     ]
    },
    {
     "name": "stdout",
     "output_type": "stream",
     "text": [
      "Validation accuracy: 65.94\n"
     ]
    },
    {
     "name": "stderr",
     "output_type": "stream",
     "text": [
      "epoch 2 loss=0.3942328691482544 batch_id=781: 100%|██████████| 782/782 [00:06<00:00, 118.28it/s] \n"
     ]
    },
    {
     "name": "stdout",
     "output_type": "stream",
     "text": [
      "Validation accuracy: 67.37\n"
     ]
    },
    {
     "name": "stderr",
     "output_type": "stream",
     "text": [
      "epoch 3 loss=1.2960524559020996 batch_id=781: 100%|██████████| 782/782 [00:06<00:00, 120.30it/s] \n"
     ]
    },
    {
     "name": "stdout",
     "output_type": "stream",
     "text": [
      "Validation accuracy: 63.19\n"
     ]
    },
    {
     "name": "stderr",
     "output_type": "stream",
     "text": [
      "epoch 4 loss=0.5242096781730652 batch_id=781: 100%|██████████| 782/782 [00:06<00:00, 117.90it/s] \n"
     ]
    },
    {
     "name": "stdout",
     "output_type": "stream",
     "text": [
      "Validation accuracy: 64.59\n",
      "Fitness calculated: 64.59\n"
     ]
    },
    {
     "name": "stderr",
     "output_type": "stream",
     "text": [
      "epoch 0 loss=1.1559937000274658 batch_id=781: 100%|██████████| 782/782 [00:04<00:00, 175.03it/s] \n"
     ]
    },
    {
     "name": "stdout",
     "output_type": "stream",
     "text": [
      "Validation accuracy: 68.46\n"
     ]
    },
    {
     "name": "stderr",
     "output_type": "stream",
     "text": [
      "epoch 1 loss=0.6170631647109985 batch_id=781: 100%|██████████| 782/782 [00:04<00:00, 171.08it/s] \n"
     ]
    },
    {
     "name": "stdout",
     "output_type": "stream",
     "text": [
      "Validation accuracy: 71.0\n"
     ]
    },
    {
     "name": "stderr",
     "output_type": "stream",
     "text": [
      "epoch 2 loss=0.4372861683368683 batch_id=781: 100%|██████████| 782/782 [00:04<00:00, 168.06it/s] \n"
     ]
    },
    {
     "name": "stdout",
     "output_type": "stream",
     "text": [
      "Validation accuracy: 69.79\n"
     ]
    },
    {
     "name": "stderr",
     "output_type": "stream",
     "text": [
      "epoch 3 loss=0.9914825558662415 batch_id=781: 100%|██████████| 782/782 [00:04<00:00, 169.14it/s] \n"
     ]
    },
    {
     "name": "stdout",
     "output_type": "stream",
     "text": [
      "Validation accuracy: 70.89\n"
     ]
    },
    {
     "name": "stderr",
     "output_type": "stream",
     "text": [
      "epoch 4 loss=0.8453478217124939 batch_id=781: 100%|██████████| 782/782 [00:04<00:00, 186.95it/s] \n"
     ]
    },
    {
     "name": "stdout",
     "output_type": "stream",
     "text": [
      "Validation accuracy: 69.04\n",
      "Fitness calculated: 69.04\n"
     ]
    },
    {
     "name": "stderr",
     "output_type": "stream",
     "text": [
      "epoch 0 loss=0.6282405853271484 batch_id=781: 100%|██████████| 782/782 [00:05<00:00, 139.66it/s] \n"
     ]
    },
    {
     "name": "stdout",
     "output_type": "stream",
     "text": [
      "Validation accuracy: 68.65\n"
     ]
    },
    {
     "name": "stderr",
     "output_type": "stream",
     "text": [
      "epoch 1 loss=0.7486218810081482 batch_id=781: 100%|██████████| 782/782 [00:05<00:00, 138.52it/s] \n"
     ]
    },
    {
     "name": "stdout",
     "output_type": "stream",
     "text": [
      "Validation accuracy: 63.63\n"
     ]
    },
    {
     "name": "stderr",
     "output_type": "stream",
     "text": [
      "epoch 2 loss=0.9621843099594116 batch_id=781: 100%|██████████| 782/782 [00:05<00:00, 138.69it/s] \n"
     ]
    },
    {
     "name": "stdout",
     "output_type": "stream",
     "text": [
      "Validation accuracy: 66.89\n"
     ]
    },
    {
     "name": "stderr",
     "output_type": "stream",
     "text": [
      "epoch 3 loss=1.1409602165222168 batch_id=781: 100%|██████████| 782/782 [00:05<00:00, 140.29it/s] \n"
     ]
    },
    {
     "name": "stdout",
     "output_type": "stream",
     "text": [
      "Validation accuracy: 69.35\n"
     ]
    },
    {
     "name": "stderr",
     "output_type": "stream",
     "text": [
      "epoch 4 loss=1.1261519193649292 batch_id=781: 100%|██████████| 782/782 [00:05<00:00, 138.22it/s] \n"
     ]
    },
    {
     "name": "stdout",
     "output_type": "stream",
     "text": [
      "Validation accuracy: 68.58\n",
      "Fitness calculated: 68.58\n"
     ]
    },
    {
     "name": "stderr",
     "output_type": "stream",
     "text": [
      "epoch 0 loss=1.0451202392578125 batch_id=781: 100%|██████████| 782/782 [00:04<00:00, 166.58it/s] \n"
     ]
    },
    {
     "name": "stdout",
     "output_type": "stream",
     "text": [
      "Validation accuracy: 71.64\n"
     ]
    },
    {
     "name": "stderr",
     "output_type": "stream",
     "text": [
      "epoch 1 loss=0.41376593708992004 batch_id=781: 100%|██████████| 782/782 [00:04<00:00, 167.30it/s]\n"
     ]
    },
    {
     "name": "stdout",
     "output_type": "stream",
     "text": [
      "Validation accuracy: 71.99\n"
     ]
    },
    {
     "name": "stderr",
     "output_type": "stream",
     "text": [
      "epoch 2 loss=0.5186800956726074 batch_id=781: 100%|██████████| 782/782 [00:04<00:00, 170.45it/s] \n"
     ]
    },
    {
     "name": "stdout",
     "output_type": "stream",
     "text": [
      "Validation accuracy: 72.26\n"
     ]
    },
    {
     "name": "stderr",
     "output_type": "stream",
     "text": [
      "epoch 3 loss=0.5318057537078857 batch_id=781: 100%|██████████| 782/782 [00:04<00:00, 168.83it/s] \n"
     ]
    },
    {
     "name": "stdout",
     "output_type": "stream",
     "text": [
      "Validation accuracy: 69.07\n"
     ]
    },
    {
     "name": "stderr",
     "output_type": "stream",
     "text": [
      "epoch 4 loss=0.7208701372146606 batch_id=781: 100%|██████████| 782/782 [00:04<00:00, 171.64it/s] \n"
     ]
    },
    {
     "name": "stdout",
     "output_type": "stream",
     "text": [
      "Validation accuracy: 71.8\n",
      "Fitness calculated: 71.8\n",
      "\n",
      "\n",
      "\n",
      "Fittest in phase 1 and generation 2: 71.8\n",
      "\n",
      "\n",
      "Fittest in phase 1 = 71.8\n",
      "\n",
      "\n"
     ]
    },
    {
     "name": "stderr",
     "output_type": "stream",
     "text": [
      "epoch 0 loss=0.6729349493980408 batch_id=781: 100%|██████████| 782/782 [00:08<00:00, 87.35it/s] \n"
     ]
    },
    {
     "name": "stdout",
     "output_type": "stream",
     "text": [
      "Validation accuracy: 69.17\n"
     ]
    },
    {
     "name": "stderr",
     "output_type": "stream",
     "text": [
      "epoch 1 loss=0.984646737575531 batch_id=781: 100%|██████████| 782/782 [00:09<00:00, 86.69it/s]  \n"
     ]
    },
    {
     "name": "stdout",
     "output_type": "stream",
     "text": [
      "Validation accuracy: 71.99\n"
     ]
    },
    {
     "name": "stderr",
     "output_type": "stream",
     "text": [
      "epoch 2 loss=0.7231952548027039 batch_id=781: 100%|██████████| 782/782 [00:08<00:00, 87.75it/s] \n"
     ]
    },
    {
     "name": "stdout",
     "output_type": "stream",
     "text": [
      "Validation accuracy: 70.97\n"
     ]
    },
    {
     "name": "stderr",
     "output_type": "stream",
     "text": [
      "epoch 3 loss=0.21293339133262634 batch_id=781: 100%|██████████| 782/782 [00:08<00:00, 87.58it/s]\n"
     ]
    },
    {
     "name": "stdout",
     "output_type": "stream",
     "text": [
      "Validation accuracy: 71.16\n"
     ]
    },
    {
     "name": "stderr",
     "output_type": "stream",
     "text": [
      "epoch 4 loss=0.4133565425872803 batch_id=781: 100%|██████████| 782/782 [00:08<00:00, 87.49it/s] \n"
     ]
    },
    {
     "name": "stdout",
     "output_type": "stream",
     "text": [
      "Validation accuracy: 69.86\n",
      "Fitness calculated: 69.86\n"
     ]
    },
    {
     "name": "stderr",
     "output_type": "stream",
     "text": [
      "epoch 0 loss=1.2679765224456787 batch_id=781: 100%|██████████| 782/782 [00:10<00:00, 77.76it/s] \n"
     ]
    },
    {
     "name": "stdout",
     "output_type": "stream",
     "text": [
      "Validation accuracy: 69.69\n"
     ]
    },
    {
     "name": "stderr",
     "output_type": "stream",
     "text": [
      "epoch 1 loss=0.9859134554862976 batch_id=781: 100%|██████████| 782/782 [00:10<00:00, 78.04it/s] \n"
     ]
    },
    {
     "name": "stdout",
     "output_type": "stream",
     "text": [
      "Validation accuracy: 71.32\n"
     ]
    },
    {
     "name": "stderr",
     "output_type": "stream",
     "text": [
      "epoch 2 loss=0.28899499773979187 batch_id=781: 100%|██████████| 782/782 [00:10<00:00, 77.71it/s]\n"
     ]
    },
    {
     "name": "stdout",
     "output_type": "stream",
     "text": [
      "Validation accuracy: 71.47\n"
     ]
    },
    {
     "name": "stderr",
     "output_type": "stream",
     "text": [
      "epoch 3 loss=1.3044087886810303 batch_id=781: 100%|██████████| 782/782 [00:10<00:00, 78.06it/s] \n"
     ]
    },
    {
     "name": "stdout",
     "output_type": "stream",
     "text": [
      "Validation accuracy: 71.78\n"
     ]
    },
    {
     "name": "stderr",
     "output_type": "stream",
     "text": [
      "epoch 4 loss=0.5020194053649902 batch_id=781: 100%|██████████| 782/782 [00:10<00:00, 77.91it/s] \n"
     ]
    },
    {
     "name": "stdout",
     "output_type": "stream",
     "text": [
      "Validation accuracy: 72.54\n",
      "Fitness calculated: 72.54\n"
     ]
    },
    {
     "name": "stderr",
     "output_type": "stream",
     "text": [
      "epoch 0 loss=0.6624426245689392 batch_id=781: 100%|██████████| 782/782 [00:04<00:00, 157.11it/s] \n"
     ]
    },
    {
     "name": "stdout",
     "output_type": "stream",
     "text": [
      "Validation accuracy: 68.16\n"
     ]
    },
    {
     "name": "stderr",
     "output_type": "stream",
     "text": [
      "epoch 1 loss=0.4032880961894989 batch_id=781: 100%|██████████| 782/782 [00:05<00:00, 154.90it/s] \n"
     ]
    },
    {
     "name": "stdout",
     "output_type": "stream",
     "text": [
      "Validation accuracy: 70.9\n"
     ]
    },
    {
     "name": "stderr",
     "output_type": "stream",
     "text": [
      "epoch 2 loss=0.4984356462955475 batch_id=781: 100%|██████████| 782/782 [00:05<00:00, 154.28it/s] \n"
     ]
    },
    {
     "name": "stdout",
     "output_type": "stream",
     "text": [
      "Validation accuracy: 72.85\n"
     ]
    },
    {
     "name": "stderr",
     "output_type": "stream",
     "text": [
      "epoch 3 loss=0.49879902601242065 batch_id=781: 100%|██████████| 782/782 [00:04<00:00, 157.87it/s]\n"
     ]
    },
    {
     "name": "stdout",
     "output_type": "stream",
     "text": [
      "Validation accuracy: 72.41\n"
     ]
    },
    {
     "name": "stderr",
     "output_type": "stream",
     "text": [
      "epoch 4 loss=0.364208459854126 batch_id=781: 100%|██████████| 782/782 [00:05<00:00, 156.11it/s]  \n"
     ]
    },
    {
     "name": "stdout",
     "output_type": "stream",
     "text": [
      "Validation accuracy: 72.88\n",
      "Fitness calculated: 72.88\n"
     ]
    },
    {
     "name": "stderr",
     "output_type": "stream",
     "text": [
      "epoch 0 loss=3.4342076778411865 batch_id=781: 100%|██████████| 782/782 [00:10<00:00, 75.38it/s]\n"
     ]
    },
    {
     "name": "stdout",
     "output_type": "stream",
     "text": [
      "Validation accuracy: 67.68\n"
     ]
    },
    {
     "name": "stderr",
     "output_type": "stream",
     "text": [
      "epoch 1 loss=0.27040955424308777 batch_id=781: 100%|██████████| 782/782 [00:10<00:00, 75.31it/s]\n"
     ]
    },
    {
     "name": "stdout",
     "output_type": "stream",
     "text": [
      "Validation accuracy: 69.65\n"
     ]
    },
    {
     "name": "stderr",
     "output_type": "stream",
     "text": [
      "epoch 2 loss=0.6551340222358704 batch_id=781: 100%|██████████| 782/782 [00:10<00:00, 75.63it/s] \n"
     ]
    },
    {
     "name": "stdout",
     "output_type": "stream",
     "text": [
      "Validation accuracy: 72.51\n"
     ]
    },
    {
     "name": "stderr",
     "output_type": "stream",
     "text": [
      "epoch 3 loss=0.885783851146698 batch_id=781: 100%|██████████| 782/782 [00:10<00:00, 75.59it/s]  \n"
     ]
    },
    {
     "name": "stdout",
     "output_type": "stream",
     "text": [
      "Validation accuracy: 70.19\n"
     ]
    },
    {
     "name": "stderr",
     "output_type": "stream",
     "text": [
      "epoch 4 loss=0.2948015034198761 batch_id=781: 100%|██████████| 782/782 [00:10<00:00, 75.52it/s] \n"
     ]
    },
    {
     "name": "stdout",
     "output_type": "stream",
     "text": [
      "Validation accuracy: 72.88\n",
      "Fitness calculated: 72.88\n"
     ]
    },
    {
     "name": "stderr",
     "output_type": "stream",
     "text": [
      "epoch 0 loss=0.1187581866979599 batch_id=781: 100%|██████████| 782/782 [00:09<00:00, 79.35it/s] \n"
     ]
    },
    {
     "name": "stdout",
     "output_type": "stream",
     "text": [
      "Validation accuracy: 71.54\n"
     ]
    },
    {
     "name": "stderr",
     "output_type": "stream",
     "text": [
      "epoch 1 loss=0.44111359119415283 batch_id=781: 100%|██████████| 782/782 [00:09<00:00, 79.31it/s]\n"
     ]
    },
    {
     "name": "stdout",
     "output_type": "stream",
     "text": [
      "Validation accuracy: 71.81\n"
     ]
    },
    {
     "name": "stderr",
     "output_type": "stream",
     "text": [
      "epoch 2 loss=1.1709245443344116 batch_id=781: 100%|██████████| 782/782 [00:09<00:00, 79.26it/s] \n"
     ]
    },
    {
     "name": "stdout",
     "output_type": "stream",
     "text": [
      "Validation accuracy: 71.79\n"
     ]
    },
    {
     "name": "stderr",
     "output_type": "stream",
     "text": [
      "epoch 3 loss=0.49117428064346313 batch_id=781: 100%|██████████| 782/782 [00:09<00:00, 79.25it/s]\n"
     ]
    },
    {
     "name": "stdout",
     "output_type": "stream",
     "text": [
      "Validation accuracy: 68.86\n"
     ]
    },
    {
     "name": "stderr",
     "output_type": "stream",
     "text": [
      "epoch 4 loss=0.4732232987880707 batch_id=781: 100%|██████████| 782/782 [00:09<00:00, 79.45it/s] \n"
     ]
    },
    {
     "name": "stdout",
     "output_type": "stream",
     "text": [
      "Validation accuracy: 70.95\n",
      "Fitness calculated: 70.95\n"
     ]
    },
    {
     "name": "stderr",
     "output_type": "stream",
     "text": [
      "epoch 0 loss=0.9622664451599121 batch_id=781: 100%|██████████| 782/782 [00:04<00:00, 157.97it/s] \n"
     ]
    },
    {
     "name": "stdout",
     "output_type": "stream",
     "text": [
      "Validation accuracy: 72.83\n"
     ]
    },
    {
     "name": "stderr",
     "output_type": "stream",
     "text": [
      "epoch 1 loss=0.9309937953948975 batch_id=781: 100%|██████████| 782/782 [00:04<00:00, 158.42it/s] \n"
     ]
    },
    {
     "name": "stdout",
     "output_type": "stream",
     "text": [
      "Validation accuracy: 73.4\n"
     ]
    },
    {
     "name": "stderr",
     "output_type": "stream",
     "text": [
      "epoch 2 loss=0.4888482689857483 batch_id=781: 100%|██████████| 782/782 [00:04<00:00, 158.47it/s] \n"
     ]
    },
    {
     "name": "stdout",
     "output_type": "stream",
     "text": [
      "Validation accuracy: 72.14\n"
     ]
    },
    {
     "name": "stderr",
     "output_type": "stream",
     "text": [
      "epoch 3 loss=0.23243288695812225 batch_id=781: 100%|██████████| 782/782 [00:04<00:00, 159.13it/s]\n"
     ]
    },
    {
     "name": "stdout",
     "output_type": "stream",
     "text": [
      "Validation accuracy: 72.12\n"
     ]
    },
    {
     "name": "stderr",
     "output_type": "stream",
     "text": [
      "epoch 4 loss=1.0223398208618164 batch_id=781: 100%|██████████| 782/782 [00:04<00:00, 158.62it/s] \n"
     ]
    },
    {
     "name": "stdout",
     "output_type": "stream",
     "text": [
      "Validation accuracy: 71.69\n",
      "Fitness calculated: 71.69\n"
     ]
    },
    {
     "name": "stderr",
     "output_type": "stream",
     "text": [
      "epoch 0 loss=0.43669816851615906 batch_id=781: 100%|██████████| 782/782 [00:05<00:00, 151.47it/s]\n"
     ]
    },
    {
     "name": "stdout",
     "output_type": "stream",
     "text": [
      "Validation accuracy: 69.32\n"
     ]
    },
    {
     "name": "stderr",
     "output_type": "stream",
     "text": [
      "epoch 1 loss=0.8232094645500183 batch_id=781: 100%|██████████| 782/782 [00:05<00:00, 150.73it/s] \n"
     ]
    },
    {
     "name": "stdout",
     "output_type": "stream",
     "text": [
      "Validation accuracy: 71.46\n"
     ]
    },
    {
     "name": "stderr",
     "output_type": "stream",
     "text": [
      "epoch 2 loss=1.5423197746276855 batch_id=781: 100%|██████████| 782/782 [00:05<00:00, 150.34it/s] \n"
     ]
    },
    {
     "name": "stdout",
     "output_type": "stream",
     "text": [
      "Validation accuracy: 70.71\n"
     ]
    },
    {
     "name": "stderr",
     "output_type": "stream",
     "text": [
      "epoch 3 loss=0.6819031834602356 batch_id=781: 100%|██████████| 782/782 [00:05<00:00, 152.21it/s] \n"
     ]
    },
    {
     "name": "stdout",
     "output_type": "stream",
     "text": [
      "Validation accuracy: 72.43\n"
     ]
    },
    {
     "name": "stderr",
     "output_type": "stream",
     "text": [
      "epoch 4 loss=0.6408737301826477 batch_id=781: 100%|██████████| 782/782 [00:05<00:00, 150.34it/s] \n"
     ]
    },
    {
     "name": "stdout",
     "output_type": "stream",
     "text": [
      "Validation accuracy: 69.12\n",
      "Fitness calculated: 69.12\n"
     ]
    },
    {
     "name": "stderr",
     "output_type": "stream",
     "text": [
      "epoch 0 loss=0.9509192705154419 batch_id=781: 100%|██████████| 782/782 [00:05<00:00, 142.48it/s] \n"
     ]
    },
    {
     "name": "stdout",
     "output_type": "stream",
     "text": [
      "Validation accuracy: 71.45\n"
     ]
    },
    {
     "name": "stderr",
     "output_type": "stream",
     "text": [
      "epoch 1 loss=0.7196704745292664 batch_id=781: 100%|██████████| 782/782 [00:05<00:00, 142.67it/s] \n"
     ]
    },
    {
     "name": "stdout",
     "output_type": "stream",
     "text": [
      "Validation accuracy: 72.01\n"
     ]
    },
    {
     "name": "stderr",
     "output_type": "stream",
     "text": [
      "epoch 2 loss=0.9724970459938049 batch_id=781: 100%|██████████| 782/782 [00:05<00:00, 143.25it/s] \n"
     ]
    },
    {
     "name": "stdout",
     "output_type": "stream",
     "text": [
      "Validation accuracy: 73.23\n"
     ]
    },
    {
     "name": "stderr",
     "output_type": "stream",
     "text": [
      "epoch 3 loss=0.42671823501586914 batch_id=781: 100%|██████████| 782/782 [00:05<00:00, 143.03it/s]\n"
     ]
    },
    {
     "name": "stdout",
     "output_type": "stream",
     "text": [
      "Validation accuracy: 72.38\n"
     ]
    },
    {
     "name": "stderr",
     "output_type": "stream",
     "text": [
      "epoch 4 loss=0.4683796167373657 batch_id=781: 100%|██████████| 782/782 [00:05<00:00, 144.50it/s] \n"
     ]
    },
    {
     "name": "stdout",
     "output_type": "stream",
     "text": [
      "Validation accuracy: 72.83\n",
      "Fitness calculated: 72.83\n"
     ]
    },
    {
     "name": "stderr",
     "output_type": "stream",
     "text": [
      "epoch 0 loss=0.7656044960021973 batch_id=781: 100%|██████████| 782/782 [00:05<00:00, 144.49it/s] \n"
     ]
    },
    {
     "name": "stdout",
     "output_type": "stream",
     "text": [
      "Validation accuracy: 72.07\n"
     ]
    },
    {
     "name": "stderr",
     "output_type": "stream",
     "text": [
      "epoch 1 loss=0.5842570066452026 batch_id=781: 100%|██████████| 782/782 [00:05<00:00, 144.72it/s] \n"
     ]
    },
    {
     "name": "stdout",
     "output_type": "stream",
     "text": [
      "Validation accuracy: 72.68\n"
     ]
    },
    {
     "name": "stderr",
     "output_type": "stream",
     "text": [
      "epoch 2 loss=0.6779229044914246 batch_id=781: 100%|██████████| 782/782 [00:05<00:00, 143.36it/s] \n"
     ]
    },
    {
     "name": "stdout",
     "output_type": "stream",
     "text": [
      "Validation accuracy: 72.69\n"
     ]
    },
    {
     "name": "stderr",
     "output_type": "stream",
     "text": [
      "epoch 3 loss=0.8079644441604614 batch_id=781: 100%|██████████| 782/782 [00:05<00:00, 143.24it/s] \n"
     ]
    },
    {
     "name": "stdout",
     "output_type": "stream",
     "text": [
      "Validation accuracy: 71.35\n"
     ]
    },
    {
     "name": "stderr",
     "output_type": "stream",
     "text": [
      "epoch 4 loss=0.3832051753997803 batch_id=781: 100%|██████████| 782/782 [00:05<00:00, 143.53it/s] \n"
     ]
    },
    {
     "name": "stdout",
     "output_type": "stream",
     "text": [
      "Validation accuracy: 71.93\n",
      "Fitness calculated: 71.93\n"
     ]
    },
    {
     "name": "stderr",
     "output_type": "stream",
     "text": [
      "epoch 0 loss=0.792077362537384 batch_id=781: 100%|██████████| 782/782 [00:05<00:00, 152.33it/s]  \n"
     ]
    },
    {
     "name": "stdout",
     "output_type": "stream",
     "text": [
      "Validation accuracy: 69.91\n"
     ]
    },
    {
     "name": "stderr",
     "output_type": "stream",
     "text": [
      "epoch 1 loss=0.5493797063827515 batch_id=781: 100%|██████████| 782/782 [00:05<00:00, 153.16it/s] \n"
     ]
    },
    {
     "name": "stdout",
     "output_type": "stream",
     "text": [
      "Validation accuracy: 71.27\n"
     ]
    },
    {
     "name": "stderr",
     "output_type": "stream",
     "text": [
      "epoch 2 loss=0.44270187616348267 batch_id=781: 100%|██████████| 782/782 [00:05<00:00, 151.82it/s]\n"
     ]
    },
    {
     "name": "stdout",
     "output_type": "stream",
     "text": [
      "Validation accuracy: 72.47\n"
     ]
    },
    {
     "name": "stderr",
     "output_type": "stream",
     "text": [
      "epoch 3 loss=0.2684933543205261 batch_id=781: 100%|██████████| 782/782 [00:05<00:00, 153.02it/s] \n"
     ]
    },
    {
     "name": "stdout",
     "output_type": "stream",
     "text": [
      "Validation accuracy: 72.81\n"
     ]
    },
    {
     "name": "stderr",
     "output_type": "stream",
     "text": [
      "epoch 4 loss=0.7129738926887512 batch_id=781: 100%|██████████| 782/782 [00:05<00:00, 155.11it/s] \n"
     ]
    },
    {
     "name": "stdout",
     "output_type": "stream",
     "text": [
      "Validation accuracy: 71.21\n",
      "Fitness calculated: 71.21\n"
     ]
    },
    {
     "name": "stderr",
     "output_type": "stream",
     "text": [
      "epoch 0 loss=1.6087740659713745 batch_id=781: 100%|██████████| 782/782 [00:04<00:00, 161.83it/s] \n"
     ]
    },
    {
     "name": "stdout",
     "output_type": "stream",
     "text": [
      "Validation accuracy: 70.69\n"
     ]
    },
    {
     "name": "stderr",
     "output_type": "stream",
     "text": [
      "epoch 1 loss=0.42323070764541626 batch_id=781: 100%|██████████| 782/782 [00:04<00:00, 163.50it/s]\n"
     ]
    },
    {
     "name": "stdout",
     "output_type": "stream",
     "text": [
      "Validation accuracy: 72.22\n"
     ]
    },
    {
     "name": "stderr",
     "output_type": "stream",
     "text": [
      "epoch 2 loss=0.5601799488067627 batch_id=781: 100%|██████████| 782/782 [00:04<00:00, 164.15it/s] \n"
     ]
    },
    {
     "name": "stdout",
     "output_type": "stream",
     "text": [
      "Validation accuracy: 70.82\n"
     ]
    },
    {
     "name": "stderr",
     "output_type": "stream",
     "text": [
      "epoch 3 loss=0.46889322996139526 batch_id=781: 100%|██████████| 782/782 [00:04<00:00, 164.04it/s]\n"
     ]
    },
    {
     "name": "stdout",
     "output_type": "stream",
     "text": [
      "Validation accuracy: 72.41\n"
     ]
    },
    {
     "name": "stderr",
     "output_type": "stream",
     "text": [
      "epoch 4 loss=1.0418050289154053 batch_id=781: 100%|██████████| 782/782 [00:04<00:00, 162.88it/s] \n"
     ]
    },
    {
     "name": "stdout",
     "output_type": "stream",
     "text": [
      "Validation accuracy: 72.15\n",
      "Fitness calculated: 72.15\n"
     ]
    },
    {
     "name": "stderr",
     "output_type": "stream",
     "text": [
      "epoch 0 loss=0.7931998372077942 batch_id=781: 100%|██████████| 782/782 [00:09<00:00, 80.54it/s] \n"
     ]
    },
    {
     "name": "stdout",
     "output_type": "stream",
     "text": [
      "Validation accuracy: 69.16\n"
     ]
    },
    {
     "name": "stderr",
     "output_type": "stream",
     "text": [
      "epoch 1 loss=1.111599326133728 batch_id=781: 100%|██████████| 782/782 [00:09<00:00, 79.95it/s]  \n"
     ]
    },
    {
     "name": "stdout",
     "output_type": "stream",
     "text": [
      "Validation accuracy: 70.96\n"
     ]
    },
    {
     "name": "stderr",
     "output_type": "stream",
     "text": [
      "epoch 2 loss=0.6600157022476196 batch_id=781: 100%|██████████| 782/782 [00:09<00:00, 80.23it/s] \n"
     ]
    },
    {
     "name": "stdout",
     "output_type": "stream",
     "text": [
      "Validation accuracy: 71.99\n"
     ]
    },
    {
     "name": "stderr",
     "output_type": "stream",
     "text": [
      "epoch 3 loss=0.7217332124710083 batch_id=781: 100%|██████████| 782/782 [00:09<00:00, 80.40it/s] \n"
     ]
    },
    {
     "name": "stdout",
     "output_type": "stream",
     "text": [
      "Validation accuracy: 71.52\n"
     ]
    },
    {
     "name": "stderr",
     "output_type": "stream",
     "text": [
      "epoch 4 loss=0.9082265496253967 batch_id=781: 100%|██████████| 782/782 [00:09<00:00, 80.42it/s] \n"
     ]
    },
    {
     "name": "stdout",
     "output_type": "stream",
     "text": [
      "Validation accuracy: 71.06\n",
      "Fitness calculated: 71.06\n"
     ]
    },
    {
     "name": "stderr",
     "output_type": "stream",
     "text": [
      "epoch 0 loss=0.7933475375175476 batch_id=781: 100%|██████████| 782/782 [00:05<00:00, 131.28it/s] \n"
     ]
    },
    {
     "name": "stdout",
     "output_type": "stream",
     "text": [
      "Validation accuracy: 69.65\n"
     ]
    },
    {
     "name": "stderr",
     "output_type": "stream",
     "text": [
      "epoch 1 loss=0.6439924836158752 batch_id=781: 100%|██████████| 782/782 [00:05<00:00, 132.11it/s] \n"
     ]
    },
    {
     "name": "stdout",
     "output_type": "stream",
     "text": [
      "Validation accuracy: 71.66\n"
     ]
    },
    {
     "name": "stderr",
     "output_type": "stream",
     "text": [
      "epoch 2 loss=0.885211706161499 batch_id=781: 100%|██████████| 782/782 [00:05<00:00, 132.05it/s]  \n"
     ]
    },
    {
     "name": "stdout",
     "output_type": "stream",
     "text": [
      "Validation accuracy: 72.53\n"
     ]
    },
    {
     "name": "stderr",
     "output_type": "stream",
     "text": [
      "epoch 3 loss=0.9843282103538513 batch_id=781: 100%|██████████| 782/782 [00:05<00:00, 131.72it/s] \n"
     ]
    },
    {
     "name": "stdout",
     "output_type": "stream",
     "text": [
      "Validation accuracy: 72.9\n"
     ]
    },
    {
     "name": "stderr",
     "output_type": "stream",
     "text": [
      "epoch 4 loss=0.9251027703285217 batch_id=781: 100%|██████████| 782/782 [00:05<00:00, 131.64it/s] \n"
     ]
    },
    {
     "name": "stdout",
     "output_type": "stream",
     "text": [
      "Validation accuracy: 70.47\n",
      "Fitness calculated: 70.47\n"
     ]
    },
    {
     "name": "stderr",
     "output_type": "stream",
     "text": [
      "epoch 0 loss=0.6639015078544617 batch_id=781: 100%|██████████| 782/782 [00:04<00:00, 167.05it/s] \n"
     ]
    },
    {
     "name": "stdout",
     "output_type": "stream",
     "text": [
      "Validation accuracy: 71.28\n"
     ]
    },
    {
     "name": "stderr",
     "output_type": "stream",
     "text": [
      "epoch 1 loss=0.3252319395542145 batch_id=781: 100%|██████████| 782/782 [00:04<00:00, 169.42it/s] \n"
     ]
    },
    {
     "name": "stdout",
     "output_type": "stream",
     "text": [
      "Validation accuracy: 72.61\n"
     ]
    },
    {
     "name": "stderr",
     "output_type": "stream",
     "text": [
      "epoch 2 loss=0.3042895197868347 batch_id=781: 100%|██████████| 782/782 [00:04<00:00, 170.41it/s] \n"
     ]
    },
    {
     "name": "stdout",
     "output_type": "stream",
     "text": [
      "Validation accuracy: 72.2\n"
     ]
    },
    {
     "name": "stderr",
     "output_type": "stream",
     "text": [
      "epoch 3 loss=0.43619048595428467 batch_id=781: 100%|██████████| 782/782 [00:04<00:00, 168.68it/s]\n"
     ]
    },
    {
     "name": "stdout",
     "output_type": "stream",
     "text": [
      "Validation accuracy: 72.3\n"
     ]
    },
    {
     "name": "stderr",
     "output_type": "stream",
     "text": [
      "epoch 4 loss=0.5008769631385803 batch_id=781: 100%|██████████| 782/782 [00:04<00:00, 170.79it/s] \n"
     ]
    },
    {
     "name": "stdout",
     "output_type": "stream",
     "text": [
      "Validation accuracy: 71.44\n",
      "Fitness calculated: 71.44\n"
     ]
    },
    {
     "name": "stderr",
     "output_type": "stream",
     "text": [
      "epoch 0 loss=1.444622278213501 batch_id=781: 100%|██████████| 782/782 [00:04<00:00, 169.57it/s] \n"
     ]
    },
    {
     "name": "stdout",
     "output_type": "stream",
     "text": [
      "Validation accuracy: 68.69\n"
     ]
    },
    {
     "name": "stderr",
     "output_type": "stream",
     "text": [
      "epoch 1 loss=0.1281314641237259 batch_id=781: 100%|██████████| 782/782 [00:04<00:00, 169.64it/s] \n"
     ]
    },
    {
     "name": "stdout",
     "output_type": "stream",
     "text": [
      "Validation accuracy: 69.67\n"
     ]
    },
    {
     "name": "stderr",
     "output_type": "stream",
     "text": [
      "epoch 2 loss=1.2968674898147583 batch_id=781: 100%|██████████| 782/782 [00:04<00:00, 170.98it/s] \n"
     ]
    },
    {
     "name": "stdout",
     "output_type": "stream",
     "text": [
      "Validation accuracy: 70.53\n"
     ]
    },
    {
     "name": "stderr",
     "output_type": "stream",
     "text": [
      "epoch 3 loss=0.7129054069519043 batch_id=781: 100%|██████████| 782/782 [00:04<00:00, 167.58it/s] \n"
     ]
    },
    {
     "name": "stdout",
     "output_type": "stream",
     "text": [
      "Validation accuracy: 71.41\n"
     ]
    },
    {
     "name": "stderr",
     "output_type": "stream",
     "text": [
      "epoch 4 loss=0.46856993436813354 batch_id=781: 100%|██████████| 782/782 [00:04<00:00, 167.02it/s]\n"
     ]
    },
    {
     "name": "stdout",
     "output_type": "stream",
     "text": [
      "Validation accuracy: 71.03\n",
      "Fitness calculated: 71.03\n"
     ]
    },
    {
     "name": "stderr",
     "output_type": "stream",
     "text": [
      "epoch 0 loss=0.5849942564964294 batch_id=781: 100%|██████████| 782/782 [00:04<00:00, 156.57it/s] \n"
     ]
    },
    {
     "name": "stdout",
     "output_type": "stream",
     "text": [
      "Validation accuracy: 71.73\n"
     ]
    },
    {
     "name": "stderr",
     "output_type": "stream",
     "text": [
      "epoch 1 loss=0.6766797304153442 batch_id=781: 100%|██████████| 782/782 [00:04<00:00, 157.90it/s] \n"
     ]
    },
    {
     "name": "stdout",
     "output_type": "stream",
     "text": [
      "Validation accuracy: 73.25\n"
     ]
    },
    {
     "name": "stderr",
     "output_type": "stream",
     "text": [
      "epoch 2 loss=0.8787985444068909 batch_id=781: 100%|██████████| 782/782 [00:04<00:00, 157.81it/s] \n"
     ]
    },
    {
     "name": "stdout",
     "output_type": "stream",
     "text": [
      "Validation accuracy: 72.26\n"
     ]
    },
    {
     "name": "stderr",
     "output_type": "stream",
     "text": [
      "epoch 3 loss=0.5441268682479858 batch_id=781: 100%|██████████| 782/782 [00:04<00:00, 158.05it/s] \n"
     ]
    },
    {
     "name": "stdout",
     "output_type": "stream",
     "text": [
      "Validation accuracy: 73.62\n"
     ]
    },
    {
     "name": "stderr",
     "output_type": "stream",
     "text": [
      "epoch 4 loss=0.6421434283256531 batch_id=781: 100%|██████████| 782/782 [00:04<00:00, 157.82it/s] \n"
     ]
    },
    {
     "name": "stdout",
     "output_type": "stream",
     "text": [
      "Validation accuracy: 72.35\n",
      "Fitness calculated: 72.35\n"
     ]
    },
    {
     "name": "stderr",
     "output_type": "stream",
     "text": [
      "epoch 0 loss=0.8134505152702332 batch_id=781: 100%|██████████| 782/782 [00:04<00:00, 157.55it/s] \n"
     ]
    },
    {
     "name": "stdout",
     "output_type": "stream",
     "text": [
      "Validation accuracy: 72.43\n"
     ]
    },
    {
     "name": "stderr",
     "output_type": "stream",
     "text": [
      "epoch 1 loss=0.541688084602356 batch_id=781: 100%|██████████| 782/782 [00:05<00:00, 155.15it/s]  \n"
     ]
    },
    {
     "name": "stdout",
     "output_type": "stream",
     "text": [
      "Validation accuracy: 73.09\n"
     ]
    },
    {
     "name": "stderr",
     "output_type": "stream",
     "text": [
      "epoch 2 loss=0.32208922505378723 batch_id=781: 100%|██████████| 782/782 [00:05<00:00, 156.32it/s]\n"
     ]
    },
    {
     "name": "stdout",
     "output_type": "stream",
     "text": [
      "Validation accuracy: 73.78\n"
     ]
    },
    {
     "name": "stderr",
     "output_type": "stream",
     "text": [
      "epoch 3 loss=0.6981925964355469 batch_id=781: 100%|██████████| 782/782 [00:05<00:00, 155.34it/s] \n"
     ]
    },
    {
     "name": "stdout",
     "output_type": "stream",
     "text": [
      "Validation accuracy: 73.73\n"
     ]
    },
    {
     "name": "stderr",
     "output_type": "stream",
     "text": [
      "epoch 4 loss=0.6947740316390991 batch_id=781: 100%|██████████| 782/782 [00:04<00:00, 159.56it/s] \n"
     ]
    },
    {
     "name": "stdout",
     "output_type": "stream",
     "text": [
      "Validation accuracy: 72.63\n",
      "Fitness calculated: 72.63\n"
     ]
    },
    {
     "name": "stderr",
     "output_type": "stream",
     "text": [
      "epoch 0 loss=0.3805390000343323 batch_id=781: 100%|██████████| 782/782 [00:06<00:00, 126.88it/s] \n"
     ]
    },
    {
     "name": "stdout",
     "output_type": "stream",
     "text": [
      "Validation accuracy: 68.99\n"
     ]
    },
    {
     "name": "stderr",
     "output_type": "stream",
     "text": [
      "epoch 1 loss=0.4806126356124878 batch_id=781: 100%|██████████| 782/782 [00:06<00:00, 126.57it/s] \n"
     ]
    },
    {
     "name": "stdout",
     "output_type": "stream",
     "text": [
      "Validation accuracy: 72.16\n"
     ]
    },
    {
     "name": "stderr",
     "output_type": "stream",
     "text": [
      "epoch 2 loss=0.6145070791244507 batch_id=781: 100%|██████████| 782/782 [00:06<00:00, 126.66it/s] \n"
     ]
    },
    {
     "name": "stdout",
     "output_type": "stream",
     "text": [
      "Validation accuracy: 72.71\n"
     ]
    },
    {
     "name": "stderr",
     "output_type": "stream",
     "text": [
      "epoch 3 loss=0.6123499870300293 batch_id=781: 100%|██████████| 782/782 [00:06<00:00, 126.75it/s] \n"
     ]
    },
    {
     "name": "stdout",
     "output_type": "stream",
     "text": [
      "Validation accuracy: 71.18\n"
     ]
    },
    {
     "name": "stderr",
     "output_type": "stream",
     "text": [
      "epoch 4 loss=0.2692197263240814 batch_id=781: 100%|██████████| 782/782 [00:06<00:00, 126.75it/s] \n"
     ]
    },
    {
     "name": "stdout",
     "output_type": "stream",
     "text": [
      "Validation accuracy: 72.16\n",
      "Fitness calculated: 72.16\n"
     ]
    },
    {
     "name": "stderr",
     "output_type": "stream",
     "text": [
      "epoch 0 loss=0.37979617714881897 batch_id=781: 100%|██████████| 782/782 [00:05<00:00, 152.54it/s]\n"
     ]
    },
    {
     "name": "stdout",
     "output_type": "stream",
     "text": [
      "Validation accuracy: 72.0\n"
     ]
    },
    {
     "name": "stderr",
     "output_type": "stream",
     "text": [
      "epoch 1 loss=0.5117352604866028 batch_id=781: 100%|██████████| 782/782 [00:05<00:00, 151.43it/s] \n"
     ]
    },
    {
     "name": "stdout",
     "output_type": "stream",
     "text": [
      "Validation accuracy: 72.07\n"
     ]
    },
    {
     "name": "stderr",
     "output_type": "stream",
     "text": [
      "epoch 2 loss=0.8088513016700745 batch_id=781: 100%|██████████| 782/782 [00:05<00:00, 152.01it/s] \n"
     ]
    },
    {
     "name": "stdout",
     "output_type": "stream",
     "text": [
      "Validation accuracy: 72.96\n"
     ]
    },
    {
     "name": "stderr",
     "output_type": "stream",
     "text": [
      "epoch 3 loss=0.6691350340843201 batch_id=781: 100%|██████████| 782/782 [00:05<00:00, 151.32it/s] \n"
     ]
    },
    {
     "name": "stdout",
     "output_type": "stream",
     "text": [
      "Validation accuracy: 73.57\n"
     ]
    },
    {
     "name": "stderr",
     "output_type": "stream",
     "text": [
      "epoch 4 loss=0.5378655791282654 batch_id=781: 100%|██████████| 782/782 [00:05<00:00, 153.13it/s] \n"
     ]
    },
    {
     "name": "stdout",
     "output_type": "stream",
     "text": [
      "Validation accuracy: 73.56\n",
      "Fitness calculated: 73.56\n"
     ]
    },
    {
     "name": "stderr",
     "output_type": "stream",
     "text": [
      "epoch 0 loss=0.7502744793891907 batch_id=781: 100%|██████████| 782/782 [00:06<00:00, 115.27it/s] \n"
     ]
    },
    {
     "name": "stdout",
     "output_type": "stream",
     "text": [
      "Validation accuracy: 69.66\n"
     ]
    },
    {
     "name": "stderr",
     "output_type": "stream",
     "text": [
      "epoch 1 loss=0.8486372232437134 batch_id=781: 100%|██████████| 782/782 [00:06<00:00, 114.93it/s] \n"
     ]
    },
    {
     "name": "stdout",
     "output_type": "stream",
     "text": [
      "Validation accuracy: 71.67\n"
     ]
    },
    {
     "name": "stderr",
     "output_type": "stream",
     "text": [
      "epoch 2 loss=0.4266405999660492 batch_id=781: 100%|██████████| 782/782 [00:06<00:00, 115.50it/s] \n"
     ]
    },
    {
     "name": "stdout",
     "output_type": "stream",
     "text": [
      "Validation accuracy: 71.26\n"
     ]
    },
    {
     "name": "stderr",
     "output_type": "stream",
     "text": [
      "epoch 3 loss=0.5551421642303467 batch_id=781: 100%|██████████| 782/782 [00:06<00:00, 115.15it/s] \n"
     ]
    },
    {
     "name": "stdout",
     "output_type": "stream",
     "text": [
      "Validation accuracy: 73.27\n"
     ]
    },
    {
     "name": "stderr",
     "output_type": "stream",
     "text": [
      "epoch 4 loss=0.5843753218650818 batch_id=781: 100%|██████████| 782/782 [00:06<00:00, 115.45it/s] \n"
     ]
    },
    {
     "name": "stdout",
     "output_type": "stream",
     "text": [
      "Validation accuracy: 72.59\n",
      "Fitness calculated: 72.59\n"
     ]
    },
    {
     "name": "stderr",
     "output_type": "stream",
     "text": [
      "epoch 0 loss=1.1064300537109375 batch_id=781: 100%|██████████| 782/782 [00:05<00:00, 131.69it/s] \n"
     ]
    },
    {
     "name": "stdout",
     "output_type": "stream",
     "text": [
      "Validation accuracy: 67.82\n"
     ]
    },
    {
     "name": "stderr",
     "output_type": "stream",
     "text": [
      "epoch 1 loss=0.24346575140953064 batch_id=781: 100%|██████████| 782/782 [00:05<00:00, 131.88it/s]\n"
     ]
    },
    {
     "name": "stdout",
     "output_type": "stream",
     "text": [
      "Validation accuracy: 72.78\n"
     ]
    },
    {
     "name": "stderr",
     "output_type": "stream",
     "text": [
      "epoch 2 loss=0.6805930137634277 batch_id=781: 100%|██████████| 782/782 [00:05<00:00, 132.25it/s] \n"
     ]
    },
    {
     "name": "stdout",
     "output_type": "stream",
     "text": [
      "Validation accuracy: 73.66\n"
     ]
    },
    {
     "name": "stderr",
     "output_type": "stream",
     "text": [
      "epoch 3 loss=0.6808908581733704 batch_id=781: 100%|██████████| 782/782 [00:05<00:00, 132.62it/s] \n"
     ]
    },
    {
     "name": "stdout",
     "output_type": "stream",
     "text": [
      "Validation accuracy: 71.53\n"
     ]
    },
    {
     "name": "stderr",
     "output_type": "stream",
     "text": [
      "epoch 4 loss=0.4060385525226593 batch_id=781: 100%|██████████| 782/782 [00:05<00:00, 132.21it/s] \n"
     ]
    },
    {
     "name": "stdout",
     "output_type": "stream",
     "text": [
      "Validation accuracy: 71.04\n",
      "Fitness calculated: 71.04\n",
      "\n",
      "\n",
      "\n",
      "Fittest in phase 2 and generation 0: 73.56\n",
      "\n",
      "\n"
     ]
    },
    {
     "name": "stderr",
     "output_type": "stream",
     "text": [
      "epoch 0 loss=0.6695684790611267 batch_id=781: 100%|██████████| 782/782 [00:05<00:00, 141.05it/s] \n"
     ]
    },
    {
     "name": "stdout",
     "output_type": "stream",
     "text": [
      "Validation accuracy: 72.12\n"
     ]
    },
    {
     "name": "stderr",
     "output_type": "stream",
     "text": [
      "epoch 1 loss=1.1335033178329468 batch_id=781: 100%|██████████| 782/782 [00:05<00:00, 142.73it/s] \n"
     ]
    },
    {
     "name": "stdout",
     "output_type": "stream",
     "text": [
      "Validation accuracy: 72.29\n"
     ]
    },
    {
     "name": "stderr",
     "output_type": "stream",
     "text": [
      "epoch 2 loss=0.5637452006340027 batch_id=781: 100%|██████████| 782/782 [00:05<00:00, 142.32it/s] \n"
     ]
    },
    {
     "name": "stdout",
     "output_type": "stream",
     "text": [
      "Validation accuracy: 71.28\n"
     ]
    },
    {
     "name": "stderr",
     "output_type": "stream",
     "text": [
      "epoch 3 loss=0.439966082572937 batch_id=781: 100%|██████████| 782/782 [00:05<00:00, 141.81it/s]  \n"
     ]
    },
    {
     "name": "stdout",
     "output_type": "stream",
     "text": [
      "Validation accuracy: 71.34\n"
     ]
    },
    {
     "name": "stderr",
     "output_type": "stream",
     "text": [
      "epoch 4 loss=0.5774121880531311 batch_id=781: 100%|██████████| 782/782 [00:05<00:00, 141.61it/s] \n"
     ]
    },
    {
     "name": "stdout",
     "output_type": "stream",
     "text": [
      "Validation accuracy: 72.04\n",
      "Fitness calculated: 72.04\n"
     ]
    },
    {
     "name": "stderr",
     "output_type": "stream",
     "text": [
      "epoch 0 loss=0.49510377645492554 batch_id=781: 100%|██████████| 782/782 [00:08<00:00, 88.22it/s]\n"
     ]
    },
    {
     "name": "stdout",
     "output_type": "stream",
     "text": [
      "Validation accuracy: 71.96\n"
     ]
    },
    {
     "name": "stderr",
     "output_type": "stream",
     "text": [
      "epoch 1 loss=0.31798848509788513 batch_id=781: 100%|██████████| 782/782 [00:08<00:00, 87.60it/s]\n"
     ]
    },
    {
     "name": "stdout",
     "output_type": "stream",
     "text": [
      "Validation accuracy: 72.67\n"
     ]
    },
    {
     "name": "stderr",
     "output_type": "stream",
     "text": [
      "epoch 2 loss=0.3503751754760742 batch_id=781: 100%|██████████| 782/782 [00:08<00:00, 87.83it/s] \n"
     ]
    },
    {
     "name": "stdout",
     "output_type": "stream",
     "text": [
      "Validation accuracy: 72.3\n"
     ]
    },
    {
     "name": "stderr",
     "output_type": "stream",
     "text": [
      "epoch 3 loss=0.442549467086792 batch_id=781: 100%|██████████| 782/782 [00:09<00:00, 86.53it/s]  \n"
     ]
    },
    {
     "name": "stdout",
     "output_type": "stream",
     "text": [
      "Validation accuracy: 72.26\n"
     ]
    },
    {
     "name": "stderr",
     "output_type": "stream",
     "text": [
      "epoch 4 loss=0.9055806994438171 batch_id=781: 100%|██████████| 782/782 [00:08<00:00, 88.90it/s] \n"
     ]
    },
    {
     "name": "stdout",
     "output_type": "stream",
     "text": [
      "Validation accuracy: 72.11\n",
      "Fitness calculated: 72.11\n"
     ]
    },
    {
     "name": "stderr",
     "output_type": "stream",
     "text": [
      "epoch 0 loss=0.7954961657524109 batch_id=781: 100%|██████████| 782/782 [00:09<00:00, 85.63it/s] \n"
     ]
    },
    {
     "name": "stdout",
     "output_type": "stream",
     "text": [
      "Validation accuracy: 72.36\n"
     ]
    },
    {
     "name": "stderr",
     "output_type": "stream",
     "text": [
      "epoch 1 loss=0.9964001774787903 batch_id=781: 100%|██████████| 782/782 [00:09<00:00, 86.12it/s] \n"
     ]
    },
    {
     "name": "stdout",
     "output_type": "stream",
     "text": [
      "Validation accuracy: 72.57\n"
     ]
    },
    {
     "name": "stderr",
     "output_type": "stream",
     "text": [
      "epoch 2 loss=0.2875764071941376 batch_id=781: 100%|██████████| 782/782 [00:09<00:00, 85.52it/s] \n"
     ]
    },
    {
     "name": "stdout",
     "output_type": "stream",
     "text": [
      "Validation accuracy: 72.21\n"
     ]
    },
    {
     "name": "stderr",
     "output_type": "stream",
     "text": [
      "epoch 3 loss=0.1989489495754242 batch_id=781: 100%|██████████| 782/782 [00:09<00:00, 85.60it/s] \n"
     ]
    },
    {
     "name": "stdout",
     "output_type": "stream",
     "text": [
      "Validation accuracy: 69.7\n"
     ]
    },
    {
     "name": "stderr",
     "output_type": "stream",
     "text": [
      "epoch 4 loss=0.4669645130634308 batch_id=781: 100%|██████████| 782/782 [00:09<00:00, 85.92it/s] \n"
     ]
    },
    {
     "name": "stdout",
     "output_type": "stream",
     "text": [
      "Validation accuracy: 71.64\n",
      "Fitness calculated: 71.64\n"
     ]
    },
    {
     "name": "stderr",
     "output_type": "stream",
     "text": [
      "epoch 0 loss=0.37347525358200073 batch_id=781: 100%|██████████| 782/782 [00:04<00:00, 158.39it/s]\n"
     ]
    },
    {
     "name": "stdout",
     "output_type": "stream",
     "text": [
      "Validation accuracy: 72.7\n"
     ]
    },
    {
     "name": "stderr",
     "output_type": "stream",
     "text": [
      "epoch 1 loss=0.8487153053283691 batch_id=781: 100%|██████████| 782/782 [00:04<00:00, 157.47it/s] \n"
     ]
    },
    {
     "name": "stdout",
     "output_type": "stream",
     "text": [
      "Validation accuracy: 72.37\n"
     ]
    },
    {
     "name": "stderr",
     "output_type": "stream",
     "text": [
      "epoch 2 loss=0.6160455346107483 batch_id=781: 100%|██████████| 782/782 [00:04<00:00, 159.17it/s] \n"
     ]
    },
    {
     "name": "stdout",
     "output_type": "stream",
     "text": [
      "Validation accuracy: 72.19\n"
     ]
    },
    {
     "name": "stderr",
     "output_type": "stream",
     "text": [
      "epoch 3 loss=0.44519829750061035 batch_id=781: 100%|██████████| 782/782 [00:04<00:00, 161.27it/s]\n"
     ]
    },
    {
     "name": "stdout",
     "output_type": "stream",
     "text": [
      "Validation accuracy: 70.72\n"
     ]
    },
    {
     "name": "stderr",
     "output_type": "stream",
     "text": [
      "epoch 4 loss=0.30911099910736084 batch_id=781: 100%|██████████| 782/782 [00:04<00:00, 158.21it/s]\n"
     ]
    },
    {
     "name": "stdout",
     "output_type": "stream",
     "text": [
      "Validation accuracy: 72.0\n",
      "Fitness calculated: 72.0\n"
     ]
    },
    {
     "name": "stderr",
     "output_type": "stream",
     "text": [
      "epoch 0 loss=0.8408464789390564 batch_id=781: 100%|██████████| 782/782 [00:09<00:00, 85.63it/s] \n"
     ]
    },
    {
     "name": "stdout",
     "output_type": "stream",
     "text": [
      "Validation accuracy: 71.61\n"
     ]
    },
    {
     "name": "stderr",
     "output_type": "stream",
     "text": [
      "epoch 1 loss=0.9639782309532166 batch_id=781: 100%|██████████| 782/782 [00:09<00:00, 86.21it/s] \n"
     ]
    },
    {
     "name": "stdout",
     "output_type": "stream",
     "text": [
      "Validation accuracy: 72.26\n"
     ]
    },
    {
     "name": "stderr",
     "output_type": "stream",
     "text": [
      "epoch 2 loss=0.6337428092956543 batch_id=781: 100%|██████████| 782/782 [00:09<00:00, 85.73it/s] \n"
     ]
    },
    {
     "name": "stdout",
     "output_type": "stream",
     "text": [
      "Validation accuracy: 71.27\n"
     ]
    },
    {
     "name": "stderr",
     "output_type": "stream",
     "text": [
      "epoch 3 loss=0.7142695784568787 batch_id=781: 100%|██████████| 782/782 [00:09<00:00, 85.89it/s] \n"
     ]
    },
    {
     "name": "stdout",
     "output_type": "stream",
     "text": [
      "Validation accuracy: 71.53\n"
     ]
    },
    {
     "name": "stderr",
     "output_type": "stream",
     "text": [
      "epoch 4 loss=0.5173282623291016 batch_id=781: 100%|██████████| 782/782 [00:09<00:00, 86.05it/s] \n"
     ]
    },
    {
     "name": "stdout",
     "output_type": "stream",
     "text": [
      "Validation accuracy: 71.09\n",
      "Fitness calculated: 71.09\n"
     ]
    },
    {
     "name": "stderr",
     "output_type": "stream",
     "text": [
      "epoch 0 loss=0.5885223746299744 batch_id=781: 100%|██████████| 782/782 [00:05<00:00, 151.29it/s] \n"
     ]
    },
    {
     "name": "stdout",
     "output_type": "stream",
     "text": [
      "Validation accuracy: 71.76\n"
     ]
    },
    {
     "name": "stderr",
     "output_type": "stream",
     "text": [
      "epoch 1 loss=0.5476473569869995 batch_id=781: 100%|██████████| 782/782 [00:05<00:00, 149.50it/s] \n"
     ]
    },
    {
     "name": "stdout",
     "output_type": "stream",
     "text": [
      "Validation accuracy: 73.43\n"
     ]
    },
    {
     "name": "stderr",
     "output_type": "stream",
     "text": [
      "epoch 2 loss=0.30551496148109436 batch_id=781: 100%|██████████| 782/782 [00:05<00:00, 150.18it/s]\n"
     ]
    },
    {
     "name": "stdout",
     "output_type": "stream",
     "text": [
      "Validation accuracy: 73.86\n"
     ]
    },
    {
     "name": "stderr",
     "output_type": "stream",
     "text": [
      "epoch 3 loss=1.0086544752120972 batch_id=781: 100%|██████████| 782/782 [00:05<00:00, 151.23it/s] \n"
     ]
    },
    {
     "name": "stdout",
     "output_type": "stream",
     "text": [
      "Validation accuracy: 73.23\n"
     ]
    },
    {
     "name": "stderr",
     "output_type": "stream",
     "text": [
      "epoch 4 loss=0.7099610567092896 batch_id=781: 100%|██████████| 782/782 [00:05<00:00, 151.07it/s] \n"
     ]
    },
    {
     "name": "stdout",
     "output_type": "stream",
     "text": [
      "Validation accuracy: 71.2\n",
      "Fitness calculated: 71.2\n",
      "\n",
      "\n",
      "\n",
      "Fittest in phase 2 and generation 1: 73.56\n",
      "\n",
      "\n"
     ]
    },
    {
     "name": "stderr",
     "output_type": "stream",
     "text": [
      "epoch 0 loss=0.6665639281272888 batch_id=781: 100%|██████████| 782/782 [00:09<00:00, 86.87it/s] \n"
     ]
    },
    {
     "name": "stdout",
     "output_type": "stream",
     "text": [
      "Validation accuracy: 68.89\n"
     ]
    },
    {
     "name": "stderr",
     "output_type": "stream",
     "text": [
      "epoch 1 loss=0.476992130279541 batch_id=781: 100%|██████████| 782/782 [00:08<00:00, 87.43it/s]  \n"
     ]
    },
    {
     "name": "stdout",
     "output_type": "stream",
     "text": [
      "Validation accuracy: 71.79\n"
     ]
    },
    {
     "name": "stderr",
     "output_type": "stream",
     "text": [
      "epoch 2 loss=0.23494383692741394 batch_id=781: 100%|██████████| 782/782 [00:08<00:00, 87.61it/s]\n"
     ]
    },
    {
     "name": "stdout",
     "output_type": "stream",
     "text": [
      "Validation accuracy: 71.05\n"
     ]
    },
    {
     "name": "stderr",
     "output_type": "stream",
     "text": [
      "epoch 3 loss=0.5303049683570862 batch_id=781: 100%|██████████| 782/782 [00:08<00:00, 88.10it/s] \n"
     ]
    },
    {
     "name": "stdout",
     "output_type": "stream",
     "text": [
      "Validation accuracy: 71.54\n"
     ]
    },
    {
     "name": "stderr",
     "output_type": "stream",
     "text": [
      "epoch 4 loss=0.8049323558807373 batch_id=781: 100%|██████████| 782/782 [00:08<00:00, 88.21it/s] \n"
     ]
    },
    {
     "name": "stdout",
     "output_type": "stream",
     "text": [
      "Validation accuracy: 71.78\n",
      "Fitness calculated: 71.78\n"
     ]
    },
    {
     "name": "stderr",
     "output_type": "stream",
     "text": [
      "epoch 0 loss=0.4227944612503052 batch_id=781: 100%|██████████| 782/782 [00:06<00:00, 128.76it/s] \n"
     ]
    },
    {
     "name": "stdout",
     "output_type": "stream",
     "text": [
      "Validation accuracy: 69.45\n"
     ]
    },
    {
     "name": "stderr",
     "output_type": "stream",
     "text": [
      "epoch 1 loss=0.6035880446434021 batch_id=781: 100%|██████████| 782/782 [00:06<00:00, 128.78it/s] \n"
     ]
    },
    {
     "name": "stdout",
     "output_type": "stream",
     "text": [
      "Validation accuracy: 74.49\n"
     ]
    },
    {
     "name": "stderr",
     "output_type": "stream",
     "text": [
      "epoch 2 loss=0.6780955195426941 batch_id=781: 100%|██████████| 782/782 [00:06<00:00, 128.63it/s] \n"
     ]
    },
    {
     "name": "stdout",
     "output_type": "stream",
     "text": [
      "Validation accuracy: 74.81\n"
     ]
    },
    {
     "name": "stderr",
     "output_type": "stream",
     "text": [
      "epoch 3 loss=0.3226895034313202 batch_id=781: 100%|██████████| 782/782 [00:06<00:00, 129.28it/s] \n"
     ]
    },
    {
     "name": "stdout",
     "output_type": "stream",
     "text": [
      "Validation accuracy: 74.75\n"
     ]
    },
    {
     "name": "stderr",
     "output_type": "stream",
     "text": [
      "epoch 4 loss=0.26446136832237244 batch_id=781: 100%|██████████| 782/782 [00:06<00:00, 129.01it/s]\n"
     ]
    },
    {
     "name": "stdout",
     "output_type": "stream",
     "text": [
      "Validation accuracy: 73.84\n",
      "Fitness calculated: 73.84\n"
     ]
    },
    {
     "name": "stderr",
     "output_type": "stream",
     "text": [
      "epoch 0 loss=0.8316857218742371 batch_id=781: 100%|██████████| 782/782 [00:06<00:00, 116.79it/s] \n"
     ]
    },
    {
     "name": "stdout",
     "output_type": "stream",
     "text": [
      "Validation accuracy: 70.92\n"
     ]
    },
    {
     "name": "stderr",
     "output_type": "stream",
     "text": [
      "epoch 1 loss=0.4806531071662903 batch_id=781: 100%|██████████| 782/782 [00:06<00:00, 117.82it/s] \n"
     ]
    },
    {
     "name": "stdout",
     "output_type": "stream",
     "text": [
      "Validation accuracy: 71.44\n"
     ]
    },
    {
     "name": "stderr",
     "output_type": "stream",
     "text": [
      "epoch 2 loss=1.1446192264556885 batch_id=781: 100%|██████████| 782/782 [00:06<00:00, 117.84it/s] \n"
     ]
    },
    {
     "name": "stdout",
     "output_type": "stream",
     "text": [
      "Validation accuracy: 72.02\n"
     ]
    },
    {
     "name": "stderr",
     "output_type": "stream",
     "text": [
      "epoch 3 loss=0.2544858157634735 batch_id=781: 100%|██████████| 782/782 [00:06<00:00, 117.75it/s] \n"
     ]
    },
    {
     "name": "stdout",
     "output_type": "stream",
     "text": [
      "Validation accuracy: 72.78\n"
     ]
    },
    {
     "name": "stderr",
     "output_type": "stream",
     "text": [
      "epoch 4 loss=0.48846161365509033 batch_id=781: 100%|██████████| 782/782 [00:06<00:00, 117.44it/s]\n"
     ]
    },
    {
     "name": "stdout",
     "output_type": "stream",
     "text": [
      "Validation accuracy: 72.84\n",
      "Fitness calculated: 72.84\n"
     ]
    },
    {
     "name": "stderr",
     "output_type": "stream",
     "text": [
      "epoch 0 loss=0.5397794842720032 batch_id=781: 100%|██████████| 782/782 [00:05<00:00, 152.16it/s] \n"
     ]
    },
    {
     "name": "stdout",
     "output_type": "stream",
     "text": [
      "Validation accuracy: 68.9\n"
     ]
    },
    {
     "name": "stderr",
     "output_type": "stream",
     "text": [
      "epoch 1 loss=0.7893528342247009 batch_id=781: 100%|██████████| 782/782 [00:05<00:00, 154.71it/s] \n"
     ]
    },
    {
     "name": "stdout",
     "output_type": "stream",
     "text": [
      "Validation accuracy: 72.27\n"
     ]
    },
    {
     "name": "stderr",
     "output_type": "stream",
     "text": [
      "epoch 2 loss=0.8476263284683228 batch_id=781: 100%|██████████| 782/782 [00:05<00:00, 154.52it/s] \n"
     ]
    },
    {
     "name": "stdout",
     "output_type": "stream",
     "text": [
      "Validation accuracy: 74.17\n"
     ]
    },
    {
     "name": "stderr",
     "output_type": "stream",
     "text": [
      "epoch 3 loss=0.2545602023601532 batch_id=781: 100%|██████████| 782/782 [00:05<00:00, 153.40it/s] \n"
     ]
    },
    {
     "name": "stdout",
     "output_type": "stream",
     "text": [
      "Validation accuracy: 73.23\n"
     ]
    },
    {
     "name": "stderr",
     "output_type": "stream",
     "text": [
      "epoch 4 loss=0.7994393110275269 batch_id=781: 100%|██████████| 782/782 [00:05<00:00, 155.89it/s] \n"
     ]
    },
    {
     "name": "stdout",
     "output_type": "stream",
     "text": [
      "Validation accuracy: 74.35\n",
      "Fitness calculated: 74.35\n"
     ]
    },
    {
     "name": "stderr",
     "output_type": "stream",
     "text": [
      "epoch 0 loss=0.620476484298706 batch_id=781: 100%|██████████| 782/782 [00:05<00:00, 153.53it/s]  \n"
     ]
    },
    {
     "name": "stdout",
     "output_type": "stream",
     "text": [
      "Validation accuracy: 71.18\n"
     ]
    },
    {
     "name": "stderr",
     "output_type": "stream",
     "text": [
      "epoch 1 loss=0.8273413181304932 batch_id=781: 100%|██████████| 782/782 [00:05<00:00, 152.52it/s] \n"
     ]
    },
    {
     "name": "stdout",
     "output_type": "stream",
     "text": [
      "Validation accuracy: 74.61\n"
     ]
    },
    {
     "name": "stderr",
     "output_type": "stream",
     "text": [
      "epoch 2 loss=0.7525318264961243 batch_id=781: 100%|██████████| 782/782 [00:05<00:00, 152.19it/s] \n"
     ]
    },
    {
     "name": "stdout",
     "output_type": "stream",
     "text": [
      "Validation accuracy: 73.21\n"
     ]
    },
    {
     "name": "stderr",
     "output_type": "stream",
     "text": [
      "epoch 3 loss=0.2184562087059021 batch_id=781: 100%|██████████| 782/782 [00:05<00:00, 151.62it/s] \n"
     ]
    },
    {
     "name": "stdout",
     "output_type": "stream",
     "text": [
      "Validation accuracy: 72.22\n"
     ]
    },
    {
     "name": "stderr",
     "output_type": "stream",
     "text": [
      "epoch 4 loss=0.7331035733222961 batch_id=781: 100%|██████████| 782/782 [00:05<00:00, 153.13it/s] \n"
     ]
    },
    {
     "name": "stdout",
     "output_type": "stream",
     "text": [
      "Validation accuracy: 73.51\n",
      "Fitness calculated: 73.51\n"
     ]
    },
    {
     "name": "stderr",
     "output_type": "stream",
     "text": [
      "epoch 0 loss=0.2369193583726883 batch_id=781: 100%|██████████| 782/782 [00:10<00:00, 78.08it/s] \n"
     ]
    },
    {
     "name": "stdout",
     "output_type": "stream",
     "text": [
      "Validation accuracy: 70.55\n"
     ]
    },
    {
     "name": "stderr",
     "output_type": "stream",
     "text": [
      "epoch 1 loss=0.49589332938194275 batch_id=781: 100%|██████████| 782/782 [00:09<00:00, 78.29it/s]\n"
     ]
    },
    {
     "name": "stdout",
     "output_type": "stream",
     "text": [
      "Validation accuracy: 72.71\n"
     ]
    },
    {
     "name": "stderr",
     "output_type": "stream",
     "text": [
      "epoch 2 loss=0.8823907375335693 batch_id=781: 100%|██████████| 782/782 [00:09<00:00, 78.44it/s] \n"
     ]
    },
    {
     "name": "stdout",
     "output_type": "stream",
     "text": [
      "Validation accuracy: 72.42\n"
     ]
    },
    {
     "name": "stderr",
     "output_type": "stream",
     "text": [
      "epoch 3 loss=0.3009682893753052 batch_id=781: 100%|██████████| 782/782 [00:09<00:00, 78.39it/s] \n"
     ]
    },
    {
     "name": "stdout",
     "output_type": "stream",
     "text": [
      "Validation accuracy: 73.45\n"
     ]
    },
    {
     "name": "stderr",
     "output_type": "stream",
     "text": [
      "epoch 4 loss=0.590214729309082 batch_id=781: 100%|██████████| 782/782 [00:09<00:00, 78.48it/s]  \n"
     ]
    },
    {
     "name": "stdout",
     "output_type": "stream",
     "text": [
      "Validation accuracy: 73.03\n",
      "Fitness calculated: 73.03\n",
      "\n",
      "\n",
      "\n",
      "Fittest in phase 2 and generation 2: 74.35\n",
      "\n",
      "\n",
      "Fittest in phase 2 = 74.35\n",
      "\n",
      "\n"
     ]
    },
    {
     "name": "stderr",
     "output_type": "stream",
     "text": [
      "epoch 0 loss=0.4320937693119049 batch_id=781: 100%|██████████| 782/782 [00:05<00:00, 147.48it/s] \n"
     ]
    },
    {
     "name": "stdout",
     "output_type": "stream",
     "text": [
      "Validation accuracy: 71.28\n"
     ]
    },
    {
     "name": "stderr",
     "output_type": "stream",
     "text": [
      "epoch 1 loss=0.8607253432273865 batch_id=781: 100%|██████████| 782/782 [00:05<00:00, 151.04it/s] \n"
     ]
    },
    {
     "name": "stdout",
     "output_type": "stream",
     "text": [
      "Validation accuracy: 72.44\n"
     ]
    },
    {
     "name": "stderr",
     "output_type": "stream",
     "text": [
      "epoch 2 loss=0.6272528171539307 batch_id=781: 100%|██████████| 782/782 [00:05<00:00, 149.01it/s] \n"
     ]
    },
    {
     "name": "stdout",
     "output_type": "stream",
     "text": [
      "Validation accuracy: 72.69\n"
     ]
    },
    {
     "name": "stderr",
     "output_type": "stream",
     "text": [
      "epoch 3 loss=0.3143012821674347 batch_id=781: 100%|██████████| 782/782 [00:05<00:00, 150.51it/s] \n"
     ]
    },
    {
     "name": "stdout",
     "output_type": "stream",
     "text": [
      "Validation accuracy: 74.23\n"
     ]
    },
    {
     "name": "stderr",
     "output_type": "stream",
     "text": [
      "epoch 4 loss=0.6362252235412598 batch_id=781: 100%|██████████| 782/782 [00:05<00:00, 150.19it/s] \n"
     ]
    },
    {
     "name": "stdout",
     "output_type": "stream",
     "text": [
      "Validation accuracy: 74.18\n",
      "Fitness calculated: 74.18\n"
     ]
    },
    {
     "name": "stderr",
     "output_type": "stream",
     "text": [
      "epoch 0 loss=0.6833430528640747 batch_id=781: 100%|██████████| 782/782 [00:09<00:00, 80.87it/s] \n"
     ]
    },
    {
     "name": "stdout",
     "output_type": "stream",
     "text": [
      "Validation accuracy: 71.57\n"
     ]
    },
    {
     "name": "stderr",
     "output_type": "stream",
     "text": [
      "epoch 1 loss=0.2360440343618393 batch_id=781: 100%|██████████| 782/782 [00:09<00:00, 80.59it/s] \n"
     ]
    },
    {
     "name": "stdout",
     "output_type": "stream",
     "text": [
      "Validation accuracy: 72.24\n"
     ]
    },
    {
     "name": "stderr",
     "output_type": "stream",
     "text": [
      "epoch 2 loss=0.5982217788696289 batch_id=781: 100%|██████████| 782/782 [00:09<00:00, 81.06it/s] \n"
     ]
    },
    {
     "name": "stdout",
     "output_type": "stream",
     "text": [
      "Validation accuracy: 73.06\n"
     ]
    },
    {
     "name": "stderr",
     "output_type": "stream",
     "text": [
      "epoch 3 loss=0.7156965732574463 batch_id=781: 100%|██████████| 782/782 [00:09<00:00, 81.69it/s] \n"
     ]
    },
    {
     "name": "stdout",
     "output_type": "stream",
     "text": [
      "Validation accuracy: 73.71\n"
     ]
    },
    {
     "name": "stderr",
     "output_type": "stream",
     "text": [
      "epoch 4 loss=0.2696092128753662 batch_id=781: 100%|██████████| 782/782 [00:09<00:00, 81.42it/s] \n"
     ]
    },
    {
     "name": "stdout",
     "output_type": "stream",
     "text": [
      "Validation accuracy: 72.12\n",
      "Fitness calculated: 72.12\n"
     ]
    },
    {
     "name": "stderr",
     "output_type": "stream",
     "text": [
      "epoch 0 loss=0.3950006663799286 batch_id=781: 100%|██████████| 782/782 [00:09<00:00, 81.86it/s] \n"
     ]
    },
    {
     "name": "stdout",
     "output_type": "stream",
     "text": [
      "Validation accuracy: 72.24\n"
     ]
    },
    {
     "name": "stderr",
     "output_type": "stream",
     "text": [
      "epoch 1 loss=0.8117073774337769 batch_id=781: 100%|██████████| 782/782 [00:09<00:00, 82.08it/s] \n"
     ]
    },
    {
     "name": "stdout",
     "output_type": "stream",
     "text": [
      "Validation accuracy: 73.81\n"
     ]
    },
    {
     "name": "stderr",
     "output_type": "stream",
     "text": [
      "epoch 2 loss=0.3319442570209503 batch_id=781: 100%|██████████| 782/782 [00:09<00:00, 81.84it/s] \n"
     ]
    },
    {
     "name": "stdout",
     "output_type": "stream",
     "text": [
      "Validation accuracy: 73.87\n"
     ]
    },
    {
     "name": "stderr",
     "output_type": "stream",
     "text": [
      "epoch 3 loss=0.6582650542259216 batch_id=781: 100%|██████████| 782/782 [00:09<00:00, 81.69it/s] \n"
     ]
    },
    {
     "name": "stdout",
     "output_type": "stream",
     "text": [
      "Validation accuracy: 73.67\n"
     ]
    },
    {
     "name": "stderr",
     "output_type": "stream",
     "text": [
      "epoch 4 loss=0.1753721833229065 batch_id=781: 100%|██████████| 782/782 [00:09<00:00, 80.91it/s] \n"
     ]
    },
    {
     "name": "stdout",
     "output_type": "stream",
     "text": [
      "Validation accuracy: 73.67\n",
      "Fitness calculated: 73.67\n"
     ]
    },
    {
     "name": "stderr",
     "output_type": "stream",
     "text": [
      "epoch 0 loss=0.4795628786087036 batch_id=781: 100%|██████████| 782/782 [00:09<00:00, 81.68it/s] \n"
     ]
    },
    {
     "name": "stdout",
     "output_type": "stream",
     "text": [
      "Validation accuracy: 71.72\n"
     ]
    },
    {
     "name": "stderr",
     "output_type": "stream",
     "text": [
      "epoch 1 loss=0.5809446573257446 batch_id=781: 100%|██████████| 782/782 [00:09<00:00, 81.82it/s] \n"
     ]
    },
    {
     "name": "stdout",
     "output_type": "stream",
     "text": [
      "Validation accuracy: 73.82\n"
     ]
    },
    {
     "name": "stderr",
     "output_type": "stream",
     "text": [
      "epoch 2 loss=0.7656654119491577 batch_id=781: 100%|██████████| 782/782 [00:09<00:00, 81.97it/s] \n"
     ]
    },
    {
     "name": "stdout",
     "output_type": "stream",
     "text": [
      "Validation accuracy: 72.56\n"
     ]
    },
    {
     "name": "stderr",
     "output_type": "stream",
     "text": [
      "epoch 3 loss=1.0348565578460693 batch_id=781: 100%|██████████| 782/782 [00:09<00:00, 81.55it/s] \n"
     ]
    },
    {
     "name": "stdout",
     "output_type": "stream",
     "text": [
      "Validation accuracy: 72.65\n"
     ]
    },
    {
     "name": "stderr",
     "output_type": "stream",
     "text": [
      "epoch 4 loss=0.4477500915527344 batch_id=781: 100%|██████████| 782/782 [00:09<00:00, 80.54it/s] \n"
     ]
    },
    {
     "name": "stdout",
     "output_type": "stream",
     "text": [
      "Validation accuracy: 73.04\n",
      "Fitness calculated: 73.04\n"
     ]
    },
    {
     "name": "stderr",
     "output_type": "stream",
     "text": [
      "epoch 0 loss=0.4780315160751343 batch_id=781: 100%|██████████| 782/782 [00:09<00:00, 81.39it/s] \n"
     ]
    },
    {
     "name": "stdout",
     "output_type": "stream",
     "text": [
      "Validation accuracy: 73.12\n"
     ]
    },
    {
     "name": "stderr",
     "output_type": "stream",
     "text": [
      "epoch 1 loss=0.99153733253479 batch_id=781: 100%|██████████| 782/782 [00:09<00:00, 81.99it/s]   \n"
     ]
    },
    {
     "name": "stdout",
     "output_type": "stream",
     "text": [
      "Validation accuracy: 73.65\n"
     ]
    },
    {
     "name": "stderr",
     "output_type": "stream",
     "text": [
      "epoch 2 loss=0.39286893606185913 batch_id=781: 100%|██████████| 782/782 [00:09<00:00, 82.01it/s]\n"
     ]
    },
    {
     "name": "stdout",
     "output_type": "stream",
     "text": [
      "Validation accuracy: 72.45\n"
     ]
    },
    {
     "name": "stderr",
     "output_type": "stream",
     "text": [
      "epoch 3 loss=0.5347208976745605 batch_id=781: 100%|██████████| 782/782 [00:09<00:00, 82.24it/s] \n"
     ]
    },
    {
     "name": "stdout",
     "output_type": "stream",
     "text": [
      "Validation accuracy: 72.64\n"
     ]
    },
    {
     "name": "stderr",
     "output_type": "stream",
     "text": [
      "epoch 4 loss=0.49211713671684265 batch_id=781: 100%|██████████| 782/782 [00:09<00:00, 82.39it/s]\n"
     ]
    },
    {
     "name": "stdout",
     "output_type": "stream",
     "text": [
      "Validation accuracy: 71.43\n",
      "Fitness calculated: 71.43\n"
     ]
    },
    {
     "name": "stderr",
     "output_type": "stream",
     "text": [
      "epoch 0 loss=0.3301590085029602 batch_id=781: 100%|██████████| 782/782 [00:10<00:00, 78.00it/s] \n"
     ]
    },
    {
     "name": "stdout",
     "output_type": "stream",
     "text": [
      "Validation accuracy: 72.81\n"
     ]
    },
    {
     "name": "stderr",
     "output_type": "stream",
     "text": [
      "epoch 1 loss=0.9699450731277466 batch_id=781: 100%|██████████| 782/782 [00:10<00:00, 75.52it/s] \n"
     ]
    },
    {
     "name": "stdout",
     "output_type": "stream",
     "text": [
      "Validation accuracy: 72.38\n"
     ]
    },
    {
     "name": "stderr",
     "output_type": "stream",
     "text": [
      "epoch 2 loss=0.7414725422859192 batch_id=781: 100%|██████████| 782/782 [00:10<00:00, 76.70it/s] \n"
     ]
    },
    {
     "name": "stdout",
     "output_type": "stream",
     "text": [
      "Validation accuracy: 73.54\n"
     ]
    },
    {
     "name": "stderr",
     "output_type": "stream",
     "text": [
      "epoch 3 loss=0.4419609606266022 batch_id=781: 100%|██████████| 782/782 [00:10<00:00, 77.80it/s] \n"
     ]
    },
    {
     "name": "stdout",
     "output_type": "stream",
     "text": [
      "Validation accuracy: 71.46\n"
     ]
    },
    {
     "name": "stderr",
     "output_type": "stream",
     "text": [
      "epoch 4 loss=0.30065202713012695 batch_id=781: 100%|██████████| 782/782 [00:10<00:00, 77.19it/s]\n"
     ]
    },
    {
     "name": "stdout",
     "output_type": "stream",
     "text": [
      "Validation accuracy: 74.01\n",
      "Fitness calculated: 74.01\n"
     ]
    },
    {
     "name": "stderr",
     "output_type": "stream",
     "text": [
      "epoch 0 loss=0.3150598108768463 batch_id=781: 100%|██████████| 782/782 [00:09<00:00, 79.54it/s] \n"
     ]
    },
    {
     "name": "stdout",
     "output_type": "stream",
     "text": [
      "Validation accuracy: 71.78\n"
     ]
    },
    {
     "name": "stderr",
     "output_type": "stream",
     "text": [
      "epoch 1 loss=0.724364697933197 batch_id=781: 100%|██████████| 782/782 [00:09<00:00, 80.18it/s]  \n"
     ]
    },
    {
     "name": "stdout",
     "output_type": "stream",
     "text": [
      "Validation accuracy: 72.42\n"
     ]
    },
    {
     "name": "stderr",
     "output_type": "stream",
     "text": [
      "epoch 2 loss=0.2862880527973175 batch_id=781: 100%|██████████| 782/782 [00:09<00:00, 80.20it/s] \n"
     ]
    },
    {
     "name": "stdout",
     "output_type": "stream",
     "text": [
      "Validation accuracy: 73.85\n"
     ]
    },
    {
     "name": "stderr",
     "output_type": "stream",
     "text": [
      "epoch 3 loss=0.7134476900100708 batch_id=781: 100%|██████████| 782/782 [00:09<00:00, 80.19it/s] \n"
     ]
    },
    {
     "name": "stdout",
     "output_type": "stream",
     "text": [
      "Validation accuracy: 73.6\n"
     ]
    },
    {
     "name": "stderr",
     "output_type": "stream",
     "text": [
      "epoch 4 loss=0.450971394777298 batch_id=781: 100%|██████████| 782/782 [00:09<00:00, 80.25it/s]  \n"
     ]
    },
    {
     "name": "stdout",
     "output_type": "stream",
     "text": [
      "Validation accuracy: 74.27\n",
      "Fitness calculated: 74.27\n"
     ]
    },
    {
     "name": "stderr",
     "output_type": "stream",
     "text": [
      "epoch 0 loss=0.31188949942588806 batch_id=781: 100%|██████████| 782/782 [00:09<00:00, 79.48it/s]\n"
     ]
    },
    {
     "name": "stdout",
     "output_type": "stream",
     "text": [
      "Validation accuracy: 72.75\n"
     ]
    },
    {
     "name": "stderr",
     "output_type": "stream",
     "text": [
      "epoch 1 loss=0.5016223192214966 batch_id=781: 100%|██████████| 782/782 [00:09<00:00, 79.33it/s] \n"
     ]
    },
    {
     "name": "stdout",
     "output_type": "stream",
     "text": [
      "Validation accuracy: 72.82\n"
     ]
    },
    {
     "name": "stderr",
     "output_type": "stream",
     "text": [
      "epoch 2 loss=0.5902722477912903 batch_id=781: 100%|██████████| 782/782 [00:09<00:00, 79.39it/s] \n"
     ]
    },
    {
     "name": "stdout",
     "output_type": "stream",
     "text": [
      "Validation accuracy: 73.04\n"
     ]
    },
    {
     "name": "stderr",
     "output_type": "stream",
     "text": [
      "epoch 3 loss=0.39522692561149597 batch_id=781: 100%|██████████| 782/782 [00:09<00:00, 79.50it/s]\n"
     ]
    },
    {
     "name": "stdout",
     "output_type": "stream",
     "text": [
      "Validation accuracy: 73.39\n"
     ]
    },
    {
     "name": "stderr",
     "output_type": "stream",
     "text": [
      "epoch 4 loss=0.31660696864128113 batch_id=781: 100%|██████████| 782/782 [00:09<00:00, 79.60it/s]\n"
     ]
    },
    {
     "name": "stdout",
     "output_type": "stream",
     "text": [
      "Validation accuracy: 73.86\n",
      "Fitness calculated: 73.86\n"
     ]
    },
    {
     "name": "stderr",
     "output_type": "stream",
     "text": [
      "epoch 0 loss=0.4479449689388275 batch_id=781: 100%|██████████| 782/782 [00:09<00:00, 79.58it/s] \n"
     ]
    },
    {
     "name": "stdout",
     "output_type": "stream",
     "text": [
      "Validation accuracy: 72.3\n"
     ]
    },
    {
     "name": "stderr",
     "output_type": "stream",
     "text": [
      "epoch 1 loss=0.9381279945373535 batch_id=781: 100%|██████████| 782/782 [00:09<00:00, 79.46it/s] \n"
     ]
    },
    {
     "name": "stdout",
     "output_type": "stream",
     "text": [
      "Validation accuracy: 73.75\n"
     ]
    },
    {
     "name": "stderr",
     "output_type": "stream",
     "text": [
      "epoch 2 loss=0.3970735967159271 batch_id=781: 100%|██████████| 782/782 [00:09<00:00, 79.51it/s] \n"
     ]
    },
    {
     "name": "stdout",
     "output_type": "stream",
     "text": [
      "Validation accuracy: 73.08\n"
     ]
    },
    {
     "name": "stderr",
     "output_type": "stream",
     "text": [
      "epoch 3 loss=0.6423431038856506 batch_id=781: 100%|██████████| 782/782 [00:09<00:00, 79.54it/s] \n"
     ]
    },
    {
     "name": "stdout",
     "output_type": "stream",
     "text": [
      "Validation accuracy: 74.81\n"
     ]
    },
    {
     "name": "stderr",
     "output_type": "stream",
     "text": [
      "epoch 4 loss=0.43770095705986023 batch_id=781: 100%|██████████| 782/782 [00:09<00:00, 79.65it/s]\n"
     ]
    },
    {
     "name": "stdout",
     "output_type": "stream",
     "text": [
      "Validation accuracy: 73.43\n",
      "Fitness calculated: 73.43\n"
     ]
    },
    {
     "name": "stderr",
     "output_type": "stream",
     "text": [
      "epoch 0 loss=0.6685006618499756 batch_id=781: 100%|██████████| 782/782 [00:09<00:00, 81.32it/s] \n"
     ]
    },
    {
     "name": "stdout",
     "output_type": "stream",
     "text": [
      "Validation accuracy: 73.36\n"
     ]
    },
    {
     "name": "stderr",
     "output_type": "stream",
     "text": [
      "epoch 1 loss=0.6801613569259644 batch_id=781: 100%|██████████| 782/782 [00:09<00:00, 80.97it/s] \n"
     ]
    },
    {
     "name": "stdout",
     "output_type": "stream",
     "text": [
      "Validation accuracy: 73.65\n"
     ]
    },
    {
     "name": "stderr",
     "output_type": "stream",
     "text": [
      "epoch 2 loss=1.0724810361862183 batch_id=781: 100%|██████████| 782/782 [00:09<00:00, 80.77it/s] \n"
     ]
    },
    {
     "name": "stdout",
     "output_type": "stream",
     "text": [
      "Validation accuracy: 73.54\n"
     ]
    },
    {
     "name": "stderr",
     "output_type": "stream",
     "text": [
      "epoch 3 loss=0.4080449044704437 batch_id=781: 100%|██████████| 782/782 [00:09<00:00, 80.45it/s] \n"
     ]
    },
    {
     "name": "stdout",
     "output_type": "stream",
     "text": [
      "Validation accuracy: 73.73\n"
     ]
    },
    {
     "name": "stderr",
     "output_type": "stream",
     "text": [
      "epoch 4 loss=0.343863844871521 batch_id=781: 100%|██████████| 782/782 [00:09<00:00, 81.11it/s]  \n"
     ]
    },
    {
     "name": "stdout",
     "output_type": "stream",
     "text": [
      "Validation accuracy: 73.52\n",
      "Fitness calculated: 73.52\n"
     ]
    },
    {
     "name": "stderr",
     "output_type": "stream",
     "text": [
      "epoch 0 loss=0.4226341247558594 batch_id=781: 100%|██████████| 782/782 [00:09<00:00, 80.54it/s] \n"
     ]
    },
    {
     "name": "stdout",
     "output_type": "stream",
     "text": [
      "Validation accuracy: 71.52\n"
     ]
    },
    {
     "name": "stderr",
     "output_type": "stream",
     "text": [
      "epoch 1 loss=0.7101525068283081 batch_id=781: 100%|██████████| 782/782 [00:09<00:00, 80.91it/s] \n"
     ]
    },
    {
     "name": "stdout",
     "output_type": "stream",
     "text": [
      "Validation accuracy: 72.56\n"
     ]
    },
    {
     "name": "stderr",
     "output_type": "stream",
     "text": [
      "epoch 2 loss=0.3079529404640198 batch_id=781: 100%|██████████| 782/782 [00:09<00:00, 80.92it/s] \n"
     ]
    },
    {
     "name": "stdout",
     "output_type": "stream",
     "text": [
      "Validation accuracy: 73.33\n"
     ]
    },
    {
     "name": "stderr",
     "output_type": "stream",
     "text": [
      "epoch 3 loss=0.3928818106651306 batch_id=781: 100%|██████████| 782/782 [00:09<00:00, 80.47it/s] \n"
     ]
    },
    {
     "name": "stdout",
     "output_type": "stream",
     "text": [
      "Validation accuracy: 72.88\n"
     ]
    },
    {
     "name": "stderr",
     "output_type": "stream",
     "text": [
      "epoch 4 loss=0.25596562027931213 batch_id=781: 100%|██████████| 782/782 [00:09<00:00, 80.53it/s]\n"
     ]
    },
    {
     "name": "stdout",
     "output_type": "stream",
     "text": [
      "Validation accuracy: 72.13\n",
      "Fitness calculated: 72.13\n"
     ]
    },
    {
     "name": "stderr",
     "output_type": "stream",
     "text": [
      "epoch 0 loss=0.4450974762439728 batch_id=781: 100%|██████████| 782/782 [00:09<00:00, 80.57it/s] \n"
     ]
    },
    {
     "name": "stdout",
     "output_type": "stream",
     "text": [
      "Validation accuracy: 74.07\n"
     ]
    },
    {
     "name": "stderr",
     "output_type": "stream",
     "text": [
      "epoch 1 loss=0.4391520917415619 batch_id=781: 100%|██████████| 782/782 [00:09<00:00, 81.17it/s] \n"
     ]
    },
    {
     "name": "stdout",
     "output_type": "stream",
     "text": [
      "Validation accuracy: 73.19\n"
     ]
    },
    {
     "name": "stderr",
     "output_type": "stream",
     "text": [
      "epoch 2 loss=0.3736490309238434 batch_id=781: 100%|██████████| 782/782 [00:09<00:00, 81.19it/s] \n"
     ]
    },
    {
     "name": "stdout",
     "output_type": "stream",
     "text": [
      "Validation accuracy: 73.83\n"
     ]
    },
    {
     "name": "stderr",
     "output_type": "stream",
     "text": [
      "epoch 3 loss=0.8104398250579834 batch_id=781: 100%|██████████| 782/782 [00:09<00:00, 81.18it/s] \n"
     ]
    },
    {
     "name": "stdout",
     "output_type": "stream",
     "text": [
      "Validation accuracy: 73.9\n"
     ]
    },
    {
     "name": "stderr",
     "output_type": "stream",
     "text": [
      "epoch 4 loss=0.6273543834686279 batch_id=781: 100%|██████████| 782/782 [00:09<00:00, 78.85it/s] \n"
     ]
    },
    {
     "name": "stdout",
     "output_type": "stream",
     "text": [
      "Validation accuracy: 73.22\n",
      "Fitness calculated: 73.22\n"
     ]
    },
    {
     "name": "stderr",
     "output_type": "stream",
     "text": [
      "epoch 0 loss=0.547772228717804 batch_id=781: 100%|██████████| 782/782 [00:09<00:00, 81.32it/s]  \n"
     ]
    },
    {
     "name": "stdout",
     "output_type": "stream",
     "text": [
      "Validation accuracy: 73.89\n"
     ]
    },
    {
     "name": "stderr",
     "output_type": "stream",
     "text": [
      "epoch 1 loss=0.7450501322746277 batch_id=781: 100%|██████████| 782/782 [00:09<00:00, 81.17it/s] \n"
     ]
    },
    {
     "name": "stdout",
     "output_type": "stream",
     "text": [
      "Validation accuracy: 73.43\n"
     ]
    },
    {
     "name": "stderr",
     "output_type": "stream",
     "text": [
      "epoch 2 loss=0.21208128333091736 batch_id=781: 100%|██████████| 782/782 [00:09<00:00, 81.25it/s]\n"
     ]
    },
    {
     "name": "stdout",
     "output_type": "stream",
     "text": [
      "Validation accuracy: 73.97\n"
     ]
    },
    {
     "name": "stderr",
     "output_type": "stream",
     "text": [
      "epoch 3 loss=0.2944144010543823 batch_id=781: 100%|██████████| 782/782 [00:09<00:00, 81.08it/s] \n"
     ]
    },
    {
     "name": "stdout",
     "output_type": "stream",
     "text": [
      "Validation accuracy: 73.31\n"
     ]
    },
    {
     "name": "stderr",
     "output_type": "stream",
     "text": [
      "epoch 4 loss=0.19030004739761353 batch_id=781: 100%|██████████| 782/782 [00:09<00:00, 81.00it/s]\n"
     ]
    },
    {
     "name": "stdout",
     "output_type": "stream",
     "text": [
      "Validation accuracy: 73.45\n",
      "Fitness calculated: 73.45\n"
     ]
    },
    {
     "name": "stderr",
     "output_type": "stream",
     "text": [
      "epoch 0 loss=0.42108890414237976 batch_id=781: 100%|██████████| 782/782 [00:09<00:00, 81.03it/s]\n"
     ]
    },
    {
     "name": "stdout",
     "output_type": "stream",
     "text": [
      "Validation accuracy: 73.03\n"
     ]
    },
    {
     "name": "stderr",
     "output_type": "stream",
     "text": [
      "epoch 1 loss=0.6053744554519653 batch_id=781: 100%|██████████| 782/782 [00:09<00:00, 80.47it/s] \n"
     ]
    },
    {
     "name": "stdout",
     "output_type": "stream",
     "text": [
      "Validation accuracy: 73.79\n"
     ]
    },
    {
     "name": "stderr",
     "output_type": "stream",
     "text": [
      "epoch 2 loss=0.5577002763748169 batch_id=781: 100%|██████████| 782/782 [00:09<00:00, 80.17it/s] \n"
     ]
    },
    {
     "name": "stdout",
     "output_type": "stream",
     "text": [
      "Validation accuracy: 73.49\n"
     ]
    },
    {
     "name": "stderr",
     "output_type": "stream",
     "text": [
      "epoch 3 loss=0.6834495663642883 batch_id=781: 100%|██████████| 782/782 [00:09<00:00, 79.78it/s] \n"
     ]
    },
    {
     "name": "stdout",
     "output_type": "stream",
     "text": [
      "Validation accuracy: 73.61\n"
     ]
    },
    {
     "name": "stderr",
     "output_type": "stream",
     "text": [
      "epoch 4 loss=0.13670556247234344 batch_id=781: 100%|██████████| 782/782 [00:09<00:00, 80.50it/s]\n"
     ]
    },
    {
     "name": "stdout",
     "output_type": "stream",
     "text": [
      "Validation accuracy: 73.45\n",
      "Fitness calculated: 73.45\n",
      "\n",
      "\n",
      "\n",
      "Fittest in phase 3 and generation 0: 74.27\n",
      "\n",
      "\n"
     ]
    },
    {
     "name": "stderr",
     "output_type": "stream",
     "text": [
      "epoch 0 loss=0.863130509853363 batch_id=781: 100%|██████████| 782/782 [00:09<00:00, 81.83it/s]  \n"
     ]
    },
    {
     "name": "stdout",
     "output_type": "stream",
     "text": [
      "Validation accuracy: 74.05\n"
     ]
    },
    {
     "name": "stderr",
     "output_type": "stream",
     "text": [
      "epoch 1 loss=0.3976876735687256 batch_id=781: 100%|██████████| 782/782 [00:09<00:00, 81.78it/s] \n"
     ]
    },
    {
     "name": "stdout",
     "output_type": "stream",
     "text": [
      "Validation accuracy: 73.76\n"
     ]
    },
    {
     "name": "stderr",
     "output_type": "stream",
     "text": [
      "epoch 2 loss=0.590623140335083 batch_id=781: 100%|██████████| 782/782 [00:09<00:00, 81.45it/s]  \n"
     ]
    },
    {
     "name": "stdout",
     "output_type": "stream",
     "text": [
      "Validation accuracy: 72.81\n"
     ]
    },
    {
     "name": "stderr",
     "output_type": "stream",
     "text": [
      "epoch 3 loss=0.2211650013923645 batch_id=781: 100%|██████████| 782/782 [00:09<00:00, 81.91it/s] \n"
     ]
    },
    {
     "name": "stdout",
     "output_type": "stream",
     "text": [
      "Validation accuracy: 73.25\n"
     ]
    },
    {
     "name": "stderr",
     "output_type": "stream",
     "text": [
      "epoch 4 loss=0.6716773509979248 batch_id=781: 100%|██████████| 782/782 [00:09<00:00, 81.97it/s] \n"
     ]
    },
    {
     "name": "stdout",
     "output_type": "stream",
     "text": [
      "Validation accuracy: 72.84\n",
      "Fitness calculated: 72.84\n"
     ]
    },
    {
     "name": "stderr",
     "output_type": "stream",
     "text": [
      "epoch 0 loss=0.5030117630958557 batch_id=781: 100%|██████████| 782/782 [00:09<00:00, 82.57it/s] \n"
     ]
    },
    {
     "name": "stdout",
     "output_type": "stream",
     "text": [
      "Validation accuracy: 71.55\n"
     ]
    },
    {
     "name": "stderr",
     "output_type": "stream",
     "text": [
      "epoch 1 loss=1.3479955196380615 batch_id=781: 100%|██████████| 782/782 [00:09<00:00, 82.47it/s] \n"
     ]
    },
    {
     "name": "stdout",
     "output_type": "stream",
     "text": [
      "Validation accuracy: 70.78\n"
     ]
    },
    {
     "name": "stderr",
     "output_type": "stream",
     "text": [
      "epoch 2 loss=1.0370712280273438 batch_id=781: 100%|██████████| 782/782 [00:09<00:00, 81.92it/s] \n"
     ]
    },
    {
     "name": "stdout",
     "output_type": "stream",
     "text": [
      "Validation accuracy: 71.96\n"
     ]
    },
    {
     "name": "stderr",
     "output_type": "stream",
     "text": [
      "epoch 3 loss=1.089616298675537 batch_id=781: 100%|██████████| 782/782 [00:09<00:00, 81.96it/s]  \n"
     ]
    },
    {
     "name": "stdout",
     "output_type": "stream",
     "text": [
      "Validation accuracy: 72.66\n"
     ]
    },
    {
     "name": "stderr",
     "output_type": "stream",
     "text": [
      "epoch 4 loss=0.703176736831665 batch_id=781: 100%|██████████| 782/782 [00:09<00:00, 82.68it/s]  \n"
     ]
    },
    {
     "name": "stdout",
     "output_type": "stream",
     "text": [
      "Validation accuracy: 72.45\n",
      "Fitness calculated: 72.45\n"
     ]
    },
    {
     "name": "stderr",
     "output_type": "stream",
     "text": [
      "epoch 0 loss=0.27081701159477234 batch_id=781: 100%|██████████| 782/782 [00:09<00:00, 82.50it/s]\n"
     ]
    },
    {
     "name": "stdout",
     "output_type": "stream",
     "text": [
      "Validation accuracy: 69.09\n"
     ]
    },
    {
     "name": "stderr",
     "output_type": "stream",
     "text": [
      "epoch 1 loss=1.000007152557373 batch_id=781: 100%|██████████| 782/782 [00:09<00:00, 82.24it/s]  \n"
     ]
    },
    {
     "name": "stdout",
     "output_type": "stream",
     "text": [
      "Validation accuracy: 72.61\n"
     ]
    },
    {
     "name": "stderr",
     "output_type": "stream",
     "text": [
      "epoch 2 loss=0.5417739152908325 batch_id=781: 100%|██████████| 782/782 [00:09<00:00, 82.79it/s] \n"
     ]
    },
    {
     "name": "stdout",
     "output_type": "stream",
     "text": [
      "Validation accuracy: 72.9\n"
     ]
    },
    {
     "name": "stderr",
     "output_type": "stream",
     "text": [
      "epoch 3 loss=0.48954537510871887 batch_id=781: 100%|██████████| 782/782 [00:09<00:00, 82.42it/s]\n"
     ]
    },
    {
     "name": "stdout",
     "output_type": "stream",
     "text": [
      "Validation accuracy: 72.51\n"
     ]
    },
    {
     "name": "stderr",
     "output_type": "stream",
     "text": [
      "epoch 4 loss=0.6376820802688599 batch_id=781: 100%|██████████| 782/782 [00:09<00:00, 81.95it/s] \n"
     ]
    },
    {
     "name": "stdout",
     "output_type": "stream",
     "text": [
      "Validation accuracy: 72.64\n",
      "Fitness calculated: 72.64\n"
     ]
    },
    {
     "name": "stderr",
     "output_type": "stream",
     "text": [
      "epoch 0 loss=0.12978047132492065 batch_id=781: 100%|██████████| 782/782 [00:09<00:00, 82.05it/s]\n"
     ]
    },
    {
     "name": "stdout",
     "output_type": "stream",
     "text": [
      "Validation accuracy: 73.59\n"
     ]
    },
    {
     "name": "stderr",
     "output_type": "stream",
     "text": [
      "epoch 1 loss=0.34162473678588867 batch_id=781: 100%|██████████| 782/782 [00:09<00:00, 82.23it/s]\n"
     ]
    },
    {
     "name": "stdout",
     "output_type": "stream",
     "text": [
      "Validation accuracy: 72.99\n"
     ]
    },
    {
     "name": "stderr",
     "output_type": "stream",
     "text": [
      "epoch 2 loss=0.5700875520706177 batch_id=781: 100%|██████████| 782/782 [00:09<00:00, 81.29it/s] \n"
     ]
    },
    {
     "name": "stdout",
     "output_type": "stream",
     "text": [
      "Validation accuracy: 73.36\n"
     ]
    },
    {
     "name": "stderr",
     "output_type": "stream",
     "text": [
      "epoch 3 loss=0.3610200881958008 batch_id=781: 100%|██████████| 782/782 [00:09<00:00, 81.63it/s] \n"
     ]
    },
    {
     "name": "stdout",
     "output_type": "stream",
     "text": [
      "Validation accuracy: 72.61\n"
     ]
    },
    {
     "name": "stderr",
     "output_type": "stream",
     "text": [
      "epoch 4 loss=0.06372571736574173 batch_id=781: 100%|██████████| 782/782 [00:09<00:00, 80.77it/s]\n"
     ]
    },
    {
     "name": "stdout",
     "output_type": "stream",
     "text": [
      "Validation accuracy: 72.76\n",
      "Fitness calculated: 72.76\n"
     ]
    },
    {
     "name": "stderr",
     "output_type": "stream",
     "text": [
      "epoch 0 loss=0.7927964329719543 batch_id=781: 100%|██████████| 782/782 [00:09<00:00, 82.32it/s] \n"
     ]
    },
    {
     "name": "stdout",
     "output_type": "stream",
     "text": [
      "Validation accuracy: 71.49\n"
     ]
    },
    {
     "name": "stderr",
     "output_type": "stream",
     "text": [
      "epoch 1 loss=0.97918701171875 batch_id=781: 100%|██████████| 782/782 [00:09<00:00, 82.60it/s]   \n"
     ]
    },
    {
     "name": "stdout",
     "output_type": "stream",
     "text": [
      "Validation accuracy: 71.67\n"
     ]
    },
    {
     "name": "stderr",
     "output_type": "stream",
     "text": [
      "epoch 2 loss=0.6914524435997009 batch_id=781: 100%|██████████| 782/782 [00:09<00:00, 82.39it/s] \n"
     ]
    },
    {
     "name": "stdout",
     "output_type": "stream",
     "text": [
      "Validation accuracy: 69.37\n"
     ]
    },
    {
     "name": "stderr",
     "output_type": "stream",
     "text": [
      "epoch 3 loss=0.6783197522163391 batch_id=781: 100%|██████████| 782/782 [00:09<00:00, 81.81it/s] \n"
     ]
    },
    {
     "name": "stdout",
     "output_type": "stream",
     "text": [
      "Validation accuracy: 72.91\n"
     ]
    },
    {
     "name": "stderr",
     "output_type": "stream",
     "text": [
      "epoch 4 loss=0.91485995054245 batch_id=781: 100%|██████████| 782/782 [00:09<00:00, 82.66it/s]   \n"
     ]
    },
    {
     "name": "stdout",
     "output_type": "stream",
     "text": [
      "Validation accuracy: 71.59\n",
      "Fitness calculated: 71.59\n"
     ]
    },
    {
     "name": "stderr",
     "output_type": "stream",
     "text": [
      "epoch 0 loss=0.704291045665741 batch_id=781: 100%|██████████| 782/782 [00:09<00:00, 80.36it/s]  \n"
     ]
    },
    {
     "name": "stdout",
     "output_type": "stream",
     "text": [
      "Validation accuracy: 73.27\n"
     ]
    },
    {
     "name": "stderr",
     "output_type": "stream",
     "text": [
      "epoch 1 loss=0.5822420716285706 batch_id=781: 100%|██████████| 782/782 [00:09<00:00, 80.67it/s] \n"
     ]
    },
    {
     "name": "stdout",
     "output_type": "stream",
     "text": [
      "Validation accuracy: 73.01\n"
     ]
    },
    {
     "name": "stderr",
     "output_type": "stream",
     "text": [
      "epoch 2 loss=0.1513807475566864 batch_id=781: 100%|██████████| 782/782 [00:09<00:00, 81.04it/s] \n"
     ]
    },
    {
     "name": "stdout",
     "output_type": "stream",
     "text": [
      "Validation accuracy: 73.21\n"
     ]
    },
    {
     "name": "stderr",
     "output_type": "stream",
     "text": [
      "epoch 3 loss=0.24933691322803497 batch_id=781: 100%|██████████| 782/782 [00:09<00:00, 80.58it/s]\n"
     ]
    },
    {
     "name": "stdout",
     "output_type": "stream",
     "text": [
      "Validation accuracy: 72.43\n"
     ]
    },
    {
     "name": "stderr",
     "output_type": "stream",
     "text": [
      "epoch 4 loss=0.14804404973983765 batch_id=781: 100%|██████████| 782/782 [00:09<00:00, 80.58it/s]\n"
     ]
    },
    {
     "name": "stdout",
     "output_type": "stream",
     "text": [
      "Validation accuracy: 72.21\n",
      "Fitness calculated: 72.21\n"
     ]
    },
    {
     "name": "stderr",
     "output_type": "stream",
     "text": [
      "epoch 0 loss=0.2273656725883484 batch_id=781: 100%|██████████| 782/782 [00:09<00:00, 80.19it/s] \n"
     ]
    },
    {
     "name": "stdout",
     "output_type": "stream",
     "text": [
      "Validation accuracy: 72.46\n"
     ]
    },
    {
     "name": "stderr",
     "output_type": "stream",
     "text": [
      "epoch 1 loss=0.5825598239898682 batch_id=781: 100%|██████████| 782/782 [00:09<00:00, 80.51it/s] \n"
     ]
    },
    {
     "name": "stdout",
     "output_type": "stream",
     "text": [
      "Validation accuracy: 72.73\n"
     ]
    },
    {
     "name": "stderr",
     "output_type": "stream",
     "text": [
      "epoch 2 loss=0.644228458404541 batch_id=781: 100%|██████████| 782/782 [00:09<00:00, 79.92it/s]  \n"
     ]
    },
    {
     "name": "stdout",
     "output_type": "stream",
     "text": [
      "Validation accuracy: 72.48\n"
     ]
    },
    {
     "name": "stderr",
     "output_type": "stream",
     "text": [
      "epoch 3 loss=0.09189099073410034 batch_id=781: 100%|██████████| 782/782 [00:09<00:00, 80.08it/s]\n"
     ]
    },
    {
     "name": "stdout",
     "output_type": "stream",
     "text": [
      "Validation accuracy: 72.98\n"
     ]
    },
    {
     "name": "stderr",
     "output_type": "stream",
     "text": [
      "epoch 4 loss=0.4000622630119324 batch_id=781: 100%|██████████| 782/782 [00:09<00:00, 80.34it/s] \n"
     ]
    },
    {
     "name": "stdout",
     "output_type": "stream",
     "text": [
      "Validation accuracy: 72.66\n",
      "Fitness calculated: 72.66\n",
      "\n",
      "\n",
      "\n",
      "Fittest in phase 3 and generation 1: 74.27\n",
      "\n",
      "\n"
     ]
    },
    {
     "name": "stderr",
     "output_type": "stream",
     "text": [
      "epoch 0 loss=0.11710145324468613 batch_id=781: 100%|██████████| 782/782 [00:09<00:00, 80.80it/s]\n"
     ]
    },
    {
     "name": "stdout",
     "output_type": "stream",
     "text": [
      "Validation accuracy: 72.43\n"
     ]
    },
    {
     "name": "stderr",
     "output_type": "stream",
     "text": [
      "epoch 1 loss=0.5422425866127014 batch_id=781: 100%|██████████| 782/782 [00:09<00:00, 80.71it/s] \n"
     ]
    },
    {
     "name": "stdout",
     "output_type": "stream",
     "text": [
      "Validation accuracy: 72.52\n"
     ]
    },
    {
     "name": "stderr",
     "output_type": "stream",
     "text": [
      "epoch 2 loss=0.42289039492607117 batch_id=781: 100%|██████████| 782/782 [00:09<00:00, 80.86it/s]\n"
     ]
    },
    {
     "name": "stdout",
     "output_type": "stream",
     "text": [
      "Validation accuracy: 72.56\n"
     ]
    },
    {
     "name": "stderr",
     "output_type": "stream",
     "text": [
      "epoch 3 loss=0.03907964378595352 batch_id=781: 100%|██████████| 782/782 [00:09<00:00, 80.91it/s]\n"
     ]
    },
    {
     "name": "stdout",
     "output_type": "stream",
     "text": [
      "Validation accuracy: 72.58\n"
     ]
    },
    {
     "name": "stderr",
     "output_type": "stream",
     "text": [
      "epoch 4 loss=0.08296927064657211 batch_id=781: 100%|██████████| 782/782 [00:09<00:00, 80.50it/s]\n"
     ]
    },
    {
     "name": "stdout",
     "output_type": "stream",
     "text": [
      "Validation accuracy: 72.69\n",
      "Fitness calculated: 72.69\n"
     ]
    },
    {
     "name": "stderr",
     "output_type": "stream",
     "text": [
      "epoch 0 loss=0.3988696038722992 batch_id=781: 100%|██████████| 782/782 [00:09<00:00, 81.68it/s] \n"
     ]
    },
    {
     "name": "stdout",
     "output_type": "stream",
     "text": [
      "Validation accuracy: 72.64\n"
     ]
    },
    {
     "name": "stderr",
     "output_type": "stream",
     "text": [
      "epoch 1 loss=1.0988054275512695 batch_id=781: 100%|██████████| 782/782 [00:09<00:00, 81.37it/s] \n"
     ]
    },
    {
     "name": "stdout",
     "output_type": "stream",
     "text": [
      "Validation accuracy: 71.73\n"
     ]
    },
    {
     "name": "stderr",
     "output_type": "stream",
     "text": [
      "epoch 2 loss=0.4152162969112396 batch_id=781: 100%|██████████| 782/782 [00:09<00:00, 81.29it/s] \n"
     ]
    },
    {
     "name": "stdout",
     "output_type": "stream",
     "text": [
      "Validation accuracy: 72.38\n"
     ]
    },
    {
     "name": "stderr",
     "output_type": "stream",
     "text": [
      "epoch 3 loss=0.337872713804245 batch_id=781: 100%|██████████| 782/782 [00:09<00:00, 80.57it/s]  \n"
     ]
    },
    {
     "name": "stdout",
     "output_type": "stream",
     "text": [
      "Validation accuracy: 71.82\n"
     ]
    },
    {
     "name": "stderr",
     "output_type": "stream",
     "text": [
      "epoch 4 loss=0.3274967670440674 batch_id=781: 100%|██████████| 782/782 [00:09<00:00, 81.17it/s] \n"
     ]
    },
    {
     "name": "stdout",
     "output_type": "stream",
     "text": [
      "Validation accuracy: 72.05\n",
      "Fitness calculated: 72.05\n"
     ]
    },
    {
     "name": "stderr",
     "output_type": "stream",
     "text": [
      "epoch 0 loss=0.35387086868286133 batch_id=781: 100%|██████████| 782/782 [00:09<00:00, 80.72it/s]\n"
     ]
    },
    {
     "name": "stdout",
     "output_type": "stream",
     "text": [
      "Validation accuracy: 73.29\n"
     ]
    },
    {
     "name": "stderr",
     "output_type": "stream",
     "text": [
      "epoch 1 loss=0.6647340059280396 batch_id=781: 100%|██████████| 782/782 [00:09<00:00, 79.86it/s] \n"
     ]
    },
    {
     "name": "stdout",
     "output_type": "stream",
     "text": [
      "Validation accuracy: 73.07\n"
     ]
    },
    {
     "name": "stderr",
     "output_type": "stream",
     "text": [
      "epoch 2 loss=0.4866794943809509 batch_id=781: 100%|██████████| 782/782 [00:09<00:00, 80.50it/s] \n"
     ]
    },
    {
     "name": "stdout",
     "output_type": "stream",
     "text": [
      "Validation accuracy: 70.09\n"
     ]
    },
    {
     "name": "stderr",
     "output_type": "stream",
     "text": [
      "epoch 3 loss=0.38469672203063965 batch_id=781: 100%|██████████| 782/782 [00:09<00:00, 80.49it/s]\n"
     ]
    },
    {
     "name": "stdout",
     "output_type": "stream",
     "text": [
      "Validation accuracy: 72.83\n"
     ]
    },
    {
     "name": "stderr",
     "output_type": "stream",
     "text": [
      "epoch 4 loss=0.8021705746650696 batch_id=781: 100%|██████████| 782/782 [00:09<00:00, 80.63it/s] \n"
     ]
    },
    {
     "name": "stdout",
     "output_type": "stream",
     "text": [
      "Validation accuracy: 72.21\n",
      "Fitness calculated: 72.21\n"
     ]
    },
    {
     "name": "stderr",
     "output_type": "stream",
     "text": [
      "epoch 0 loss=0.2675170302391052 batch_id=781: 100%|██████████| 782/782 [00:09<00:00, 80.93it/s] \n"
     ]
    },
    {
     "name": "stdout",
     "output_type": "stream",
     "text": [
      "Validation accuracy: 72.82\n"
     ]
    },
    {
     "name": "stderr",
     "output_type": "stream",
     "text": [
      "epoch 1 loss=0.31352105736732483 batch_id=781: 100%|██████████| 782/782 [00:09<00:00, 80.70it/s]\n"
     ]
    },
    {
     "name": "stdout",
     "output_type": "stream",
     "text": [
      "Validation accuracy: 71.23\n"
     ]
    },
    {
     "name": "stderr",
     "output_type": "stream",
     "text": [
      "epoch 2 loss=0.1536301076412201 batch_id=781: 100%|██████████| 782/782 [00:09<00:00, 80.62it/s] \n"
     ]
    },
    {
     "name": "stdout",
     "output_type": "stream",
     "text": [
      "Validation accuracy: 73.66\n"
     ]
    },
    {
     "name": "stderr",
     "output_type": "stream",
     "text": [
      "epoch 3 loss=0.206185445189476 batch_id=781: 100%|██████████| 782/782 [00:09<00:00, 80.79it/s]  \n"
     ]
    },
    {
     "name": "stdout",
     "output_type": "stream",
     "text": [
      "Validation accuracy: 73.03\n"
     ]
    },
    {
     "name": "stderr",
     "output_type": "stream",
     "text": [
      "epoch 4 loss=0.35022443532943726 batch_id=781: 100%|██████████| 782/782 [00:09<00:00, 79.97it/s]\n"
     ]
    },
    {
     "name": "stdout",
     "output_type": "stream",
     "text": [
      "Validation accuracy: 72.69\n",
      "Fitness calculated: 72.69\n"
     ]
    },
    {
     "name": "stderr",
     "output_type": "stream",
     "text": [
      "epoch 0 loss=0.3493243157863617 batch_id=781: 100%|██████████| 782/782 [00:09<00:00, 80.68it/s] \n"
     ]
    },
    {
     "name": "stdout",
     "output_type": "stream",
     "text": [
      "Validation accuracy: 72.42\n"
     ]
    },
    {
     "name": "stderr",
     "output_type": "stream",
     "text": [
      "epoch 1 loss=0.5515552759170532 batch_id=781: 100%|██████████| 782/782 [00:09<00:00, 80.78it/s] \n"
     ]
    },
    {
     "name": "stdout",
     "output_type": "stream",
     "text": [
      "Validation accuracy: 73.0\n"
     ]
    },
    {
     "name": "stderr",
     "output_type": "stream",
     "text": [
      "epoch 2 loss=0.6483839154243469 batch_id=781: 100%|██████████| 782/782 [00:09<00:00, 80.85it/s] \n"
     ]
    },
    {
     "name": "stdout",
     "output_type": "stream",
     "text": [
      "Validation accuracy: 72.85\n"
     ]
    },
    {
     "name": "stderr",
     "output_type": "stream",
     "text": [
      "epoch 3 loss=0.6815140247344971 batch_id=781: 100%|██████████| 782/782 [00:09<00:00, 80.81it/s] \n"
     ]
    },
    {
     "name": "stdout",
     "output_type": "stream",
     "text": [
      "Validation accuracy: 72.43\n"
     ]
    },
    {
     "name": "stderr",
     "output_type": "stream",
     "text": [
      "epoch 4 loss=0.8608257174491882 batch_id=781: 100%|██████████| 782/782 [00:09<00:00, 81.12it/s] \n"
     ]
    },
    {
     "name": "stdout",
     "output_type": "stream",
     "text": [
      "Validation accuracy: 72.52\n",
      "Fitness calculated: 72.52\n"
     ]
    },
    {
     "name": "stderr",
     "output_type": "stream",
     "text": [
      "epoch 0 loss=0.8267307281494141 batch_id=781: 100%|██████████| 782/782 [00:09<00:00, 81.57it/s] \n"
     ]
    },
    {
     "name": "stdout",
     "output_type": "stream",
     "text": [
      "Validation accuracy: 72.81\n"
     ]
    },
    {
     "name": "stderr",
     "output_type": "stream",
     "text": [
      "epoch 1 loss=0.8316093683242798 batch_id=781: 100%|██████████| 782/782 [00:09<00:00, 81.57it/s] \n"
     ]
    },
    {
     "name": "stdout",
     "output_type": "stream",
     "text": [
      "Validation accuracy: 72.57\n"
     ]
    },
    {
     "name": "stderr",
     "output_type": "stream",
     "text": [
      "epoch 2 loss=0.31377407908439636 batch_id=781: 100%|██████████| 782/782 [00:09<00:00, 81.56it/s]\n"
     ]
    },
    {
     "name": "stdout",
     "output_type": "stream",
     "text": [
      "Validation accuracy: 72.52\n"
     ]
    },
    {
     "name": "stderr",
     "output_type": "stream",
     "text": [
      "epoch 3 loss=0.38828158378601074 batch_id=781: 100%|██████████| 782/782 [00:09<00:00, 81.67it/s]\n"
     ]
    },
    {
     "name": "stdout",
     "output_type": "stream",
     "text": [
      "Validation accuracy: 72.43\n"
     ]
    },
    {
     "name": "stderr",
     "output_type": "stream",
     "text": [
      "epoch 4 loss=0.25542253255844116 batch_id=781: 100%|██████████| 782/782 [00:09<00:00, 81.56it/s]\n"
     ]
    },
    {
     "name": "stdout",
     "output_type": "stream",
     "text": [
      "Validation accuracy: 73.11\n",
      "Fitness calculated: 73.11\n",
      "\n",
      "\n",
      "\n",
      "Fittest in phase 3 and generation 2: 74.27\n",
      "\n",
      "\n",
      "Fittest in phase 3 = 74.27\n",
      "\n",
      "\n"
     ]
    },
    {
     "name": "stderr",
     "output_type": "stream",
     "text": [
      "epoch 0 loss=0.37649092078208923 batch_id=781: 100%|██████████| 782/782 [00:09<00:00, 79.15it/s]\n"
     ]
    },
    {
     "name": "stdout",
     "output_type": "stream",
     "text": [
      "Validation accuracy: 72.08\n"
     ]
    },
    {
     "name": "stderr",
     "output_type": "stream",
     "text": [
      "epoch 1 loss=0.1596202254295349 batch_id=781: 100%|██████████| 782/782 [00:09<00:00, 78.71it/s] \n"
     ]
    },
    {
     "name": "stdout",
     "output_type": "stream",
     "text": [
      "Validation accuracy: 69.71\n"
     ]
    },
    {
     "name": "stderr",
     "output_type": "stream",
     "text": [
      "epoch 2 loss=0.41544345021247864 batch_id=781: 100%|██████████| 782/782 [00:09<00:00, 79.25it/s]\n"
     ]
    },
    {
     "name": "stdout",
     "output_type": "stream",
     "text": [
      "Validation accuracy: 72.98\n"
     ]
    },
    {
     "name": "stderr",
     "output_type": "stream",
     "text": [
      "epoch 3 loss=0.47755953669548035 batch_id=781: 100%|██████████| 782/782 [00:09<00:00, 78.96it/s]\n"
     ]
    },
    {
     "name": "stdout",
     "output_type": "stream",
     "text": [
      "Validation accuracy: 72.44\n"
     ]
    },
    {
     "name": "stderr",
     "output_type": "stream",
     "text": [
      "epoch 4 loss=0.3943345248699188 batch_id=781: 100%|██████████| 782/782 [00:09<00:00, 78.91it/s] \n"
     ]
    },
    {
     "name": "stdout",
     "output_type": "stream",
     "text": [
      "Validation accuracy: 72.42\n",
      "Fitness calculated: 72.42\n"
     ]
    },
    {
     "name": "stderr",
     "output_type": "stream",
     "text": [
      "epoch 0 loss=0.41259559988975525 batch_id=781: 100%|██████████| 782/782 [00:05<00:00, 147.07it/s]\n"
     ]
    },
    {
     "name": "stdout",
     "output_type": "stream",
     "text": [
      "Validation accuracy: 72.33\n"
     ]
    },
    {
     "name": "stderr",
     "output_type": "stream",
     "text": [
      "epoch 1 loss=0.7183880805969238 batch_id=781: 100%|██████████| 782/782 [00:05<00:00, 148.38it/s] \n"
     ]
    },
    {
     "name": "stdout",
     "output_type": "stream",
     "text": [
      "Validation accuracy: 72.24\n"
     ]
    },
    {
     "name": "stderr",
     "output_type": "stream",
     "text": [
      "epoch 2 loss=0.3727574050426483 batch_id=781: 100%|██████████| 782/782 [00:05<00:00, 147.71it/s] \n"
     ]
    },
    {
     "name": "stdout",
     "output_type": "stream",
     "text": [
      "Validation accuracy: 72.94\n"
     ]
    },
    {
     "name": "stderr",
     "output_type": "stream",
     "text": [
      "epoch 3 loss=0.49270734190940857 batch_id=781: 100%|██████████| 782/782 [00:05<00:00, 147.20it/s]\n"
     ]
    },
    {
     "name": "stdout",
     "output_type": "stream",
     "text": [
      "Validation accuracy: 73.58\n"
     ]
    },
    {
     "name": "stderr",
     "output_type": "stream",
     "text": [
      "epoch 4 loss=0.5192052721977234 batch_id=781: 100%|██████████| 782/782 [00:05<00:00, 147.79it/s] \n"
     ]
    },
    {
     "name": "stdout",
     "output_type": "stream",
     "text": [
      "Validation accuracy: 72.5\n",
      "Fitness calculated: 72.5\n"
     ]
    },
    {
     "name": "stderr",
     "output_type": "stream",
     "text": [
      "epoch 0 loss=0.5078747272491455 batch_id=781: 100%|██████████| 782/782 [00:05<00:00, 147.57it/s] \n"
     ]
    },
    {
     "name": "stdout",
     "output_type": "stream",
     "text": [
      "Validation accuracy: 71.95\n"
     ]
    },
    {
     "name": "stderr",
     "output_type": "stream",
     "text": [
      "epoch 1 loss=0.5420633554458618 batch_id=781: 100%|██████████| 782/782 [00:05<00:00, 147.95it/s] \n"
     ]
    },
    {
     "name": "stdout",
     "output_type": "stream",
     "text": [
      "Validation accuracy: 72.91\n"
     ]
    },
    {
     "name": "stderr",
     "output_type": "stream",
     "text": [
      "epoch 2 loss=0.44468042254447937 batch_id=781: 100%|██████████| 782/782 [00:05<00:00, 150.26it/s]\n"
     ]
    },
    {
     "name": "stdout",
     "output_type": "stream",
     "text": [
      "Validation accuracy: 73.18\n"
     ]
    },
    {
     "name": "stderr",
     "output_type": "stream",
     "text": [
      "epoch 3 loss=0.5037835240364075 batch_id=781: 100%|██████████| 782/782 [00:05<00:00, 147.70it/s] \n"
     ]
    },
    {
     "name": "stdout",
     "output_type": "stream",
     "text": [
      "Validation accuracy: 71.82\n"
     ]
    },
    {
     "name": "stderr",
     "output_type": "stream",
     "text": [
      "epoch 4 loss=0.43951740860939026 batch_id=781: 100%|██████████| 782/782 [00:05<00:00, 150.30it/s]\n"
     ]
    },
    {
     "name": "stdout",
     "output_type": "stream",
     "text": [
      "Validation accuracy: 72.05\n",
      "Fitness calculated: 72.05\n"
     ]
    },
    {
     "name": "stderr",
     "output_type": "stream",
     "text": [
      "epoch 0 loss=0.35777947306632996 batch_id=781: 100%|██████████| 782/782 [00:09<00:00, 79.03it/s]\n"
     ]
    },
    {
     "name": "stdout",
     "output_type": "stream",
     "text": [
      "Validation accuracy: 72.74\n"
     ]
    },
    {
     "name": "stderr",
     "output_type": "stream",
     "text": [
      "epoch 1 loss=0.17664286494255066 batch_id=781: 100%|██████████| 782/782 [00:09<00:00, 79.18it/s]\n"
     ]
    },
    {
     "name": "stdout",
     "output_type": "stream",
     "text": [
      "Validation accuracy: 73.36\n"
     ]
    },
    {
     "name": "stderr",
     "output_type": "stream",
     "text": [
      "epoch 2 loss=0.15372861921787262 batch_id=781: 100%|██████████| 782/782 [00:09<00:00, 79.12it/s]\n"
     ]
    },
    {
     "name": "stdout",
     "output_type": "stream",
     "text": [
      "Validation accuracy: 70.96\n"
     ]
    },
    {
     "name": "stderr",
     "output_type": "stream",
     "text": [
      "epoch 3 loss=0.5099726319313049 batch_id=781: 100%|██████████| 782/782 [00:09<00:00, 78.88it/s] \n"
     ]
    },
    {
     "name": "stdout",
     "output_type": "stream",
     "text": [
      "Validation accuracy: 72.51\n"
     ]
    },
    {
     "name": "stderr",
     "output_type": "stream",
     "text": [
      "epoch 4 loss=0.5573665499687195 batch_id=781: 100%|██████████| 782/782 [00:09<00:00, 78.99it/s] \n"
     ]
    },
    {
     "name": "stdout",
     "output_type": "stream",
     "text": [
      "Validation accuracy: 72.97\n",
      "Fitness calculated: 72.97\n"
     ]
    },
    {
     "name": "stderr",
     "output_type": "stream",
     "text": [
      "epoch 0 loss=0.08041703701019287 batch_id=781: 100%|██████████| 782/782 [00:05<00:00, 148.03it/s]\n"
     ]
    },
    {
     "name": "stdout",
     "output_type": "stream",
     "text": [
      "Validation accuracy: 73.64\n"
     ]
    },
    {
     "name": "stderr",
     "output_type": "stream",
     "text": [
      "epoch 1 loss=0.3780859112739563 batch_id=781: 100%|██████████| 782/782 [00:05<00:00, 148.69it/s] \n"
     ]
    },
    {
     "name": "stdout",
     "output_type": "stream",
     "text": [
      "Validation accuracy: 73.61\n"
     ]
    },
    {
     "name": "stderr",
     "output_type": "stream",
     "text": [
      "epoch 2 loss=0.2546938955783844 batch_id=781: 100%|██████████| 782/782 [00:05<00:00, 148.13it/s] \n"
     ]
    },
    {
     "name": "stdout",
     "output_type": "stream",
     "text": [
      "Validation accuracy: 73.22\n"
     ]
    },
    {
     "name": "stderr",
     "output_type": "stream",
     "text": [
      "epoch 3 loss=0.4877718985080719 batch_id=781: 100%|██████████| 782/782 [00:05<00:00, 148.96it/s]  \n"
     ]
    },
    {
     "name": "stdout",
     "output_type": "stream",
     "text": [
      "Validation accuracy: 73.48\n"
     ]
    },
    {
     "name": "stderr",
     "output_type": "stream",
     "text": [
      "epoch 4 loss=0.4059053659439087 batch_id=781: 100%|██████████| 782/782 [00:05<00:00, 149.84it/s] \n"
     ]
    },
    {
     "name": "stdout",
     "output_type": "stream",
     "text": [
      "Validation accuracy: 72.97\n",
      "Fitness calculated: 72.97\n"
     ]
    },
    {
     "name": "stderr",
     "output_type": "stream",
     "text": [
      "epoch 0 loss=0.43027427792549133 batch_id=781: 100%|██████████| 782/782 [00:05<00:00, 147.23it/s]\n"
     ]
    },
    {
     "name": "stdout",
     "output_type": "stream",
     "text": [
      "Validation accuracy: 72.58\n"
     ]
    },
    {
     "name": "stderr",
     "output_type": "stream",
     "text": [
      "epoch 1 loss=0.1943916529417038 batch_id=781: 100%|██████████| 782/782 [00:05<00:00, 147.20it/s] \n"
     ]
    },
    {
     "name": "stdout",
     "output_type": "stream",
     "text": [
      "Validation accuracy: 72.95\n"
     ]
    },
    {
     "name": "stderr",
     "output_type": "stream",
     "text": [
      "epoch 2 loss=0.9658411145210266 batch_id=781: 100%|██████████| 782/782 [00:05<00:00, 148.50it/s] \n"
     ]
    },
    {
     "name": "stdout",
     "output_type": "stream",
     "text": [
      "Validation accuracy: 71.98\n"
     ]
    },
    {
     "name": "stderr",
     "output_type": "stream",
     "text": [
      "epoch 3 loss=0.43750178813934326 batch_id=781: 100%|██████████| 782/782 [00:05<00:00, 148.51it/s]\n"
     ]
    },
    {
     "name": "stdout",
     "output_type": "stream",
     "text": [
      "Validation accuracy: 73.24\n"
     ]
    },
    {
     "name": "stderr",
     "output_type": "stream",
     "text": [
      "epoch 4 loss=0.1759331077337265 batch_id=781: 100%|██████████| 782/782 [00:05<00:00, 146.09it/s] \n"
     ]
    },
    {
     "name": "stdout",
     "output_type": "stream",
     "text": [
      "Validation accuracy: 73.09\n",
      "Fitness calculated: 73.09\n"
     ]
    },
    {
     "name": "stderr",
     "output_type": "stream",
     "text": [
      "epoch 0 loss=0.4557599127292633 batch_id=781: 100%|██████████| 782/782 [00:05<00:00, 149.85it/s] \n"
     ]
    },
    {
     "name": "stdout",
     "output_type": "stream",
     "text": [
      "Validation accuracy: 73.4\n"
     ]
    },
    {
     "name": "stderr",
     "output_type": "stream",
     "text": [
      "epoch 1 loss=0.8523216247558594 batch_id=781: 100%|██████████| 782/782 [00:05<00:00, 148.23it/s] \n"
     ]
    },
    {
     "name": "stdout",
     "output_type": "stream",
     "text": [
      "Validation accuracy: 72.27\n"
     ]
    },
    {
     "name": "stderr",
     "output_type": "stream",
     "text": [
      "epoch 2 loss=0.36048418283462524 batch_id=781: 100%|██████████| 782/782 [00:05<00:00, 148.74it/s]\n"
     ]
    },
    {
     "name": "stdout",
     "output_type": "stream",
     "text": [
      "Validation accuracy: 73.16\n"
     ]
    },
    {
     "name": "stderr",
     "output_type": "stream",
     "text": [
      "epoch 3 loss=0.5584211349487305 batch_id=781: 100%|██████████| 782/782 [00:05<00:00, 148.28it/s] \n"
     ]
    },
    {
     "name": "stdout",
     "output_type": "stream",
     "text": [
      "Validation accuracy: 73.26\n"
     ]
    },
    {
     "name": "stderr",
     "output_type": "stream",
     "text": [
      "epoch 4 loss=0.5399869680404663 batch_id=781: 100%|██████████| 782/782 [00:05<00:00, 148.47it/s] \n"
     ]
    },
    {
     "name": "stdout",
     "output_type": "stream",
     "text": [
      "Validation accuracy: 72.7\n",
      "Fitness calculated: 72.7\n"
     ]
    },
    {
     "name": "stderr",
     "output_type": "stream",
     "text": [
      "epoch 0 loss=0.14980146288871765 batch_id=781: 100%|██████████| 782/782 [00:05<00:00, 149.14it/s]\n"
     ]
    },
    {
     "name": "stdout",
     "output_type": "stream",
     "text": [
      "Validation accuracy: 73.06\n"
     ]
    },
    {
     "name": "stderr",
     "output_type": "stream",
     "text": [
      "epoch 1 loss=0.20654167234897614 batch_id=781: 100%|██████████| 782/782 [00:05<00:00, 148.94it/s]\n"
     ]
    },
    {
     "name": "stdout",
     "output_type": "stream",
     "text": [
      "Validation accuracy: 73.45\n"
     ]
    },
    {
     "name": "stderr",
     "output_type": "stream",
     "text": [
      "epoch 2 loss=0.571950376033783 batch_id=781: 100%|██████████| 782/782 [00:05<00:00, 147.36it/s]  \n"
     ]
    },
    {
     "name": "stdout",
     "output_type": "stream",
     "text": [
      "Validation accuracy: 72.99\n"
     ]
    },
    {
     "name": "stderr",
     "output_type": "stream",
     "text": [
      "epoch 3 loss=0.2679874300956726 batch_id=781: 100%|██████████| 782/782 [00:05<00:00, 147.02it/s] \n"
     ]
    },
    {
     "name": "stdout",
     "output_type": "stream",
     "text": [
      "Validation accuracy: 73.23\n"
     ]
    },
    {
     "name": "stderr",
     "output_type": "stream",
     "text": [
      "epoch 4 loss=0.6425344944000244 batch_id=781: 100%|██████████| 782/782 [00:05<00:00, 147.96it/s] \n"
     ]
    },
    {
     "name": "stdout",
     "output_type": "stream",
     "text": [
      "Validation accuracy: 72.35\n",
      "Fitness calculated: 72.35\n"
     ]
    }
   ],
   "source": [
    "num_phases = 4\n",
    "num_generations = 3\n",
    "\n",
    "fitness_history = []\n",
    "\n",
    "for p in range(num_phases):\n",
    "    for g in range(num_generations):\n",
    "        generation.generate()\n",
    "        print(f\"Fittest in phase {p} and generation {g}: {generation.find_fittest().fitness}\\n\\n\")\n",
    "        fitness_history.append({\"phase\": p, \"generation\": g, \"fittest\": generation.find_fittest()})\n",
    "    print(f\"Fittest in phase {p} = {generation.find_fittest().fitness}\\n\\n\")\n",
    "    generation = Generation(FIT_SURVIVAL_RATE, UNFIT_SURVIVAL_RATE,MUTATION_RATE, 15, p+1, SEARCH_SPACE, generation.find_fittest(), train_loader, test_loader)"
   ]
  },
  {
   "cell_type": "code",
   "execution_count": 11,
   "metadata": {},
   "outputs": [
    {
     "data": {
      "text/plain": [
       "<generation.Generation at 0x7f3f9c503ee0>"
      ]
     },
     "execution_count": 11,
     "metadata": {},
     "output_type": "execute_result"
    }
   ],
   "source": [
    "generation"
   ]
  },
  {
   "cell_type": "code",
   "execution_count": 12,
   "metadata": {},
   "outputs": [],
   "source": [
    "layer = nn.Conv2d(2, 2, 3, padding = 'same', padding_mode = 'reflect')\n"
   ]
  },
  {
   "cell_type": "code",
   "execution_count": 13,
   "metadata": {},
   "outputs": [
    {
     "data": {
      "text/plain": [
       "[0, 0, 72.42, 72.5, 72.05, 0, 72.97, 72.97, 0, 73.09, 72.7, 0, 72.35, 0, 0]"
      ]
     },
     "execution_count": 13,
     "metadata": {},
     "output_type": "execute_result"
    }
   ],
   "source": [
    "[i.fitness for i in generation.pop]"
   ]
  },
  {
   "cell_type": "code",
   "execution_count": 14,
   "metadata": {},
   "outputs": [
    {
     "name": "stderr",
     "output_type": "stream",
     "text": [
      "epoch 0 loss=1.335900068283081 batch_id=781: 100%|██████████| 782/782 [00:01<00:00, 394.85it/s] \n"
     ]
    },
    {
     "name": "stdout",
     "output_type": "stream",
     "text": [
      "Validation accuracy: 54.87\n"
     ]
    },
    {
     "name": "stderr",
     "output_type": "stream",
     "text": [
      "epoch 1 loss=0.9727884531021118 batch_id=781: 100%|██████████| 782/782 [00:01<00:00, 405.18it/s]\n"
     ]
    },
    {
     "name": "stdout",
     "output_type": "stream",
     "text": [
      "Validation accuracy: 57.22\n"
     ]
    },
    {
     "name": "stderr",
     "output_type": "stream",
     "text": [
      "epoch 2 loss=0.697601318359375 batch_id=781: 100%|██████████| 782/782 [00:01<00:00, 422.47it/s]  \n"
     ]
    },
    {
     "name": "stdout",
     "output_type": "stream",
     "text": [
      "Validation accuracy: 57.41\n"
     ]
    },
    {
     "name": "stderr",
     "output_type": "stream",
     "text": [
      "epoch 3 loss=0.8803933262825012 batch_id=781: 100%|██████████| 782/782 [00:01<00:00, 435.63it/s] \n"
     ]
    },
    {
     "name": "stdout",
     "output_type": "stream",
     "text": [
      "Validation accuracy: 60.95\n"
     ]
    },
    {
     "name": "stderr",
     "output_type": "stream",
     "text": [
      "epoch 4 loss=0.600257396697998 batch_id=781: 100%|██████████| 782/782 [00:01<00:00, 408.90it/s]  \n"
     ]
    },
    {
     "name": "stdout",
     "output_type": "stream",
     "text": [
      "Validation accuracy: 55.19\n",
      "Fitness calculated: 55.19\n"
     ]
    },
    {
     "name": "stderr",
     "output_type": "stream",
     "text": [
      "epoch 0 loss=0.7155835628509521 batch_id=781: 100%|██████████| 782/782 [00:03<00:00, 236.78it/s]\n"
     ]
    },
    {
     "name": "stdout",
     "output_type": "stream",
     "text": [
      "Validation accuracy: 62.83\n"
     ]
    },
    {
     "name": "stderr",
     "output_type": "stream",
     "text": [
      "epoch 1 loss=0.5796623826026917 batch_id=781: 100%|██████████| 782/782 [00:03<00:00, 235.34it/s] \n"
     ]
    },
    {
     "name": "stdout",
     "output_type": "stream",
     "text": [
      "Validation accuracy: 63.05\n"
     ]
    },
    {
     "name": "stderr",
     "output_type": "stream",
     "text": [
      "epoch 2 loss=0.9272273778915405 batch_id=781: 100%|██████████| 782/782 [00:03<00:00, 235.36it/s] \n"
     ]
    },
    {
     "name": "stdout",
     "output_type": "stream",
     "text": [
      "Validation accuracy: 60.56\n"
     ]
    },
    {
     "name": "stderr",
     "output_type": "stream",
     "text": [
      "epoch 3 loss=1.214959979057312 batch_id=781: 100%|██████████| 782/782 [00:03<00:00, 236.72it/s]  \n"
     ]
    },
    {
     "name": "stdout",
     "output_type": "stream",
     "text": [
      "Validation accuracy: 61.32\n"
     ]
    },
    {
     "name": "stderr",
     "output_type": "stream",
     "text": [
      "epoch 4 loss=0.39035359025001526 batch_id=781: 100%|██████████| 782/782 [00:03<00:00, 228.69it/s]\n"
     ]
    },
    {
     "name": "stdout",
     "output_type": "stream",
     "text": [
      "Validation accuracy: 61.07\n",
      "Fitness calculated: 61.07\n"
     ]
    },
    {
     "data": {
      "text/plain": [
       "Sequential(\n",
       "  (0): Sequential(\n",
       "    (0): Conv2d(3, 16, kernel_size=(3, 3), stride=(1, 1), padding=same)\n",
       "    (1): ReLU()\n",
       "    (2): BatchNorm2d(16, eps=1e-05, momentum=0.1, affine=True, track_running_stats=True)\n",
       "    (3): Conv2d(16, 16, kernel_size=(3, 3), stride=(1, 1), padding=same)\n",
       "    (4): ReLU()\n",
       "    (5): BatchNorm2d(16, eps=1e-05, momentum=0.1, affine=True, track_running_stats=True)\n",
       "  )\n",
       "  (1): Conv2d(16, 16, kernel_size=(3, 3), stride=(1, 1), padding=same)\n",
       "  (2): ReLU()\n",
       "  (3): BatchNorm2d(16, eps=1e-05, momentum=0.1, affine=True, track_running_stats=True)\n",
       "  (4): Conv2d(16, 16, kernel_size=(3, 3), stride=(1, 1), padding=same)\n",
       "  (5): ReLU()\n",
       "  (6): BatchNorm2d(16, eps=1e-05, momentum=0.1, affine=True, track_running_stats=True)\n",
       ")"
      ]
     },
     "execution_count": 14,
     "metadata": {},
     "output_type": "execute_result"
    }
   ],
   "source": [
    "# num_generations = 2\n",
    "# print(\"Initial population size: \", 10)\n",
    "# for g in range(1, num_generations+1):\n",
    "#     generation.generate()\n",
    "#     fittest = generation.find_fittest()\n",
    "#     print(f\"Max fitness in generation {g} is {fittest.fitness}\")\n",
    "#     print(f\"Population size: {generation.pop_size}\")\n",
    "random_genes = {\n",
    "    'k_size_a': 3,\n",
    "    'k_size_b': 3,\n",
    "    'out_channels_a': 16,\n",
    "    'out_channels_b': 16,\n",
    "    'include_pool_a': True,\n",
    "    'include_pool_b': True,\n",
    "    'pool_type_a': 'max_pooling',\n",
    "    'pool_type_b': 'max_pooling',\n",
    "    'activation_type_a': 'relu',\n",
    "    'activation_type_b': 'relu',\n",
    "    'include_b': True,\n",
    "    'include_BN_a': True,\n",
    "    'include_BN_b': True,\n",
    "    'skip_connection': True,\n",
    "}\n",
    "ch1 = Chromosome(0,None,random_genes,train_loader,test_loader)\n",
    "ch = Chromosome(1,ch1,random_genes,train_loader,test_loader)\n",
    "ch.model\n",
    "\n",
    "# print(generation.find_fittest().genes)\n",
    "# test = Chromosome(1,generation.find_fittest(),random_genes,train_loader,test_loader)"
   ]
  },
  {
   "cell_type": "code",
   "execution_count": 15,
   "metadata": {},
   "outputs": [
    {
     "data": {
      "text/plain": [
       "{'k_size_a': 3,\n",
       " 'k_size_b': 1,\n",
       " 'out_channels_a': 16,\n",
       " 'out_channels_b': 16,\n",
       " 'include_pool_a': True,\n",
       " 'include_pool_b': False,\n",
       " 'pool_type_a': 'avg_pooling',\n",
       " 'pool_type_b': 'max_pooling',\n",
       " 'activation_type_a': 'elu',\n",
       " 'activation_type_b': 'tanh',\n",
       " 'include_b': True,\n",
       " 'include_BN_a': False,\n",
       " 'include_BN_b': False,\n",
       " 'skip_connection': False}"
      ]
     },
     "execution_count": 15,
     "metadata": {},
     "output_type": "execute_result"
    }
   ],
   "source": [
    "generation.find_fittest().genes"
   ]
  },
  {
   "cell_type": "code",
   "execution_count": 22,
   "metadata": {},
   "outputs": [
    {
     "data": {
      "text/plain": [
       "(73.09,\n",
       " Sequential(\n",
       "   (0): Sequential(\n",
       "     (0): Sequential(\n",
       "       (0): Sequential(\n",
       "         (0): Sequential(\n",
       "           (0): Conv2d(3, 32, kernel_size=(5, 5), stride=(1, 1), padding=same)\n",
       "           (1): ReLU()\n",
       "           (2): BatchNorm2d(32, eps=1e-05, momentum=0.1, affine=True, track_running_stats=True)\n",
       "           (3): Conv2d(32, 16, kernel_size=(5, 5), stride=(1, 1), padding=same)\n",
       "           (4): Tanh()\n",
       "           (5): BatchNorm2d(16, eps=1e-05, momentum=0.1, affine=True, track_running_stats=True)\n",
       "         )\n",
       "         (1): Conv2d(16, 64, kernel_size=(1, 1), stride=(1, 1), padding=same)\n",
       "         (2): ReLU()\n",
       "         (3): AvgPool2d(kernel_size=2, stride=2, padding=0)\n",
       "       )\n",
       "       (1): Conv2d(64, 16, kernel_size=(3, 3), stride=(1, 1), padding=same)\n",
       "       (2): SELU()\n",
       "       (3): AvgPool2d(kernel_size=2, stride=2, padding=0)\n",
       "       (4): Conv2d(16, 64, kernel_size=(1, 1), stride=(1, 1), padding=same)\n",
       "       (5): ReLU()\n",
       "       (6): MaxPool2d(kernel_size=2, stride=2, padding=0, dilation=1, ceil_mode=False)\n",
       "     )\n",
       "     (1): Conv2d(64, 16, kernel_size=(3, 3), stride=(1, 1), padding=same)\n",
       "     (2): ReLU()\n",
       "   )\n",
       "   (1): Conv2d(16, 16, kernel_size=(3, 3), stride=(1, 1), padding=same)\n",
       "   (2): ELU(alpha=1.0)\n",
       "   (3): AvgPool2d(kernel_size=2, stride=2, padding=0)\n",
       "   (4): Conv2d(16, 16, kernel_size=(1, 1), stride=(1, 1), padding=same)\n",
       "   (5): Tanh()\n",
       " ))"
      ]
     },
     "execution_count": 22,
     "metadata": {},
     "output_type": "execute_result"
    }
   ],
   "source": [
    "generation.find_fittest().fitness, generation.find_fittest().model"
   ]
  },
  {
   "cell_type": "code",
   "execution_count": 17,
   "metadata": {},
   "outputs": [
    {
     "name": "stdout",
     "output_type": "stream",
     "text": [
      "73.09 {'k_size_a': 3, 'k_size_b': 1, 'out_channels_a': 16, 'out_channels_b': 16, 'include_pool_a': True, 'include_pool_b': False, 'pool_type_a': 'avg_pooling', 'pool_type_b': 'max_pooling', 'activation_type_a': 'elu', 'activation_type_b': 'tanh', 'include_b': True, 'include_BN_a': False, 'include_BN_b': False, 'skip_connection': False}\n",
      "72.97 {'k_size_a': 3, 'k_size_b': 5, 'out_channels_a': 8, 'out_channels_b': 16, 'include_pool_a': True, 'include_pool_b': True, 'pool_type_a': 'avg_pooling', 'pool_type_b': 'max_pooling', 'activation_type_a': 'elu', 'activation_type_b': 'elu', 'include_b': False, 'include_BN_a': True, 'include_BN_b': True, 'skip_connection': True}\n",
      "72.97 {'k_size_a': 1, 'k_size_b': 5, 'out_channels_a': 32, 'out_channels_b': 32, 'include_pool_a': False, 'include_pool_b': False, 'pool_type_a': 'avg_pooling', 'pool_type_b': 'max_pooling', 'activation_type_a': 'elu', 'activation_type_b': 'relu', 'include_b': False, 'include_BN_a': True, 'include_BN_b': False, 'skip_connection': False}\n",
      "72.7 {'k_size_a': 3, 'k_size_b': 3, 'out_channels_a': 8, 'out_channels_b': 8, 'include_pool_a': False, 'include_pool_b': False, 'pool_type_a': 'avg_pooling', 'pool_type_b': 'max_pooling', 'activation_type_a': 'relu', 'activation_type_b': 'relu', 'include_b': False, 'include_BN_a': False, 'include_BN_b': False, 'skip_connection': False}\n",
      "72.5 {'k_size_a': 3, 'k_size_b': 1, 'out_channels_a': 32, 'out_channels_b': 32, 'include_pool_a': True, 'include_pool_b': True, 'pool_type_a': 'avg_pooling', 'pool_type_b': 'max_pooling', 'activation_type_a': 'tanh', 'activation_type_b': 'relu', 'include_b': False, 'include_BN_a': True, 'include_BN_b': False, 'skip_connection': False}\n",
      "72.42 {'k_size_a': 3, 'k_size_b': 1, 'out_channels_a': 64, 'out_channels_b': 64, 'include_pool_a': False, 'include_pool_b': False, 'pool_type_a': 'avg_pooling', 'pool_type_b': 'max_pooling', 'activation_type_a': 'selu', 'activation_type_b': 'tanh', 'include_b': False, 'include_BN_a': True, 'include_BN_b': False, 'skip_connection': True}\n",
      "72.35 {'k_size_a': 3, 'k_size_b': 5, 'out_channels_a': 16, 'out_channels_b': 32, 'include_pool_a': True, 'include_pool_b': True, 'pool_type_a': 'max_pooling', 'pool_type_b': 'max_pooling', 'activation_type_a': 'selu', 'activation_type_b': 'elu', 'include_b': False, 'include_BN_a': False, 'include_BN_b': True, 'skip_connection': False}\n",
      "72.05 {'k_size_a': 3, 'k_size_b': 3, 'out_channels_a': 8, 'out_channels_b': 32, 'include_pool_a': False, 'include_pool_b': True, 'pool_type_a': 'max_pooling', 'pool_type_b': 'avg_pooling', 'activation_type_a': 'tanh', 'activation_type_b': 'tanh', 'include_b': False, 'include_BN_a': True, 'include_BN_b': False, 'skip_connection': False}\n",
      "0 {'k_size_a': 1, 'k_size_b': 5, 'out_channels_a': 32, 'out_channels_b': 32, 'include_pool_a': False, 'include_pool_b': False, 'pool_type_a': 'max_pooling', 'pool_type_b': 'max_pooling', 'activation_type_a': 'selu', 'activation_type_b': 'relu', 'include_b': True, 'include_BN_a': False, 'include_BN_b': False, 'skip_connection': True}\n",
      "0 {'k_size_a': 5, 'k_size_b': 5, 'out_channels_a': 8, 'out_channels_b': 32, 'include_pool_a': True, 'include_pool_b': True, 'pool_type_a': 'avg_pooling', 'pool_type_b': 'avg_pooling', 'activation_type_a': 'selu', 'activation_type_b': 'selu', 'include_b': False, 'include_BN_a': False, 'include_BN_b': False, 'skip_connection': True}\n",
      "0 {'k_size_a': 5, 'k_size_b': 1, 'out_channels_a': 16, 'out_channels_b': 64, 'include_pool_a': False, 'include_pool_b': True, 'pool_type_a': 'max_pooling', 'pool_type_b': 'max_pooling', 'activation_type_a': 'selu', 'activation_type_b': 'elu', 'include_b': True, 'include_BN_a': True, 'include_BN_b': True, 'skip_connection': False}\n",
      "0 {'k_size_a': 5, 'k_size_b': 5, 'out_channels_a': 64, 'out_channels_b': 64, 'include_pool_a': False, 'include_pool_b': False, 'pool_type_a': 'max_pooling', 'pool_type_b': 'avg_pooling', 'activation_type_a': 'relu', 'activation_type_b': 'selu', 'include_b': True, 'include_BN_a': False, 'include_BN_b': False, 'skip_connection': True}\n",
      "0 {'k_size_a': 5, 'k_size_b': 5, 'out_channels_a': 64, 'out_channels_b': 32, 'include_pool_a': False, 'include_pool_b': False, 'pool_type_a': 'max_pooling', 'pool_type_b': 'avg_pooling', 'activation_type_a': 'selu', 'activation_type_b': 'selu', 'include_b': False, 'include_BN_a': False, 'include_BN_b': True, 'skip_connection': True}\n",
      "0 {'k_size_a': 3, 'k_size_b': 3, 'out_channels_a': 16, 'out_channels_b': 64, 'include_pool_a': True, 'include_pool_b': True, 'pool_type_a': 'max_pooling', 'pool_type_b': 'avg_pooling', 'activation_type_a': 'tanh', 'activation_type_b': 'relu', 'include_b': True, 'include_BN_a': False, 'include_BN_b': True, 'skip_connection': False}\n",
      "0 {'k_size_a': 5, 'k_size_b': 3, 'out_channels_a': 8, 'out_channels_b': 32, 'include_pool_a': True, 'include_pool_b': True, 'pool_type_a': 'avg_pooling', 'pool_type_b': 'avg_pooling', 'activation_type_a': 'selu', 'activation_type_b': 'relu', 'include_b': True, 'include_BN_a': True, 'include_BN_b': True, 'skip_connection': False}\n"
     ]
    }
   ],
   "source": [
    "for i in generation.pop:\n",
    "    print(i.fitness, i.genes)"
   ]
  },
  {
   "cell_type": "code",
   "execution_count": 25,
   "metadata": {},
   "outputs": [
    {
     "name": "stdout",
     "output_type": "stream",
     "text": [
      "0 0 Sequential(\n",
      "  (0): Conv2d(3, 32, kernel_size=(5, 5), stride=(1, 1), padding=same)\n",
      "  (1): ReLU()\n",
      "  (2): BatchNorm2d(32, eps=1e-05, momentum=0.1, affine=True, track_running_stats=True)\n",
      "  (3): Conv2d(32, 16, kernel_size=(5, 5), stride=(1, 1), padding=same)\n",
      "  (4): Tanh()\n",
      "  (5): BatchNorm2d(16, eps=1e-05, momentum=0.1, affine=True, track_running_stats=True)\n",
      ") 64.24\n",
      "-------------------------\n",
      "0 1 Sequential(\n",
      "  (0): Conv2d(3, 32, kernel_size=(5, 5), stride=(1, 1), padding=same)\n",
      "  (1): ReLU()\n",
      "  (2): BatchNorm2d(32, eps=1e-05, momentum=0.1, affine=True, track_running_stats=True)\n",
      "  (3): Conv2d(32, 16, kernel_size=(5, 5), stride=(1, 1), padding=same)\n",
      "  (4): Tanh()\n",
      "  (5): BatchNorm2d(16, eps=1e-05, momentum=0.1, affine=True, track_running_stats=True)\n",
      ") 64.24\n",
      "-------------------------\n",
      "0 2 Sequential(\n",
      "  (0): Conv2d(3, 32, kernel_size=(5, 5), stride=(1, 1), padding=same)\n",
      "  (1): ReLU()\n",
      "  (2): BatchNorm2d(32, eps=1e-05, momentum=0.1, affine=True, track_running_stats=True)\n",
      "  (3): Conv2d(32, 16, kernel_size=(5, 5), stride=(1, 1), padding=same)\n",
      "  (4): Tanh()\n",
      "  (5): BatchNorm2d(16, eps=1e-05, momentum=0.1, affine=True, track_running_stats=True)\n",
      ") 64.24\n",
      "-------------------------\n",
      "1 0 Sequential(\n",
      "  (0): Sequential(\n",
      "    (0): Conv2d(3, 32, kernel_size=(5, 5), stride=(1, 1), padding=same)\n",
      "    (1): ReLU()\n",
      "    (2): BatchNorm2d(32, eps=1e-05, momentum=0.1, affine=True, track_running_stats=True)\n",
      "    (3): Conv2d(32, 16, kernel_size=(5, 5), stride=(1, 1), padding=same)\n",
      "    (4): Tanh()\n",
      "    (5): BatchNorm2d(16, eps=1e-05, momentum=0.1, affine=True, track_running_stats=True)\n",
      "  )\n",
      "  (1): Conv2d(16, 64, kernel_size=(1, 1), stride=(1, 1), padding=same)\n",
      "  (2): SELU()\n",
      "  (3): AvgPool2d(kernel_size=2, stride=2, padding=0)\n",
      ") 69.58\n",
      "-------------------------\n",
      "1 1 Sequential(\n",
      "  (0): Sequential(\n",
      "    (0): Conv2d(3, 32, kernel_size=(5, 5), stride=(1, 1), padding=same)\n",
      "    (1): ReLU()\n",
      "    (2): BatchNorm2d(32, eps=1e-05, momentum=0.1, affine=True, track_running_stats=True)\n",
      "    (3): Conv2d(32, 16, kernel_size=(5, 5), stride=(1, 1), padding=same)\n",
      "    (4): Tanh()\n",
      "    (5): BatchNorm2d(16, eps=1e-05, momentum=0.1, affine=True, track_running_stats=True)\n",
      "  )\n",
      "  (1): Conv2d(16, 8, kernel_size=(3, 3), stride=(1, 1), padding=same)\n",
      "  (2): ReLU()\n",
      "  (3): AvgPool2d(kernel_size=2, stride=2, padding=0)\n",
      "  (4): BatchNorm2d(8, eps=1e-05, momentum=0.1, affine=True, track_running_stats=True)\n",
      ") 70.57\n",
      "-------------------------\n",
      "1 2 Sequential(\n",
      "  (0): Sequential(\n",
      "    (0): Conv2d(3, 32, kernel_size=(5, 5), stride=(1, 1), padding=same)\n",
      "    (1): ReLU()\n",
      "    (2): BatchNorm2d(32, eps=1e-05, momentum=0.1, affine=True, track_running_stats=True)\n",
      "    (3): Conv2d(32, 16, kernel_size=(5, 5), stride=(1, 1), padding=same)\n",
      "    (4): Tanh()\n",
      "    (5): BatchNorm2d(16, eps=1e-05, momentum=0.1, affine=True, track_running_stats=True)\n",
      "  )\n",
      "  (1): Conv2d(16, 64, kernel_size=(1, 1), stride=(1, 1), padding=same)\n",
      "  (2): ReLU()\n",
      "  (3): AvgPool2d(kernel_size=2, stride=2, padding=0)\n",
      ") 71.8\n",
      "-------------------------\n",
      "2 0 Sequential(\n",
      "  (0): Sequential(\n",
      "    (0): Sequential(\n",
      "      (0): Conv2d(3, 32, kernel_size=(5, 5), stride=(1, 1), padding=same)\n",
      "      (1): ReLU()\n",
      "      (2): BatchNorm2d(32, eps=1e-05, momentum=0.1, affine=True, track_running_stats=True)\n",
      "      (3): Conv2d(32, 16, kernel_size=(5, 5), stride=(1, 1), padding=same)\n",
      "      (4): Tanh()\n",
      "      (5): BatchNorm2d(16, eps=1e-05, momentum=0.1, affine=True, track_running_stats=True)\n",
      "    )\n",
      "    (1): Conv2d(16, 64, kernel_size=(1, 1), stride=(1, 1), padding=same)\n",
      "    (2): ReLU()\n",
      "    (3): AvgPool2d(kernel_size=2, stride=2, padding=0)\n",
      "  )\n",
      "  (1): Conv2d(64, 8, kernel_size=(3, 3), stride=(1, 1), padding=same)\n",
      "  (2): SELU()\n",
      "  (3): Conv2d(8, 64, kernel_size=(1, 1), stride=(1, 1), padding=same)\n",
      "  (4): ReLU()\n",
      "  (5): MaxPool2d(kernel_size=2, stride=2, padding=0, dilation=1, ceil_mode=False)\n",
      ") 73.56\n",
      "-------------------------\n",
      "2 1 Sequential(\n",
      "  (0): Sequential(\n",
      "    (0): Sequential(\n",
      "      (0): Conv2d(3, 32, kernel_size=(5, 5), stride=(1, 1), padding=same)\n",
      "      (1): ReLU()\n",
      "      (2): BatchNorm2d(32, eps=1e-05, momentum=0.1, affine=True, track_running_stats=True)\n",
      "      (3): Conv2d(32, 16, kernel_size=(5, 5), stride=(1, 1), padding=same)\n",
      "      (4): Tanh()\n",
      "      (5): BatchNorm2d(16, eps=1e-05, momentum=0.1, affine=True, track_running_stats=True)\n",
      "    )\n",
      "    (1): Conv2d(16, 64, kernel_size=(1, 1), stride=(1, 1), padding=same)\n",
      "    (2): ReLU()\n",
      "    (3): AvgPool2d(kernel_size=2, stride=2, padding=0)\n",
      "  )\n",
      "  (1): Conv2d(64, 8, kernel_size=(3, 3), stride=(1, 1), padding=same)\n",
      "  (2): SELU()\n",
      "  (3): Conv2d(8, 64, kernel_size=(1, 1), stride=(1, 1), padding=same)\n",
      "  (4): ReLU()\n",
      "  (5): MaxPool2d(kernel_size=2, stride=2, padding=0, dilation=1, ceil_mode=False)\n",
      ") 73.56\n",
      "-------------------------\n",
      "2 2 Sequential(\n",
      "  (0): Sequential(\n",
      "    (0): Sequential(\n",
      "      (0): Conv2d(3, 32, kernel_size=(5, 5), stride=(1, 1), padding=same)\n",
      "      (1): ReLU()\n",
      "      (2): BatchNorm2d(32, eps=1e-05, momentum=0.1, affine=True, track_running_stats=True)\n",
      "      (3): Conv2d(32, 16, kernel_size=(5, 5), stride=(1, 1), padding=same)\n",
      "      (4): Tanh()\n",
      "      (5): BatchNorm2d(16, eps=1e-05, momentum=0.1, affine=True, track_running_stats=True)\n",
      "    )\n",
      "    (1): Conv2d(16, 64, kernel_size=(1, 1), stride=(1, 1), padding=same)\n",
      "    (2): ReLU()\n",
      "    (3): AvgPool2d(kernel_size=2, stride=2, padding=0)\n",
      "  )\n",
      "  (1): Conv2d(64, 16, kernel_size=(3, 3), stride=(1, 1), padding=same)\n",
      "  (2): SELU()\n",
      "  (3): AvgPool2d(kernel_size=2, stride=2, padding=0)\n",
      "  (4): Conv2d(16, 64, kernel_size=(1, 1), stride=(1, 1), padding=same)\n",
      "  (5): ReLU()\n",
      "  (6): MaxPool2d(kernel_size=2, stride=2, padding=0, dilation=1, ceil_mode=False)\n",
      ") 74.35\n",
      "-------------------------\n",
      "3 0 Sequential(\n",
      "  (0): Sequential(\n",
      "    (0): Sequential(\n",
      "      (0): Sequential(\n",
      "        (0): Conv2d(3, 32, kernel_size=(5, 5), stride=(1, 1), padding=same)\n",
      "        (1): ReLU()\n",
      "        (2): BatchNorm2d(32, eps=1e-05, momentum=0.1, affine=True, track_running_stats=True)\n",
      "        (3): Conv2d(32, 16, kernel_size=(5, 5), stride=(1, 1), padding=same)\n",
      "        (4): Tanh()\n",
      "        (5): BatchNorm2d(16, eps=1e-05, momentum=0.1, affine=True, track_running_stats=True)\n",
      "      )\n",
      "      (1): Conv2d(16, 64, kernel_size=(1, 1), stride=(1, 1), padding=same)\n",
      "      (2): ReLU()\n",
      "      (3): AvgPool2d(kernel_size=2, stride=2, padding=0)\n",
      "    )\n",
      "    (1): Conv2d(64, 16, kernel_size=(3, 3), stride=(1, 1), padding=same)\n",
      "    (2): SELU()\n",
      "    (3): AvgPool2d(kernel_size=2, stride=2, padding=0)\n",
      "    (4): Conv2d(16, 64, kernel_size=(1, 1), stride=(1, 1), padding=same)\n",
      "    (5): ReLU()\n",
      "    (6): MaxPool2d(kernel_size=2, stride=2, padding=0, dilation=1, ceil_mode=False)\n",
      "  )\n",
      "  (1): Conv2d(64, 16, kernel_size=(3, 3), stride=(1, 1), padding=same)\n",
      "  (2): ReLU()\n",
      ") 74.27\n",
      "-------------------------\n",
      "3 1 Sequential(\n",
      "  (0): Sequential(\n",
      "    (0): Sequential(\n",
      "      (0): Sequential(\n",
      "        (0): Conv2d(3, 32, kernel_size=(5, 5), stride=(1, 1), padding=same)\n",
      "        (1): ReLU()\n",
      "        (2): BatchNorm2d(32, eps=1e-05, momentum=0.1, affine=True, track_running_stats=True)\n",
      "        (3): Conv2d(32, 16, kernel_size=(5, 5), stride=(1, 1), padding=same)\n",
      "        (4): Tanh()\n",
      "        (5): BatchNorm2d(16, eps=1e-05, momentum=0.1, affine=True, track_running_stats=True)\n",
      "      )\n",
      "      (1): Conv2d(16, 64, kernel_size=(1, 1), stride=(1, 1), padding=same)\n",
      "      (2): ReLU()\n",
      "      (3): AvgPool2d(kernel_size=2, stride=2, padding=0)\n",
      "    )\n",
      "    (1): Conv2d(64, 16, kernel_size=(3, 3), stride=(1, 1), padding=same)\n",
      "    (2): SELU()\n",
      "    (3): AvgPool2d(kernel_size=2, stride=2, padding=0)\n",
      "    (4): Conv2d(16, 64, kernel_size=(1, 1), stride=(1, 1), padding=same)\n",
      "    (5): ReLU()\n",
      "    (6): MaxPool2d(kernel_size=2, stride=2, padding=0, dilation=1, ceil_mode=False)\n",
      "  )\n",
      "  (1): Conv2d(64, 16, kernel_size=(3, 3), stride=(1, 1), padding=same)\n",
      "  (2): ReLU()\n",
      ") 74.27\n",
      "-------------------------\n",
      "3 2 Sequential(\n",
      "  (0): Sequential(\n",
      "    (0): Sequential(\n",
      "      (0): Sequential(\n",
      "        (0): Conv2d(3, 32, kernel_size=(5, 5), stride=(1, 1), padding=same)\n",
      "        (1): ReLU()\n",
      "        (2): BatchNorm2d(32, eps=1e-05, momentum=0.1, affine=True, track_running_stats=True)\n",
      "        (3): Conv2d(32, 16, kernel_size=(5, 5), stride=(1, 1), padding=same)\n",
      "        (4): Tanh()\n",
      "        (5): BatchNorm2d(16, eps=1e-05, momentum=0.1, affine=True, track_running_stats=True)\n",
      "      )\n",
      "      (1): Conv2d(16, 64, kernel_size=(1, 1), stride=(1, 1), padding=same)\n",
      "      (2): ReLU()\n",
      "      (3): AvgPool2d(kernel_size=2, stride=2, padding=0)\n",
      "    )\n",
      "    (1): Conv2d(64, 16, kernel_size=(3, 3), stride=(1, 1), padding=same)\n",
      "    (2): SELU()\n",
      "    (3): AvgPool2d(kernel_size=2, stride=2, padding=0)\n",
      "    (4): Conv2d(16, 64, kernel_size=(1, 1), stride=(1, 1), padding=same)\n",
      "    (5): ReLU()\n",
      "    (6): MaxPool2d(kernel_size=2, stride=2, padding=0, dilation=1, ceil_mode=False)\n",
      "  )\n",
      "  (1): Conv2d(64, 16, kernel_size=(3, 3), stride=(1, 1), padding=same)\n",
      "  (2): ReLU()\n",
      ") 74.27\n",
      "-------------------------\n"
     ]
    }
   ],
   "source": [
    "l = []\n",
    "max = 0\n",
    "for i in fitness_history:\n",
    "    if i['fittest'].fitness > 74:\n",
    "        best = i['fittest']\n",
    "    max = i['fittest'].fitness\n",
    "    print(i['phase'], i['generation'],i['fittest'].model, i['fittest'].fitness )\n",
    "    print('-------------------------')\n",
    "    l.append(i['fittest'].fitness)"
   ]
  },
  {
   "cell_type": "code",
   "execution_count": 26,
   "metadata": {},
   "outputs": [
    {
     "data": {
      "text/plain": [
       "74.27"
      ]
     },
     "execution_count": 26,
     "metadata": {},
     "output_type": "execute_result"
    }
   ],
   "source": [
    "best.fitness"
   ]
  },
  {
   "cell_type": "code",
   "execution_count": 29,
   "metadata": {},
   "outputs": [],
   "source": [
    "model = best.model"
   ]
  },
  {
   "cell_type": "code",
   "execution_count": 28,
   "metadata": {},
   "outputs": [
    {
     "data": {
      "image/png": "[encoded data removed]",
      "text/plain": [
       "<Figure size 640x480 with 1 Axes>"
      ]
     },
     "metadata": {},
     "output_type": "display_data"
    }
   ],
   "source": [
    "import matplotlib.pyplot as plt\n",
    "\n",
    "plt.plot(l)\n",
    "plt.show()"
   ]
  },
  {
   "cell_type": "code",
   "execution_count": 46,
   "metadata": {},
   "outputs": [],
   "source": [
    "from chromosome import FinalModel\n",
    "import torch.optim as optim\n",
    "\n",
    "from tqdm import tqdm"
   ]
  },
  {
   "cell_type": "code",
   "execution_count": 50,
   "metadata": {},
   "outputs": [
    {
     "data": {
      "text/plain": [
       "Sequential(\n",
       "  (0): Sequential(\n",
       "    (0): Sequential(\n",
       "      (0): Sequential(\n",
       "        (0): Conv2d(3, 32, kernel_size=(5, 5), stride=(1, 1), padding=same)\n",
       "        (1): ReLU()\n",
       "        (2): BatchNorm2d(32, eps=1e-05, momentum=0.1, affine=True, track_running_stats=True)\n",
       "        (3): Conv2d(32, 16, kernel_size=(5, 5), stride=(1, 1), padding=same)\n",
       "        (4): Tanh()\n",
       "        (5): BatchNorm2d(16, eps=1e-05, momentum=0.1, affine=True, track_running_stats=True)\n",
       "      )\n",
       "      (1): Conv2d(16, 64, kernel_size=(1, 1), stride=(1, 1), padding=same)\n",
       "      (2): ReLU()\n",
       "      (3): AvgPool2d(kernel_size=2, stride=2, padding=0)\n",
       "    )\n",
       "    (1): Conv2d(64, 16, kernel_size=(3, 3), stride=(1, 1), padding=same)\n",
       "    (2): SELU()\n",
       "    (3): AvgPool2d(kernel_size=2, stride=2, padding=0)\n",
       "    (4): Conv2d(16, 64, kernel_size=(1, 1), stride=(1, 1), padding=same)\n",
       "    (5): ReLU()\n",
       "    (6): MaxPool2d(kernel_size=2, stride=2, padding=0, dilation=1, ceil_mode=False)\n",
       "  )\n",
       "  (1): Conv2d(64, 16, kernel_size=(3, 3), stride=(1, 1), padding=same)\n",
       "  (2): ReLU()\n",
       ")"
      ]
     },
     "execution_count": 50,
     "metadata": {},
     "output_type": "execute_result"
    }
   ],
   "source": [
    "best.model"
   ]
  },
  {
   "cell_type": "code",
   "execution_count": 52,
   "metadata": {},
   "outputs": [],
   "source": [
    "torch.save(best.model, 'final_model.pt')"
   ]
  },
  {
   "cell_type": "code",
   "execution_count": null,
   "metadata": {},
   "outputs": [],
   "source": []
  }
 ],
 "metadata": {
  "kernelspec": {
   "display_name": "dl-project",
   "language": "python",
   "name": "python3"
  },
  "language_info": {
   "codemirror_mode": {
    "name": "ipython",
    "version": 3
   },
   "file_extension": ".py",
   "mimetype": "text/x-python",
   "name": "python",
   "nbconvert_exporter": "python",
   "pygments_lexer": "ipython3",
   "version": "3.10.12"
  }
 },
 "nbformat": 4,
 "nbformat_minor": 2
}
