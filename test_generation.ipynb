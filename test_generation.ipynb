{
 "cells": [
  {
   "cell_type": "code",
   "execution_count": 1,
   "metadata": {},
   "outputs": [],
   "source": [
    "import torch.nn as nn\n",
    "import torch.nn.functional as F\n",
    "import torch.optim as optim\n",
    "from torchsummary import summary\n",
    "from torchvision import datasets, transforms\n",
    "import torch\n",
    "from tqdm import tqdm\n",
    "from chromosome import Chromosome, FinalModel, SEARCH_SPACE\n",
    "from generation import Generation"
   ]
  },
  {
   "cell_type": "code",
   "execution_count": 2,
   "metadata": {},
   "outputs": [
    {
     "name": "stdout",
     "output_type": "stream",
     "text": [
      "Files already downloaded and verified\n",
      "Files already downloaded and verified\n"
     ]
    }
   ],
   "source": [
    "#download dataset cifar10\n",
    "trainset = datasets.CIFAR10(root='./data', train=True, download=True, transform=transforms.ToTensor())\n",
    "kwargs = {'batch_size': 64, 'shuffle': True, 'num_workers': 2, 'pin_memory': True}\n",
    "train_loader = torch.utils.data.DataLoader(trainset, **kwargs)\n",
    "testset = datasets.CIFAR10(root='./data', train=False, download=True, transform=transforms.ToTensor())\n",
    "test_loader = torch.utils.data.DataLoader(testset, **kwargs)"
   ]
  },
  {
   "cell_type": "code",
   "execution_count": 3,
   "metadata": {},
   "outputs": [
    {
     "name": "stderr",
     "output_type": "stream",
     "text": [
      "  0%|          | 0/782 [00:00<?, ?it/s]"
     ]
    },
    {
     "name": "stderr",
     "output_type": "stream",
     "text": [
      "epoch 0 loss=1.4718210697174072 batch_id=781: 100%|██████████| 782/782 [00:02<00:00, 276.34it/s]\n"
     ]
    },
    {
     "name": "stdout",
     "output_type": "stream",
     "text": [
      "Validation accuracy: 40.04\n",
      "Fitness calculated: 40.04\n"
     ]
    },
    {
     "name": "stderr",
     "output_type": "stream",
     "text": [
      "epoch 0 loss=1.919560432434082 batch_id=781: 100%|██████████| 782/782 [00:02<00:00, 293.57it/s] \n"
     ]
    },
    {
     "name": "stdout",
     "output_type": "stream",
     "text": [
      "Validation accuracy: 36.0\n",
      "Fitness calculated: 36.0\n"
     ]
    },
    {
     "name": "stderr",
     "output_type": "stream",
     "text": [
      "epoch 0 loss=1.262132167816162 batch_id=781: 100%|██████████| 782/782 [00:02<00:00, 364.41it/s] \n"
     ]
    },
    {
     "name": "stdout",
     "output_type": "stream",
     "text": [
      "Validation accuracy: 58.42\n",
      "Fitness calculated: 58.42\n"
     ]
    },
    {
     "name": "stderr",
     "output_type": "stream",
     "text": [
      "epoch 0 loss=1.1084496974945068 batch_id=781: 100%|██████████| 782/782 [00:03<00:00, 220.16it/s]\n"
     ]
    },
    {
     "name": "stdout",
     "output_type": "stream",
     "text": [
      "Validation accuracy: 46.04\n",
      "Fitness calculated: 46.04\n"
     ]
    },
    {
     "name": "stderr",
     "output_type": "stream",
     "text": [
      "epoch 0 loss=1.8665052652359009 batch_id=781: 100%|██████████| 782/782 [00:02<00:00, 337.27it/s]\n"
     ]
    },
    {
     "name": "stdout",
     "output_type": "stream",
     "text": [
      "Validation accuracy: 45.2\n",
      "Fitness calculated: 45.2\n"
     ]
    },
    {
     "name": "stderr",
     "output_type": "stream",
     "text": [
      "epoch 0 loss=0.9409502744674683 batch_id=781: 100%|██████████| 782/782 [00:02<00:00, 350.12it/s]\n"
     ]
    },
    {
     "name": "stdout",
     "output_type": "stream",
     "text": [
      "Validation accuracy: 51.18\n",
      "Fitness calculated: 51.18\n"
     ]
    },
    {
     "name": "stderr",
     "output_type": "stream",
     "text": [
      "epoch 0 loss=2.038618326187134 batch_id=781: 100%|██████████| 782/782 [00:02<00:00, 311.54it/s] \n"
     ]
    },
    {
     "name": "stdout",
     "output_type": "stream",
     "text": [
      "Validation accuracy: 40.74\n",
      "Fitness calculated: 40.74\n"
     ]
    },
    {
     "name": "stderr",
     "output_type": "stream",
     "text": [
      "epoch 0 loss=1.6832951307296753 batch_id=781: 100%|██████████| 782/782 [00:05<00:00, 150.04it/s]\n"
     ]
    },
    {
     "name": "stdout",
     "output_type": "stream",
     "text": [
      "Validation accuracy: 55.22\n",
      "Fitness calculated: 55.22\n"
     ]
    },
    {
     "name": "stderr",
     "output_type": "stream",
     "text": [
      "epoch 0 loss=0.5202199816703796 batch_id=781: 100%|██████████| 782/782 [00:02<00:00, 332.34it/s]\n"
     ]
    },
    {
     "name": "stdout",
     "output_type": "stream",
     "text": [
      "Validation accuracy: 53.01\n",
      "Fitness calculated: 53.01\n"
     ]
    },
    {
     "name": "stderr",
     "output_type": "stream",
     "text": [
      "epoch 0 loss=1.791107416152954 batch_id=781: 100%|██████████| 782/782 [00:02<00:00, 349.03it/s] \n"
     ]
    },
    {
     "name": "stdout",
     "output_type": "stream",
     "text": [
      "Validation accuracy: 45.13\n",
      "Fitness calculated: 45.13\n"
     ]
    }
   ],
   "source": [
    "generation = Generation(fit_survival_rate = 0.3,\n",
    "                        unfit_survival_rate = 0.1,\n",
    "                        mutation_rate = 0.1,\n",
    "                        pop_size = 10,\n",
    "                        phase = 0,\n",
    "                        search_space = SEARCH_SPACE,\n",
    "                        prev_best = None,\n",
    "                        train_loader = train_loader,\n",
    "                        test_loader = test_loader)"
   ]
  },
  {
   "cell_type": "code",
   "execution_count": 4,
   "metadata": {},
   "outputs": [
    {
     "data": {
      "text/plain": [
       "[40.04, 36.0, 58.42, 46.04, 45.2, 51.18, 40.74, 55.22, 53.01, 45.13]"
      ]
     },
     "execution_count": 4,
     "metadata": {},
     "output_type": "execute_result"
    }
   ],
   "source": [
    "[i.fitness for i in generation.pop]"
   ]
  },
  {
   "cell_type": "code",
   "execution_count": 5,
   "metadata": {},
   "outputs": [
    {
     "data": {
      "text/plain": [
       "10"
      ]
     },
     "execution_count": 5,
     "metadata": {},
     "output_type": "execute_result"
    }
   ],
   "source": [
    "generation.pop_size"
   ]
  },
  {
   "cell_type": "code",
   "execution_count": 6,
   "metadata": {},
   "outputs": [
    {
     "data": {
      "text/plain": [
       "58.42"
      ]
     },
     "execution_count": 6,
     "metadata": {},
     "output_type": "execute_result"
    }
   ],
   "source": [
    "generation.find_fittest().fitness"
   ]
  },
  {
   "cell_type": "code",
   "execution_count": 7,
   "metadata": {},
   "outputs": [
    {
     "data": {
      "text/plain": [
       "Sequential(\n",
       "  (0): Conv2d(3, 16, kernel_size=(3, 3), stride=(1, 1))\n",
       "  (1): Tanh()\n",
       "  (2): MaxPool2d(kernel_size=2, stride=2, padding=0, dilation=1, ceil_mode=False)\n",
       "  (3): BatchNorm2d(16, eps=1e-05, momentum=0.1, affine=True, track_running_stats=True)\n",
       "  (4): Conv2d(16, 16, kernel_size=(3, 3), stride=(1, 1))\n",
       "  (5): ReLU()\n",
       ")"
      ]
     },
     "execution_count": 7,
     "metadata": {},
     "output_type": "execute_result"
    }
   ],
   "source": [
    "generation.find_fittest().model"
   ]
  },
  {
   "cell_type": "code",
   "execution_count": 8,
   "metadata": {},
   "outputs": [
    {
     "name": "stderr",
     "output_type": "stream",
     "text": [
      "epoch 0 loss=2.3643651008605957 batch_id=781: 100%|██████████| 782/782 [00:02<00:00, 292.89it/s]\n"
     ]
    },
    {
     "name": "stdout",
     "output_type": "stream",
     "text": [
      "Validation accuracy: 41.63\n",
      "Fitness calculated: 41.63\n"
     ]
    },
    {
     "name": "stderr",
     "output_type": "stream",
     "text": [
      "epoch 0 loss=2.1910271644592285 batch_id=781: 100%|██████████| 782/782 [00:05<00:00, 135.36it/s]\n"
     ]
    },
    {
     "name": "stdout",
     "output_type": "stream",
     "text": [
      "Validation accuracy: 54.53\n",
      "Fitness calculated: 54.53\n"
     ]
    },
    {
     "name": "stderr",
     "output_type": "stream",
     "text": [
      "epoch 0 loss=1.5502177476882935 batch_id=781: 100%|██████████| 782/782 [00:03<00:00, 219.23it/s]\n"
     ]
    },
    {
     "name": "stdout",
     "output_type": "stream",
     "text": [
      "Validation accuracy: 47.31\n",
      "Fitness calculated: 47.31\n"
     ]
    },
    {
     "name": "stderr",
     "output_type": "stream",
     "text": [
      "epoch 0 loss=1.0998636484146118 batch_id=781: 100%|██████████| 782/782 [00:04<00:00, 166.45it/s]\n"
     ]
    },
    {
     "name": "stdout",
     "output_type": "stream",
     "text": [
      "Validation accuracy: 52.84\n",
      "Fitness calculated: 52.84\n"
     ]
    },
    {
     "name": "stderr",
     "output_type": "stream",
     "text": [
      "epoch 0 loss=1.3524162769317627 batch_id=781: 100%|██████████| 782/782 [00:02<00:00, 383.08it/s]\n"
     ]
    },
    {
     "name": "stdout",
     "output_type": "stream",
     "text": [
      "Validation accuracy: 49.28\n",
      "Fitness calculated: 49.28\n"
     ]
    },
    {
     "name": "stderr",
     "output_type": "stream",
     "text": [
      "epoch 0 loss=1.6683478355407715 batch_id=781: 100%|██████████| 782/782 [00:02<00:00, 371.60it/s]\n"
     ]
    },
    {
     "name": "stdout",
     "output_type": "stream",
     "text": [
      "Validation accuracy: 40.03\n",
      "Fitness calculated: 40.03\n"
     ]
    },
    {
     "name": "stderr",
     "output_type": "stream",
     "text": [
      "epoch 0 loss=1.1547635793685913 batch_id=781: 100%|██████████| 782/782 [00:02<00:00, 355.81it/s]\n"
     ]
    },
    {
     "name": "stdout",
     "output_type": "stream",
     "text": [
      "Validation accuracy: 51.63\n",
      "Fitness calculated: 51.63\n",
      "\n",
      "\n",
      "\n",
      "Fittest in phase 0 and generation 0: 58.42\n",
      "\n",
      "\n"
     ]
    },
    {
     "name": "stderr",
     "output_type": "stream",
     "text": [
      "epoch 0 loss=1.1425389051437378 batch_id=781: 100%|██████████| 782/782 [00:05<00:00, 150.95it/s]\n"
     ]
    },
    {
     "name": "stdout",
     "output_type": "stream",
     "text": [
      "Validation accuracy: 61.06\n",
      "Fitness calculated: 61.06\n"
     ]
    },
    {
     "name": "stderr",
     "output_type": "stream",
     "text": [
      "epoch 0 loss=1.3137913942337036 batch_id=781: 100%|██████████| 782/782 [00:02<00:00, 279.37it/s]\n"
     ]
    },
    {
     "name": "stdout",
     "output_type": "stream",
     "text": [
      "Validation accuracy: 42.56\n",
      "Fitness calculated: 42.56\n"
     ]
    },
    {
     "name": "stderr",
     "output_type": "stream",
     "text": [
      "epoch 0 loss=1.039172649383545 batch_id=781: 100%|██████████| 782/782 [00:02<00:00, 351.68it/s] \n"
     ]
    },
    {
     "name": "stdout",
     "output_type": "stream",
     "text": [
      "Validation accuracy: 54.27\n",
      "Fitness calculated: 54.27\n"
     ]
    },
    {
     "name": "stderr",
     "output_type": "stream",
     "text": [
      "epoch 0 loss=1.3357919454574585 batch_id=781: 100%|██████████| 782/782 [00:05<00:00, 134.99it/s]\n"
     ]
    },
    {
     "name": "stdout",
     "output_type": "stream",
     "text": [
      "Validation accuracy: 51.08\n",
      "Fitness calculated: 51.08\n"
     ]
    },
    {
     "name": "stderr",
     "output_type": "stream",
     "text": [
      "epoch 0 loss=0.8025450110435486 batch_id=781: 100%|██████████| 782/782 [00:03<00:00, 227.57it/s]\n"
     ]
    },
    {
     "name": "stdout",
     "output_type": "stream",
     "text": [
      "Validation accuracy: 55.86\n",
      "Fitness calculated: 55.86\n"
     ]
    },
    {
     "name": "stderr",
     "output_type": "stream",
     "text": [
      "epoch 0 loss=1.6789098978042603 batch_id=781: 100%|██████████| 782/782 [00:05<00:00, 151.22it/s]\n"
     ]
    },
    {
     "name": "stdout",
     "output_type": "stream",
     "text": [
      "Validation accuracy: 59.3\n",
      "Fitness calculated: 59.3\n"
     ]
    },
    {
     "name": "stderr",
     "output_type": "stream",
     "text": [
      "epoch 0 loss=1.431639552116394 batch_id=781: 100%|██████████| 782/782 [00:02<00:00, 352.20it/s] \n"
     ]
    },
    {
     "name": "stdout",
     "output_type": "stream",
     "text": [
      "Validation accuracy: 57.84\n",
      "Fitness calculated: 57.84\n",
      "\n",
      "\n",
      "\n",
      "Fittest in phase 0 and generation 1: 61.06\n",
      "\n",
      "\n"
     ]
    },
    {
     "name": "stderr",
     "output_type": "stream",
     "text": [
      "epoch 0 loss=1.5951634645462036 batch_id=781: 100%|██████████| 782/782 [00:03<00:00, 211.81it/s]\n"
     ]
    },
    {
     "name": "stdout",
     "output_type": "stream",
     "text": [
      "Validation accuracy: 48.93\n",
      "Fitness calculated: 48.93\n"
     ]
    },
    {
     "name": "stderr",
     "output_type": "stream",
     "text": [
      "epoch 0 loss=1.6240620613098145 batch_id=781: 100%|██████████| 782/782 [00:02<00:00, 367.88it/s]\n"
     ]
    },
    {
     "name": "stdout",
     "output_type": "stream",
     "text": [
      "Validation accuracy: 42.07\n",
      "Fitness calculated: 42.07\n"
     ]
    },
    {
     "name": "stderr",
     "output_type": "stream",
     "text": [
      "epoch 0 loss=1.0979454517364502 batch_id=781: 100%|██████████| 782/782 [00:02<00:00, 334.84it/s]\n"
     ]
    },
    {
     "name": "stdout",
     "output_type": "stream",
     "text": [
      "Validation accuracy: 58.37\n",
      "Fitness calculated: 58.37\n"
     ]
    },
    {
     "name": "stderr",
     "output_type": "stream",
     "text": [
      "epoch 0 loss=1.2972533702850342 batch_id=781: 100%|██████████| 782/782 [00:02<00:00, 317.45it/s]\n"
     ]
    },
    {
     "name": "stdout",
     "output_type": "stream",
     "text": [
      "Validation accuracy: 56.41\n",
      "Fitness calculated: 56.41\n"
     ]
    },
    {
     "name": "stderr",
     "output_type": "stream",
     "text": [
      "epoch 0 loss=1.7241268157958984 batch_id=781: 100%|██████████| 782/782 [00:05<00:00, 151.17it/s]\n"
     ]
    },
    {
     "name": "stdout",
     "output_type": "stream",
     "text": [
      "Validation accuracy: 60.53\n",
      "Fitness calculated: 60.53\n"
     ]
    },
    {
     "name": "stderr",
     "output_type": "stream",
     "text": [
      "epoch 0 loss=1.1593817472457886 batch_id=781: 100%|██████████| 782/782 [00:02<00:00, 333.14it/s]\n"
     ]
    },
    {
     "name": "stdout",
     "output_type": "stream",
     "text": [
      "Validation accuracy: 60.47\n",
      "Fitness calculated: 60.47\n"
     ]
    },
    {
     "name": "stderr",
     "output_type": "stream",
     "text": [
      "epoch 0 loss=1.2448192834854126 batch_id=781: 100%|██████████| 782/782 [00:02<00:00, 309.37it/s]\n"
     ]
    },
    {
     "name": "stdout",
     "output_type": "stream",
     "text": [
      "Validation accuracy: 56.39\n",
      "Fitness calculated: 56.39\n",
      "\n",
      "\n",
      "\n",
      "Fittest in phase 0 and generation 2: 61.06\n",
      "\n",
      "\n",
      "Fittest in phase 0 = 61.06\n",
      "\n",
      "\n"
     ]
    },
    {
     "name": "stderr",
     "output_type": "stream",
     "text": [
      "epoch 0 loss=1.3202202320098877 batch_id=781: 100%|██████████| 782/782 [00:09<00:00, 79.72it/s]\n"
     ]
    },
    {
     "name": "stdout",
     "output_type": "stream",
     "text": [
      "Validation accuracy: 62.75\n",
      "Fitness calculated: 62.75\n"
     ]
    },
    {
     "name": "stderr",
     "output_type": "stream",
     "text": [
      "epoch 0 loss=0.5754390358924866 batch_id=781: 100%|██████████| 782/782 [00:09<00:00, 78.75it/s]\n"
     ]
    },
    {
     "name": "stdout",
     "output_type": "stream",
     "text": [
      "Validation accuracy: 65.41\n",
      "Fitness calculated: 65.41\n"
     ]
    },
    {
     "name": "stderr",
     "output_type": "stream",
     "text": [
      "epoch 0 loss=1.341479778289795 batch_id=781: 100%|██████████| 782/782 [00:10<00:00, 76.42it/s] \n"
     ]
    },
    {
     "name": "stdout",
     "output_type": "stream",
     "text": [
      "Validation accuracy: 64.66\n",
      "Fitness calculated: 64.66\n"
     ]
    },
    {
     "name": "stderr",
     "output_type": "stream",
     "text": [
      "epoch 0 loss=0.8889902830123901 batch_id=781: 100%|██████████| 782/782 [00:09<00:00, 78.59it/s]\n"
     ]
    },
    {
     "name": "stdout",
     "output_type": "stream",
     "text": [
      "Validation accuracy: 64.55\n",
      "Fitness calculated: 64.55\n"
     ]
    },
    {
     "name": "stderr",
     "output_type": "stream",
     "text": [
      "epoch 0 loss=1.8140907287597656 batch_id=781: 100%|██████████| 782/782 [00:05<00:00, 137.74it/s]\n"
     ]
    },
    {
     "name": "stdout",
     "output_type": "stream",
     "text": [
      "Validation accuracy: 46.73\n",
      "Fitness calculated: 46.73\n"
     ]
    },
    {
     "name": "stderr",
     "output_type": "stream",
     "text": [
      "epoch 0 loss=1.3073726892471313 batch_id=781: 100%|██████████| 782/782 [00:05<00:00, 144.24it/s]\n"
     ]
    },
    {
     "name": "stdout",
     "output_type": "stream",
     "text": [
      "Validation accuracy: 63.28\n",
      "Fitness calculated: 63.28\n"
     ]
    },
    {
     "name": "stderr",
     "output_type": "stream",
     "text": [
      "epoch 0 loss=0.8589540719985962 batch_id=781: 100%|██████████| 782/782 [00:05<00:00, 145.12it/s]\n"
     ]
    },
    {
     "name": "stdout",
     "output_type": "stream",
     "text": [
      "Validation accuracy: 63.67\n",
      "Fitness calculated: 63.67\n"
     ]
    },
    {
     "name": "stderr",
     "output_type": "stream",
     "text": [
      "epoch 0 loss=1.23557710647583 batch_id=781: 100%|██████████| 782/782 [00:05<00:00, 136.86it/s]  \n"
     ]
    },
    {
     "name": "stdout",
     "output_type": "stream",
     "text": [
      "Validation accuracy: 66.83\n",
      "Fitness calculated: 66.83\n"
     ]
    },
    {
     "name": "stderr",
     "output_type": "stream",
     "text": [
      "epoch 0 loss=1.3066489696502686 batch_id=781: 100%|██████████| 782/782 [00:09<00:00, 79.78it/s]\n"
     ]
    },
    {
     "name": "stdout",
     "output_type": "stream",
     "text": [
      "Validation accuracy: 63.31\n",
      "Fitness calculated: 63.31\n"
     ]
    },
    {
     "name": "stderr",
     "output_type": "stream",
     "text": [
      "epoch 0 loss=0.8456137180328369 batch_id=781: 100%|██████████| 782/782 [00:10<00:00, 73.85it/s]\n"
     ]
    },
    {
     "name": "stdout",
     "output_type": "stream",
     "text": [
      "Validation accuracy: 69.6\n",
      "Fitness calculated: 69.6\n"
     ]
    },
    {
     "name": "stderr",
     "output_type": "stream",
     "text": [
      "epoch 0 loss=1.0437737703323364 batch_id=781: 100%|██████████| 782/782 [00:10<00:00, 78.13it/s]\n"
     ]
    },
    {
     "name": "stdout",
     "output_type": "stream",
     "text": [
      "Validation accuracy: 66.3\n",
      "Fitness calculated: 66.3\n"
     ]
    },
    {
     "name": "stderr",
     "output_type": "stream",
     "text": [
      "epoch 0 loss=0.948192298412323 batch_id=781: 100%|██████████| 782/782 [00:10<00:00, 75.40it/s] \n"
     ]
    },
    {
     "name": "stdout",
     "output_type": "stream",
     "text": [
      "Validation accuracy: 67.3\n",
      "Fitness calculated: 67.3\n"
     ]
    },
    {
     "name": "stderr",
     "output_type": "stream",
     "text": [
      "epoch 0 loss=1.042250156402588 batch_id=781: 100%|██████████| 782/782 [00:10<00:00, 75.91it/s] \n"
     ]
    },
    {
     "name": "stdout",
     "output_type": "stream",
     "text": [
      "Validation accuracy: 69.29\n",
      "Fitness calculated: 69.29\n"
     ]
    },
    {
     "name": "stderr",
     "output_type": "stream",
     "text": [
      "epoch 0 loss=1.3467646837234497 batch_id=781: 100%|██████████| 782/782 [00:10<00:00, 77.50it/s]\n"
     ]
    },
    {
     "name": "stdout",
     "output_type": "stream",
     "text": [
      "Validation accuracy: 68.62\n",
      "Fitness calculated: 68.62\n"
     ]
    },
    {
     "name": "stderr",
     "output_type": "stream",
     "text": [
      "epoch 0 loss=0.8387435674667358 batch_id=781: 100%|██████████| 782/782 [00:05<00:00, 131.95it/s]\n"
     ]
    },
    {
     "name": "stdout",
     "output_type": "stream",
     "text": [
      "Validation accuracy: 65.09\n",
      "Fitness calculated: 65.09\n"
     ]
    },
    {
     "name": "stderr",
     "output_type": "stream",
     "text": [
      "epoch 0 loss=1.037901520729065 batch_id=781: 100%|██████████| 782/782 [00:10<00:00, 77.72it/s] \n"
     ]
    },
    {
     "name": "stdout",
     "output_type": "stream",
     "text": [
      "Validation accuracy: 68.57\n",
      "Fitness calculated: 68.57\n"
     ]
    },
    {
     "name": "stderr",
     "output_type": "stream",
     "text": [
      "epoch 0 loss=1.0260143280029297 batch_id=781: 100%|██████████| 782/782 [00:10<00:00, 76.25it/s] \n"
     ]
    },
    {
     "name": "stdout",
     "output_type": "stream",
     "text": [
      "Validation accuracy: 67.91\n",
      "Fitness calculated: 67.91\n",
      "\n",
      "\n",
      "\n",
      "Fittest in phase 1 and generation 0: 69.6\n",
      "\n",
      "\n"
     ]
    },
    {
     "name": "stderr",
     "output_type": "stream",
     "text": [
      "epoch 0 loss=1.7092278003692627 batch_id=781: 100%|██████████| 782/782 [00:05<00:00, 141.59it/s]\n"
     ]
    },
    {
     "name": "stdout",
     "output_type": "stream",
     "text": [
      "Validation accuracy: 47.28\n",
      "Fitness calculated: 47.28\n"
     ]
    },
    {
     "name": "stderr",
     "output_type": "stream",
     "text": [
      "epoch 0 loss=1.0581629276275635 batch_id=781: 100%|██████████| 782/782 [00:10<00:00, 77.76it/s]\n"
     ]
    },
    {
     "name": "stdout",
     "output_type": "stream",
     "text": [
      "Validation accuracy: 68.65\n",
      "Fitness calculated: 68.65\n"
     ]
    },
    {
     "name": "stderr",
     "output_type": "stream",
     "text": [
      "epoch 0 loss=1.0772250890731812 batch_id=781: 100%|██████████| 782/782 [00:05<00:00, 143.54it/s]\n"
     ]
    },
    {
     "name": "stdout",
     "output_type": "stream",
     "text": [
      "Validation accuracy: 68.84\n",
      "Fitness calculated: 68.84\n"
     ]
    },
    {
     "name": "stderr",
     "output_type": "stream",
     "text": [
      "epoch 0 loss=0.9758192300796509 batch_id=781: 100%|██████████| 782/782 [00:05<00:00, 138.14it/s]\n"
     ]
    },
    {
     "name": "stdout",
     "output_type": "stream",
     "text": [
      "Validation accuracy: 62.31\n",
      "Fitness calculated: 62.31\n"
     ]
    },
    {
     "name": "stderr",
     "output_type": "stream",
     "text": [
      "epoch 0 loss=1.1240144968032837 batch_id=781: 100%|██████████| 782/782 [00:09<00:00, 78.48it/s]\n"
     ]
    },
    {
     "name": "stdout",
     "output_type": "stream",
     "text": [
      "Validation accuracy: 67.04\n",
      "Fitness calculated: 67.04\n"
     ]
    },
    {
     "name": "stderr",
     "output_type": "stream",
     "text": [
      "epoch 0 loss=1.1672219038009644 batch_id=781: 100%|██████████| 782/782 [00:05<00:00, 141.37it/s]\n"
     ]
    },
    {
     "name": "stdout",
     "output_type": "stream",
     "text": [
      "Validation accuracy: 56.8\n",
      "Fitness calculated: 56.8\n"
     ]
    },
    {
     "name": "stderr",
     "output_type": "stream",
     "text": [
      "epoch 0 loss=0.9138790965080261 batch_id=781: 100%|██████████| 782/782 [00:10<00:00, 77.44it/s] \n"
     ]
    },
    {
     "name": "stdout",
     "output_type": "stream",
     "text": [
      "Validation accuracy: 67.27\n",
      "Fitness calculated: 67.27\n",
      "\n",
      "\n",
      "\n",
      "Fittest in phase 1 and generation 1: 69.6\n",
      "\n",
      "\n"
     ]
    },
    {
     "name": "stderr",
     "output_type": "stream",
     "text": [
      "epoch 0 loss=1.4924311637878418 batch_id=781: 100%|██████████| 782/782 [00:05<00:00, 141.64it/s]\n"
     ]
    },
    {
     "name": "stdout",
     "output_type": "stream",
     "text": [
      "Validation accuracy: 49.5\n",
      "Fitness calculated: 49.5\n"
     ]
    },
    {
     "name": "stderr",
     "output_type": "stream",
     "text": [
      "epoch 0 loss=0.8035723567008972 batch_id=781: 100%|██████████| 782/782 [00:10<00:00, 77.91it/s]\n"
     ]
    },
    {
     "name": "stdout",
     "output_type": "stream",
     "text": [
      "Validation accuracy: 68.63\n",
      "Fitness calculated: 68.63\n"
     ]
    },
    {
     "name": "stderr",
     "output_type": "stream",
     "text": [
      "epoch 0 loss=1.3097771406173706 batch_id=781: 100%|██████████| 782/782 [00:05<00:00, 141.54it/s] \n"
     ]
    },
    {
     "name": "stdout",
     "output_type": "stream",
     "text": [
      "Validation accuracy: 71.51\n",
      "Fitness calculated: 71.51\n"
     ]
    },
    {
     "name": "stderr",
     "output_type": "stream",
     "text": [
      "epoch 0 loss=1.1565558910369873 batch_id=781: 100%|██████████| 782/782 [00:05<00:00, 135.73it/s]\n"
     ]
    },
    {
     "name": "stdout",
     "output_type": "stream",
     "text": [
      "Validation accuracy: 66.78\n",
      "Fitness calculated: 66.78\n"
     ]
    },
    {
     "name": "stderr",
     "output_type": "stream",
     "text": [
      "epoch 0 loss=1.0953950881958008 batch_id=781: 100%|██████████| 782/782 [00:10<00:00, 77.08it/s]\n"
     ]
    },
    {
     "name": "stdout",
     "output_type": "stream",
     "text": [
      "Validation accuracy: 69.43\n",
      "Fitness calculated: 69.43\n"
     ]
    },
    {
     "name": "stderr",
     "output_type": "stream",
     "text": [
      "epoch 0 loss=0.6737872958183289 batch_id=781: 100%|██████████| 782/782 [00:10<00:00, 76.45it/s]\n"
     ]
    },
    {
     "name": "stdout",
     "output_type": "stream",
     "text": [
      "Validation accuracy: 72.14\n",
      "Fitness calculated: 72.14\n"
     ]
    },
    {
     "name": "stderr",
     "output_type": "stream",
     "text": [
      "epoch 0 loss=0.7528569102287292 batch_id=781: 100%|██████████| 782/782 [00:10<00:00, 76.17it/s]\n"
     ]
    },
    {
     "name": "stdout",
     "output_type": "stream",
     "text": [
      "Validation accuracy: 71.79\n",
      "Fitness calculated: 71.79\n",
      "\n",
      "\n",
      "\n",
      "Fittest in phase 1 and generation 2: 72.14\n",
      "\n",
      "\n",
      "Fittest in phase 1 = 72.14\n",
      "\n",
      "\n"
     ]
    },
    {
     "name": "stderr",
     "output_type": "stream",
     "text": [
      "epoch 0 loss=0.6671825051307678 batch_id=781: 100%|██████████| 782/782 [00:06<00:00, 126.41it/s] \n"
     ]
    },
    {
     "name": "stdout",
     "output_type": "stream",
     "text": [
      "Validation accuracy: 70.95\n",
      "Fitness calculated: 70.95\n"
     ]
    },
    {
     "name": "stderr",
     "output_type": "stream",
     "text": [
      "epoch 0 loss=1.316541314125061 batch_id=781: 100%|██████████| 782/782 [00:10<00:00, 72.11it/s]  \n"
     ]
    },
    {
     "name": "stdout",
     "output_type": "stream",
     "text": [
      "Validation accuracy: 72.82\n",
      "Fitness calculated: 72.82\n"
     ]
    },
    {
     "name": "stderr",
     "output_type": "stream",
     "text": [
      "epoch 0 loss=1.066827654838562 batch_id=781: 100%|██████████| 782/782 [00:05<00:00, 136.04it/s]  \n"
     ]
    },
    {
     "name": "stdout",
     "output_type": "stream",
     "text": [
      "Validation accuracy: 72.79\n",
      "Fitness calculated: 72.79\n"
     ]
    },
    {
     "name": "stderr",
     "output_type": "stream",
     "text": [
      "epoch 0 loss=1.1984128952026367 batch_id=781: 100%|██████████| 782/782 [00:10<00:00, 72.82it/s] \n"
     ]
    },
    {
     "name": "stdout",
     "output_type": "stream",
     "text": [
      "Validation accuracy: 73.82\n",
      "Fitness calculated: 73.82\n"
     ]
    },
    {
     "name": "stderr",
     "output_type": "stream",
     "text": [
      "epoch 0 loss=0.8093590140342712 batch_id=781: 100%|██████████| 782/782 [00:05<00:00, 134.64it/s] \n"
     ]
    },
    {
     "name": "stdout",
     "output_type": "stream",
     "text": [
      "Validation accuracy: 73.62\n",
      "Fitness calculated: 73.62\n"
     ]
    },
    {
     "name": "stderr",
     "output_type": "stream",
     "text": [
      "epoch 0 loss=0.8186708092689514 batch_id=781: 100%|██████████| 782/782 [00:05<00:00, 135.43it/s] \n"
     ]
    },
    {
     "name": "stdout",
     "output_type": "stream",
     "text": [
      "Validation accuracy: 73.9\n",
      "Fitness calculated: 73.9\n"
     ]
    },
    {
     "name": "stderr",
     "output_type": "stream",
     "text": [
      "epoch 0 loss=0.4563370943069458 batch_id=781: 100%|██████████| 782/782 [00:06<00:00, 126.59it/s] \n"
     ]
    },
    {
     "name": "stdout",
     "output_type": "stream",
     "text": [
      "Validation accuracy: 73.67\n",
      "Fitness calculated: 73.67\n"
     ]
    },
    {
     "name": "stderr",
     "output_type": "stream",
     "text": [
      "epoch 0 loss=0.6931129097938538 batch_id=781: 100%|██████████| 782/782 [00:11<00:00, 70.79it/s] \n"
     ]
    },
    {
     "name": "stdout",
     "output_type": "stream",
     "text": [
      "Validation accuracy: 74.81\n",
      "Fitness calculated: 74.81\n"
     ]
    },
    {
     "name": "stderr",
     "output_type": "stream",
     "text": [
      "epoch 0 loss=0.8144184947013855 batch_id=781: 100%|██████████| 782/782 [00:11<00:00, 70.81it/s] \n"
     ]
    },
    {
     "name": "stdout",
     "output_type": "stream",
     "text": [
      "Validation accuracy: 73.38\n",
      "Fitness calculated: 73.38\n"
     ]
    },
    {
     "name": "stderr",
     "output_type": "stream",
     "text": [
      "epoch 0 loss=1.0642181634902954 batch_id=781: 100%|██████████| 782/782 [00:06<00:00, 123.03it/s] \n"
     ]
    },
    {
     "name": "stdout",
     "output_type": "stream",
     "text": [
      "Validation accuracy: 73.9\n",
      "Fitness calculated: 73.9\n"
     ]
    },
    {
     "name": "stderr",
     "output_type": "stream",
     "text": [
      "epoch 0 loss=0.5309423804283142 batch_id=781: 100%|██████████| 782/782 [00:06<00:00, 124.30it/s] \n"
     ]
    },
    {
     "name": "stdout",
     "output_type": "stream",
     "text": [
      "Validation accuracy: 75.18\n",
      "Fitness calculated: 75.18\n"
     ]
    },
    {
     "name": "stderr",
     "output_type": "stream",
     "text": [
      "epoch 0 loss=0.8464568853378296 batch_id=781: 100%|██████████| 782/782 [00:05<00:00, 135.73it/s] \n"
     ]
    },
    {
     "name": "stdout",
     "output_type": "stream",
     "text": [
      "Validation accuracy: 76.1\n",
      "Fitness calculated: 76.1\n"
     ]
    },
    {
     "name": "stderr",
     "output_type": "stream",
     "text": [
      "epoch 0 loss=0.824128270149231 batch_id=781: 100%|██████████| 782/782 [00:05<00:00, 130.51it/s]  \n"
     ]
    },
    {
     "name": "stdout",
     "output_type": "stream",
     "text": [
      "Validation accuracy: 75.5\n",
      "Fitness calculated: 75.5\n"
     ]
    },
    {
     "name": "stderr",
     "output_type": "stream",
     "text": [
      "epoch 0 loss=0.9088110327720642 batch_id=781: 100%|██████████| 782/782 [00:06<00:00, 127.99it/s] \n"
     ]
    },
    {
     "name": "stdout",
     "output_type": "stream",
     "text": [
      "Validation accuracy: 76.3\n",
      "Fitness calculated: 76.3\n"
     ]
    },
    {
     "name": "stderr",
     "output_type": "stream",
     "text": [
      "epoch 0 loss=0.47488147020339966 batch_id=781: 100%|██████████| 782/782 [00:05<00:00, 133.20it/s]\n"
     ]
    },
    {
     "name": "stdout",
     "output_type": "stream",
     "text": [
      "Validation accuracy: 73.95\n",
      "Fitness calculated: 73.95\n"
     ]
    },
    {
     "name": "stderr",
     "output_type": "stream",
     "text": [
      "epoch 0 loss=0.7216953635215759 batch_id=781: 100%|██████████| 782/782 [00:11<00:00, 70.38it/s] \n"
     ]
    },
    {
     "name": "stdout",
     "output_type": "stream",
     "text": [
      "Validation accuracy: 75.12\n",
      "Fitness calculated: 75.12\n"
     ]
    },
    {
     "name": "stderr",
     "output_type": "stream",
     "text": [
      "epoch 0 loss=0.6816130876541138 batch_id=781: 100%|██████████| 782/782 [00:10<00:00, 72.74it/s] \n"
     ]
    },
    {
     "name": "stdout",
     "output_type": "stream",
     "text": [
      "Validation accuracy: 76.52\n",
      "Fitness calculated: 76.52\n",
      "\n",
      "\n",
      "\n",
      "Fittest in phase 2 and generation 0: 76.52\n",
      "\n",
      "\n"
     ]
    },
    {
     "name": "stderr",
     "output_type": "stream",
     "text": [
      "epoch 0 loss=0.8459030389785767 batch_id=781: 100%|██████████| 782/782 [00:06<00:00, 128.82it/s] \n"
     ]
    },
    {
     "name": "stdout",
     "output_type": "stream",
     "text": [
      "Validation accuracy: 75.75\n",
      "Fitness calculated: 75.75\n"
     ]
    },
    {
     "name": "stderr",
     "output_type": "stream",
     "text": [
      "epoch 0 loss=0.7185108661651611 batch_id=781: 100%|██████████| 782/782 [00:06<00:00, 129.15it/s] \n"
     ]
    },
    {
     "name": "stdout",
     "output_type": "stream",
     "text": [
      "Validation accuracy: 76.47\n",
      "Fitness calculated: 76.47\n"
     ]
    },
    {
     "name": "stderr",
     "output_type": "stream",
     "text": [
      "epoch 0 loss=0.427661269903183 batch_id=781: 100%|██████████| 782/782 [00:05<00:00, 131.06it/s]  \n"
     ]
    },
    {
     "name": "stdout",
     "output_type": "stream",
     "text": [
      "Validation accuracy: 76.78\n",
      "Fitness calculated: 76.78\n"
     ]
    },
    {
     "name": "stderr",
     "output_type": "stream",
     "text": [
      "epoch 0 loss=0.8130214214324951 batch_id=781: 100%|██████████| 782/782 [00:11<00:00, 68.19it/s] \n"
     ]
    },
    {
     "name": "stdout",
     "output_type": "stream",
     "text": [
      "Validation accuracy: 75.27\n",
      "Fitness calculated: 75.27\n"
     ]
    },
    {
     "name": "stderr",
     "output_type": "stream",
     "text": [
      "epoch 0 loss=0.43137115240097046 batch_id=781: 100%|██████████| 782/782 [00:05<00:00, 132.92it/s]\n"
     ]
    },
    {
     "name": "stdout",
     "output_type": "stream",
     "text": [
      "Validation accuracy: 76.18\n",
      "Fitness calculated: 76.18\n"
     ]
    },
    {
     "name": "stderr",
     "output_type": "stream",
     "text": [
      "epoch 0 loss=0.43535691499710083 batch_id=781: 100%|██████████| 782/782 [00:11<00:00, 68.21it/s]\n"
     ]
    },
    {
     "name": "stdout",
     "output_type": "stream",
     "text": [
      "Validation accuracy: 75.58\n",
      "Fitness calculated: 75.58\n"
     ]
    },
    {
     "name": "stderr",
     "output_type": "stream",
     "text": [
      "epoch 0 loss=0.704795241355896 batch_id=781: 100%|██████████| 782/782 [00:06<00:00, 127.52it/s]  \n"
     ]
    },
    {
     "name": "stdout",
     "output_type": "stream",
     "text": [
      "Validation accuracy: 77.05\n",
      "Fitness calculated: 77.05\n",
      "\n",
      "\n",
      "\n",
      "Fittest in phase 2 and generation 1: 77.05\n",
      "\n",
      "\n"
     ]
    },
    {
     "name": "stderr",
     "output_type": "stream",
     "text": [
      "epoch 0 loss=0.39190438389778137 batch_id=781: 100%|██████████| 782/782 [00:11<00:00, 69.81it/s]\n"
     ]
    },
    {
     "name": "stdout",
     "output_type": "stream",
     "text": [
      "Validation accuracy: 76.87\n",
      "Fitness calculated: 76.87\n"
     ]
    },
    {
     "name": "stderr",
     "output_type": "stream",
     "text": [
      "epoch 0 loss=0.47354963421821594 batch_id=781: 100%|██████████| 782/782 [00:11<00:00, 70.75it/s]\n"
     ]
    },
    {
     "name": "stdout",
     "output_type": "stream",
     "text": [
      "Validation accuracy: 76.3\n",
      "Fitness calculated: 76.3\n"
     ]
    },
    {
     "name": "stderr",
     "output_type": "stream",
     "text": [
      "epoch 0 loss=1.2367502450942993 batch_id=781: 100%|██████████| 782/782 [00:11<00:00, 68.13it/s] \n"
     ]
    },
    {
     "name": "stdout",
     "output_type": "stream",
     "text": [
      "Validation accuracy: 76.36\n",
      "Fitness calculated: 76.36\n"
     ]
    },
    {
     "name": "stderr",
     "output_type": "stream",
     "text": [
      "epoch 0 loss=0.6782707571983337 batch_id=781: 100%|██████████| 782/782 [00:10<00:00, 72.50it/s] \n"
     ]
    },
    {
     "name": "stdout",
     "output_type": "stream",
     "text": [
      "Validation accuracy: 76.74\n",
      "Fitness calculated: 76.74\n"
     ]
    },
    {
     "name": "stderr",
     "output_type": "stream",
     "text": [
      "epoch 0 loss=0.6299311518669128 batch_id=781: 100%|██████████| 782/782 [00:10<00:00, 73.06it/s] \n"
     ]
    },
    {
     "name": "stdout",
     "output_type": "stream",
     "text": [
      "Validation accuracy: 77.33\n",
      "Fitness calculated: 77.33\n"
     ]
    },
    {
     "name": "stderr",
     "output_type": "stream",
     "text": [
      "epoch 0 loss=0.46156448125839233 batch_id=781: 100%|██████████| 782/782 [00:11<00:00, 68.34it/s]\n"
     ]
    },
    {
     "name": "stdout",
     "output_type": "stream",
     "text": [
      "Validation accuracy: 76.11\n",
      "Fitness calculated: 76.11\n"
     ]
    },
    {
     "name": "stderr",
     "output_type": "stream",
     "text": [
      "epoch 0 loss=0.7678913474082947 batch_id=781: 100%|██████████| 782/782 [00:10<00:00, 71.87it/s] \n"
     ]
    },
    {
     "name": "stdout",
     "output_type": "stream",
     "text": [
      "Validation accuracy: 76.73\n",
      "Fitness calculated: 76.73\n",
      "\n",
      "\n",
      "\n",
      "Fittest in phase 2 and generation 2: 77.33\n",
      "\n",
      "\n",
      "Fittest in phase 2 = 77.33\n",
      "\n",
      "\n"
     ]
    },
    {
     "name": "stderr",
     "output_type": "stream",
     "text": [
      "epoch 0 loss=0.4934515655040741 batch_id=781: 100%|██████████| 782/782 [00:11<00:00, 70.80it/s] \n"
     ]
    },
    {
     "name": "stdout",
     "output_type": "stream",
     "text": [
      "Validation accuracy: 77.13\n",
      "Fitness calculated: 77.13\n"
     ]
    },
    {
     "name": "stderr",
     "output_type": "stream",
     "text": [
      "epoch 0 loss=0.5708448886871338 batch_id=781: 100%|██████████| 782/782 [00:11<00:00, 69.32it/s] \n"
     ]
    },
    {
     "name": "stdout",
     "output_type": "stream",
     "text": [
      "Validation accuracy: 76.44\n",
      "Fitness calculated: 76.44\n"
     ]
    },
    {
     "name": "stderr",
     "output_type": "stream",
     "text": [
      "epoch 0 loss=0.3829769194126129 batch_id=781: 100%|██████████| 782/782 [00:05<00:00, 132.51it/s] \n"
     ]
    },
    {
     "name": "stdout",
     "output_type": "stream",
     "text": [
      "Validation accuracy: 77.79\n",
      "Fitness calculated: 77.79\n"
     ]
    },
    {
     "name": "stderr",
     "output_type": "stream",
     "text": [
      "epoch 0 loss=0.23362997174263 batch_id=781: 100%|██████████| 782/782 [00:10<00:00, 71.42it/s]   \n"
     ]
    },
    {
     "name": "stdout",
     "output_type": "stream",
     "text": [
      "Validation accuracy: 76.51\n",
      "Fitness calculated: 76.51\n"
     ]
    },
    {
     "name": "stderr",
     "output_type": "stream",
     "text": [
      "epoch 0 loss=0.2683238089084625 batch_id=781: 100%|██████████| 782/782 [00:05<00:00, 133.10it/s] \n"
     ]
    },
    {
     "name": "stdout",
     "output_type": "stream",
     "text": [
      "Validation accuracy: 76.24\n",
      "Fitness calculated: 76.24\n"
     ]
    },
    {
     "name": "stderr",
     "output_type": "stream",
     "text": [
      "epoch 0 loss=0.4708569347858429 batch_id=781: 100%|██████████| 782/782 [00:10<00:00, 71.30it/s] \n"
     ]
    },
    {
     "name": "stdout",
     "output_type": "stream",
     "text": [
      "Validation accuracy: 76.24\n",
      "Fitness calculated: 76.24\n"
     ]
    },
    {
     "name": "stderr",
     "output_type": "stream",
     "text": [
      "epoch 0 loss=0.33667871356010437 batch_id=781: 100%|██████████| 782/782 [00:11<00:00, 70.02it/s]\n"
     ]
    },
    {
     "name": "stdout",
     "output_type": "stream",
     "text": [
      "Validation accuracy: 77.13\n",
      "Fitness calculated: 77.13\n"
     ]
    },
    {
     "name": "stderr",
     "output_type": "stream",
     "text": [
      "epoch 0 loss=0.33585432171821594 batch_id=781: 100%|██████████| 782/782 [00:11<00:00, 68.96it/s]\n"
     ]
    },
    {
     "name": "stdout",
     "output_type": "stream",
     "text": [
      "Validation accuracy: 76.34\n",
      "Fitness calculated: 76.34\n"
     ]
    },
    {
     "name": "stderr",
     "output_type": "stream",
     "text": [
      "epoch 0 loss=0.30893516540527344 batch_id=781: 100%|██████████| 782/782 [00:11<00:00, 66.21it/s]\n"
     ]
    },
    {
     "name": "stdout",
     "output_type": "stream",
     "text": [
      "Validation accuracy: 76.43\n",
      "Fitness calculated: 76.43\n"
     ]
    },
    {
     "name": "stderr",
     "output_type": "stream",
     "text": [
      "epoch 0 loss=0.9664849042892456 batch_id=781: 100%|██████████| 782/782 [00:11<00:00, 69.68it/s] \n"
     ]
    },
    {
     "name": "stdout",
     "output_type": "stream",
     "text": [
      "Validation accuracy: 76.24\n",
      "Fitness calculated: 76.24\n"
     ]
    }
   ],
   "source": [
    "num_phases = 3\n",
    "num_generations = 3\n",
    "\n",
    "fitness_history = []\n",
    "\n",
    "for p in range(num_phases):\n",
    "    for g in range(num_generations):\n",
    "        generation.generate()\n",
    "        print(f\"Fittest in phase {p} and generation {g}: {generation.find_fittest().fitness}\\n\\n\")\n",
    "        fitness_history.append({\"p\": p, \"g\": g, \"fittest\": generation.find_fittest().fitness})\n",
    "    print(f\"Fittest in phase {p} = {generation.find_fittest().fitness}\\n\\n\")\n",
    "    generation = Generation(0.3, 0.1,0.1, 10, p+1, SEARCH_SPACE, generation.find_fittest(), train_loader, test_loader)"
   ]
  },
  {
   "cell_type": "code",
   "execution_count": 9,
   "metadata": {},
   "outputs": [
    {
     "name": "stdout",
     "output_type": "stream",
     "text": [
      "{'k_size_a': 3, 'k_size_b': 3, 'out_channels_a': 16, 'out_channels_b': 32, 'include_pool_a': False, 'include_pool_b': False, 'pool_type_a': 'avg_pooling', 'pool_type_b': 'avg_pooling', 'activation_type_a': 'selu', 'activation_type_b': 'elu', 'include_b': False, 'include_BN_a': False, 'include_BN_b': False, 'skip_connection': False}\n"
     ]
    },
    {
     "name": "stderr",
     "output_type": "stream",
     "text": [
      "epoch 0 loss=0.38444438576698303 batch_id=781: 100%|██████████| 782/782 [00:11<00:00, 68.85it/s]\n"
     ]
    },
    {
     "name": "stdout",
     "output_type": "stream",
     "text": [
      "Validation accuracy: 76.14\n",
      "Fitness calculated: 76.14\n"
     ]
    }
   ],
   "source": [
    "# num_generations = 2\n",
    "# print(\"Initial population size: \", 10)\n",
    "# for g in range(1, num_generations+1):\n",
    "#     generation.generate()\n",
    "#     fittest = generation.find_fittest()\n",
    "#     print(f\"Max fitness in generation {g} is {fittest.fitness}\")\n",
    "#     print(f\"Population size: {generation.pop_size}\")\n",
    "random_genes = {\n",
    "    'k_size_a': 3,\n",
    "    'k_size_b': 3,\n",
    "    'out_channels_a': 16,\n",
    "    'out_channels_b': 16,\n",
    "    'include_pool_a': True,\n",
    "    'include_pool_b': True,\n",
    "    'pool_type_a': 'max_pooling',\n",
    "    'pool_type_b': 'max_pooling',\n",
    "    'activation_type_a': 'relu',\n",
    "    'activation_type_b': 'relu',\n",
    "    'include_b': True,\n",
    "    'include_BN_a': True,\n",
    "    'include_BN_b': True,\n",
    "    'skip_connection': True,\n",
    "}\n",
    "print(generation.find_fittest().genes)\n",
    "test = Chromosome(1,generation.find_fittest(),random_genes,train_loader,test_loader)"
   ]
  },
  {
   "cell_type": "code",
   "execution_count": 10,
   "metadata": {},
   "outputs": [
    {
     "data": {
      "text/plain": [
       "77.79"
      ]
     },
     "execution_count": 10,
     "metadata": {},
     "output_type": "execute_result"
    }
   ],
   "source": [
    "generation.find_fittest().fitness"
   ]
  },
  {
   "cell_type": "code",
   "execution_count": 13,
   "metadata": {},
   "outputs": [
    {
     "data": {
      "text/plain": [
       "Sequential(\n",
       "  (0): Sequential(\n",
       "    (0): Sequential(\n",
       "      (0): Sequential(\n",
       "        (0): Conv2d(3, 64, kernel_size=(3, 3), stride=(1, 1))\n",
       "        (1): Tanh()\n",
       "        (2): BatchNorm2d(64, eps=1e-05, momentum=0.1, affine=True, track_running_stats=True)\n",
       "        (3): Conv2d(64, 32, kernel_size=(5, 5), stride=(1, 1))\n",
       "        (4): ReLU()\n",
       "        (5): MaxPool2d(kernel_size=2, stride=2, padding=0, dilation=1, ceil_mode=False)\n",
       "        (6): BatchNorm2d(32, eps=1e-05, momentum=0.1, affine=True, track_running_stats=True)\n",
       "      )\n",
       "      (1): Conv2d(32, 32, kernel_size=(5, 5), stride=(1, 1), padding=(2, 2))\n",
       "      (2): ReLU()\n",
       "    )\n",
       "    (1): Conv2d(32, 16, kernel_size=(1, 1), stride=(1, 1))\n",
       "    (2): Tanh()\n",
       "  )\n",
       "  (1): Conv2d(16, 16, kernel_size=(3, 3), stride=(1, 1))\n",
       "  (2): Tanh()\n",
       ")"
      ]
     },
     "execution_count": 13,
     "metadata": {},
     "output_type": "execute_result"
    }
   ],
   "source": [
    "generation.find_fittest().model"
   ]
  },
  {
   "cell_type": "code",
   "execution_count": 11,
   "metadata": {},
   "outputs": [
    {
     "name": "stdout",
     "output_type": "stream",
     "text": [
      "77.79\n",
      "77.13\n",
      "77.13\n",
      "76.51\n",
      "76.44\n",
      "76.43\n",
      "76.34\n",
      "76.24\n",
      "76.24\n",
      "76.24\n"
     ]
    }
   ],
   "source": [
    "for i in generation.pop:\n",
    "    print(i.fitness)"
   ]
  },
  {
   "cell_type": "code",
   "execution_count": 19,
   "metadata": {},
   "outputs": [],
   "source": [
    "l = []\n",
    "\n",
    "for i in fitness_history:\n",
    "    l.append(i['fittest'])"
   ]
  },
  {
   "cell_type": "code",
   "execution_count": 20,
   "metadata": {},
   "outputs": [
    {
     "data": {
      "image/png": "[encoded data removed]",
      "text/plain": [
       "<Figure size 640x480 with 1 Axes>"
      ]
     },
     "metadata": {},
     "output_type": "display_data"
    }
   ],
   "source": [
    "import matplotlib.pyplot as plt\n",
    "\n",
    "plt.plot(l)\n",
    "plt.show()"
   ]
  },
  {
   "cell_type": "code",
   "execution_count": null,
   "metadata": {},
   "outputs": [],
   "source": []
  }
 ],
 "metadata": {
  "kernelspec": {
   "display_name": "dl-project",
   "language": "python",
   "name": "python3"
  },
  "language_info": {
   "codemirror_mode": {
    "name": "ipython",
    "version": 3
   },
   "file_extension": ".py",
   "mimetype": "text/x-python",
   "name": "python",
   "nbconvert_exporter": "python",
   "pygments_lexer": "ipython3",
   "version": "3.10.12"
  }
 },
 "nbformat": 4,
 "nbformat_minor": 2
}
